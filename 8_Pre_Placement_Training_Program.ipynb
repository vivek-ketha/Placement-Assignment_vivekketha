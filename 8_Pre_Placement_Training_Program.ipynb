{
  "nbformat": 4,
  "nbformat_minor": 0,
  "metadata": {
    "colab": {
      "provenance": []
    },
    "kernelspec": {
      "name": "python3",
      "display_name": "Python 3"
    },
    "language_info": {
      "name": "python"
    }
  },
  "cells": [
    {
      "cell_type": "markdown",
      "source": [
        "<aside>\n",
        "💡 **Question 1**\n",
        "\n",
        "Given two strings s1 and s2, return *the lowest **ASCII** sum of deleted characters to make two strings equal*.\n",
        "\n",
        "**Example 1:**\n",
        "\n",
        "**Input:** s1 = \"sea\", s2 = \"eat\"\n",
        "\n",
        "**Output:** 231\n",
        "\n",
        "**Explanation:** Deleting \"s\" from \"sea\" adds the ASCII value of \"s\" (115) to the sum.\n",
        "\n",
        "Deleting \"t\" from \"eat\" adds 116 to the sum.\n",
        "\n",
        "At the end, both strings are equal, and 115 + 116 = 231 is the minimum sum possible to achieve this.\n",
        "\n",
        "</aside>"
      ],
      "metadata": {
        "id": "ivmoydE2mMlJ"
      }
    },
    {
      "cell_type": "code",
      "execution_count": 9,
      "metadata": {
        "id": "EgrqXLSIOkOP"
      },
      "outputs": [],
      "source": [
        "def minimumDeleteSum(s1, s2):\n",
        "    \"\"\"\n",
        "    :type s1: str\n",
        "    :type s2: str\n",
        "    :rtype: int\n",
        "    \"\"\"\n",
        "    dp = [[0] * (len(s2)+1) for _ in range(2)]\n",
        "    for j in range(len(s2)):\n",
        "        dp[0][j+1] = dp[0][j] + ord(s2[j])\n",
        "\n",
        "    for i in range(len(s1)):\n",
        "        dp[(i+1)%2][0] = dp[i%2][0] + ord(s1[i])\n",
        "        for j in range(len(s2)):\n",
        "            if s1[i] == s2[j]:\n",
        "                dp[(i+1)%2][j+1] = dp[i%2][j]\n",
        "            else:\n",
        "                dp[(i+1)%2][j+1] = min(dp[i%2][j+1] + ord(s1[i]), \\\n",
        "                                        dp[(i+1)%2][j] + ord(s2[j]))\n",
        "\n",
        "    return dp[len(s1)%2][-1]"
      ]
    },
    {
      "cell_type": "code",
      "source": [
        "minimumDeleteSum(s1 = \"sea\", s2 = \"eat\")"
      ],
      "metadata": {
        "colab": {
          "base_uri": "https://localhost:8080/"
        },
        "id": "UPKN-me_nsmI",
        "outputId": "b75034af-f659-4a45-d329-fe1c411bec3a"
      },
      "execution_count": 10,
      "outputs": [
        {
          "output_type": "execute_result",
          "data": {
            "text/plain": [
              "231"
            ]
          },
          "metadata": {},
          "execution_count": 10
        }
      ]
    },
    {
      "cell_type": "markdown",
      "source": [
        "<aside>\n",
        "💡 **Question 2**\n",
        "\n",
        "Given a string s containing only three types of characters: '(', ')' and '*', return true *if* s *is **valid***.\n",
        "\n",
        "The following rules define a **valid** string:\n",
        "\n",
        "- Any left parenthesis '(' must have a corresponding right parenthesis ')'.\n",
        "- Any right parenthesis ')' must have a corresponding left parenthesis '('.\n",
        "- Left parenthesis '(' must go before the corresponding right parenthesis ')'.\n",
        "- '*' could be treated as a single right parenthesis ')' or a single left parenthesis '(' or an empty string \"\".\n",
        "\n",
        "**Example 1:**\n",
        "\n",
        "**Input:** s = \"()\"\n",
        "\n",
        "**Output:**\n",
        "\n",
        "true\n",
        "\n",
        "</aside>"
      ],
      "metadata": {
        "id": "NqlQTriKo2a4"
      }
    },
    {
      "cell_type": "code",
      "source": [
        "def is_valid_parentheses(s):\n",
        "    stack = []\n",
        "    mapping = {\")\": \"(\", \"}\": \"{\", \"]\": \"[\"}\n",
        "    for char in s:\n",
        "        if char in mapping:\n",
        "            top_element = stack.pop() if stack else '#'\n",
        "            if mapping[char] != top_element:\n",
        "                return False\n",
        "        else:\n",
        "            stack.append(char)\n",
        "    return not stack"
      ],
      "metadata": {
        "id": "DBicckSQnwSZ"
      },
      "execution_count": 12,
      "outputs": []
    },
    {
      "cell_type": "code",
      "source": [
        "is_valid_parentheses(s = \"()\")"
      ],
      "metadata": {
        "colab": {
          "base_uri": "https://localhost:8080/"
        },
        "id": "B6l0r0Vmpl50",
        "outputId": "5176face-cff1-4282-d2f4-2c542058223c"
      },
      "execution_count": 13,
      "outputs": [
        {
          "output_type": "execute_result",
          "data": {
            "text/plain": [
              "True"
            ]
          },
          "metadata": {},
          "execution_count": 13
        }
      ]
    },
    {
      "cell_type": "markdown",
      "source": [
        "<aside>\n",
        "💡 **Question 3**\n",
        "\n",
        "Given two strings word1 and word2, return *the minimum number of **steps** required to make* word1 *and* word2 *the same*.\n",
        "\n",
        "In one **step**, you can delete exactly one character in either string.\n",
        "\n",
        "**Example 1:**\n",
        "\n",
        "**Input:** word1 = \"sea\", word2 = \"eat\"\n",
        "\n",
        "**Output:** 2\n",
        "\n",
        "**Explanation:** You need one step to make \"sea\" to \"ea\" and another step to make \"eat\" to \"ea\".\n",
        "\n",
        "</aside>"
      ],
      "metadata": {
        "id": "-i4MYaLTptaA"
      }
    },
    {
      "cell_type": "code",
      "source": [
        "def minDistance(W1: str, W2: str) -> int:\n",
        "    m, n = len(W1), len(W2)\n",
        "    if m < n: W1, W2, m, n = W2, W1, n, m\n",
        "    dpLast, dpCurr = [0] * (n + 1), [0] * (n + 1)\n",
        "    for c1 in W1:\n",
        "        for j in range(n):\n",
        "            dpCurr[j+1] = dpLast[j] + 1 if c1 == W2[j] else max(dpCurr[j], dpLast[j+1])\n",
        "        dpLast, dpCurr = dpCurr, dpLast\n",
        "    return m + n - 2 * dpLast[n]"
      ],
      "metadata": {
        "id": "r1_A5mEcppUR"
      },
      "execution_count": 14,
      "outputs": []
    },
    {
      "cell_type": "code",
      "source": [
        "minDistance(W1= 'sea', W2= 'eat')"
      ],
      "metadata": {
        "colab": {
          "base_uri": "https://localhost:8080/"
        },
        "id": "dsBr4TgPqBZh",
        "outputId": "c49aba7b-a962-4644-cc03-bcb6202b0a8b"
      },
      "execution_count": 15,
      "outputs": [
        {
          "output_type": "execute_result",
          "data": {
            "text/plain": [
              "2"
            ]
          },
          "metadata": {},
          "execution_count": 15
        }
      ]
    },
    {
      "cell_type": "markdown",
      "source": [
        "<aside>\n",
        "💡 **Question 4**\n",
        "\n",
        "You need to construct a binary tree from a string consisting of parenthesis and integers.\n",
        "\n",
        "The whole input represents a binary tree. It contains an integer followed by zero, one or two pairs of parenthesis. The integer represents the root's value and a pair of parenthesis contains a child binary tree with the same structure.\n",
        "You always start to construct the **left** child node of the parent first if it exists.\n",
        "\n",
        "</aside>\n",
        "**Input:** s = \"4(2(3)(1))(6(5))\"\n",
        "\n",
        "**Output:** [4,2,6,3,1,5]"
      ],
      "metadata": {
        "id": "5YfGxCZlqMHl"
      }
    },
    {
      "cell_type": "code",
      "source": [
        "# Python3 program to conStruct a\n",
        "# binary tree from the given String\n",
        "\n",
        "# Helper class that allocates a new node\n",
        "\n",
        "\n",
        "class newNode:\n",
        "\tdef __init__(self, data):\n",
        "\t\tself.data = data\n",
        "\t\tself.left = self.right = None\n",
        "\n",
        "# This function is here just to test\n",
        "\n",
        "\n",
        "def preOrder(node):\n",
        "\tif (node == None):\n",
        "\t\treturn\n",
        "\tprint(node.data, end=' ')\n",
        "\tpreOrder(node.left)\n",
        "\tpreOrder(node.right)\n",
        "\n",
        "# function to return the index of\n",
        "# close parenthesis\n",
        "\n",
        "\n",
        "def findIndex(Str, si, ei):\n",
        "\tif (si > ei):\n",
        "\t\treturn -1\n",
        "\n",
        "\t# Inbuilt stack\n",
        "\ts = []\n",
        "\tfor i in range(si, ei + 1):\n",
        "\n",
        "\t\t# if open parenthesis, push it\n",
        "\t\tif (Str[i] == '('):\n",
        "\t\t\ts.append(Str[i])\n",
        "\n",
        "\t\t# if close parenthesis\n",
        "\t\telif (Str[i] == ')'):\n",
        "\t\t\tif (s[-1] == '('):\n",
        "\t\t\t\ts.pop(-1)\n",
        "\n",
        "\t\t\t\t# if stack is empty, this is\n",
        "\t\t\t\t# the required index\n",
        "\t\t\t\tif len(s) == 0:\n",
        "\t\t\t\t\treturn i\n",
        "\t# if not found return -1\n",
        "\treturn -1\n",
        "\n",
        "# function to conStruct tree from String\n",
        "\n",
        "\n",
        "def treeFromString(Str, si, ei):\n",
        "\n",
        "\t# Base case\n",
        "\tif (si > ei):\n",
        "\t\treturn None\n",
        "\n",
        "\t# new root\n",
        "\troot = newNode(ord(Str[si]) - ord('0'))\n",
        "\tindex = -1\n",
        "\n",
        "\t# if next char is '(' find the\n",
        "\t# index of its complement ')'\n",
        "\tif (si + 1 <= ei and Str[si + 1] == '('):\n",
        "\t\tindex = findIndex(Str, si + 1, ei)\n",
        "\n",
        "\t# if index found\n",
        "\tif (index != -1):\n",
        "\n",
        "\t\t# call for left subtree\n",
        "\t\troot.left = treeFromString(Str, si + 2,\n",
        "\t\t\t\t\t\t\t\tindex - 1)\n",
        "\n",
        "\t\t# call for right subtree\n",
        "\t\troot.right = treeFromString(Str, index + 2,\n",
        "\t\t\t\t\t\t\t\t\tei - 1)\n",
        "\treturn root\n",
        "\n",
        "\n",
        "# Driver Code\n",
        "if __name__ == '__main__':\n",
        "\tStr = \"4(2(3)(1))(6(5))\"\n",
        "\troot = treeFromString(Str, 0, len(Str) - 1)\n",
        "\tpreOrder(root)\n",
        "\n"
      ],
      "metadata": {
        "colab": {
          "base_uri": "https://localhost:8080/"
        },
        "id": "QMCw725FqI39",
        "outputId": "e8353df7-318f-4c35-8d23-3fd7d514ec39"
      },
      "execution_count": 16,
      "outputs": [
        {
          "output_type": "stream",
          "name": "stdout",
          "text": [
            "4 2 3 1 6 5 "
          ]
        }
      ]
    },
    {
      "cell_type": "markdown",
      "source": [
        "<aside>\n",
        "💡 **Question 5**\n",
        "\n",
        "Given an array of characters chars, compress it using the following algorithm:\n",
        "\n",
        "Begin with an empty string s. For each group of **consecutive repeating characters** in chars:\n",
        "\n",
        "- If the group's length is 1, append the character to s.\n",
        "- Otherwise, append the character followed by the group's length.\n",
        "\n",
        "The compressed string s **should not be returned separately**, but instead, be stored **in the input character array chars**. Note that group lengths that are 10 or longer will be split into multiple characters in chars.\n",
        "\n",
        "After you are done **modifying the input array,** return *the new length of the array*.\n",
        "\n",
        "You must write an algorithm that uses only constant extra space.\n",
        "\n",
        "**Example 1:**\n",
        "\n",
        "**Input:** chars = [\"a\",\"a\",\"b\",\"b\",\"c\",\"c\",\"c\"]\n",
        "\n",
        "**Output:** Return 6, and the first 6 characters of the input array should be: [\"a\",\"2\",\"b\",\"2\",\"c\",\"3\"]\n",
        "\n",
        "**Explanation:**\n",
        "\n",
        "The groups are \"aa\", \"bb\", and \"ccc\". This compresses to \"a2b2c3\".\n",
        "\n",
        "</aside>"
      ],
      "metadata": {
        "id": "KoPXm7wYqk3U"
      }
    },
    {
      "cell_type": "code",
      "source": [
        "def compress(array: list[str]) -> int:\n",
        "  ans=[]\n",
        "  i=0\n",
        "  while i < len(array):\n",
        "      temp=array[i]\n",
        "      count=i+1\n",
        "      while count<len(array)and array[count]==temp:\n",
        "          count+=1\n",
        "          if count==len(array):\n",
        "              break\n",
        "      ans.append(temp)\n",
        "      if count-i>1 and count-i<10:\n",
        "          ans.append(str(count-i))\n",
        "      if count-i>9:\n",
        "          num=count-i\n",
        "          dup=[]\n",
        "          while num:\n",
        "              dup.append(str(num%10))\n",
        "              num//=10\n",
        "          for j in range(len(dup)-1,-1,-1):\n",
        "              ans.append(dup[j])\n",
        "      i=count\n",
        "  array.clear()\n",
        "  for i in range(len(ans)):\n",
        "      array.append(ans[i])\n",
        "  return len(ans)"
      ],
      "metadata": {
        "id": "_m-r2wNfqh49"
      },
      "execution_count": 22,
      "outputs": []
    },
    {
      "cell_type": "code",
      "source": [
        "compress( [\"a\",\"a\",\"b\",\"b\",\"c\",\"c\",\"c\"])"
      ],
      "metadata": {
        "colab": {
          "base_uri": "https://localhost:8080/"
        },
        "id": "adXK2wgUq32s",
        "outputId": "df8445c0-1ecb-4e09-ed34-6621e7516136"
      },
      "execution_count": 23,
      "outputs": [
        {
          "output_type": "execute_result",
          "data": {
            "text/plain": [
              "6"
            ]
          },
          "metadata": {},
          "execution_count": 23
        }
      ]
    },
    {
      "cell_type": "markdown",
      "source": [
        "<aside>\n",
        "💡 **Question 6**\n",
        "\n",
        "Given two strings s and p, return *an array of all the start indices of* p*'s anagrams in* s. You may return the answer in **any order**.\n",
        "\n",
        "An **Anagram** is a word or phrase formed by rearranging the letters of a different word or phrase, typically using all the original letters exactly once.\n",
        "\n",
        "**Example 1:**\n",
        "\n",
        "**Input:** s = \"cbaebabacd\", p = \"abc\"\n",
        "\n",
        "**Output:** [0,6]\n",
        "\n",
        "**Explanation:**\n",
        "\n",
        "The substring with start index = 0 is \"cba\", which is an anagram of \"abc\".\n",
        "\n",
        "The substring with start index = 6 is \"bac\", which is an anagram of \"abc\".\n",
        "\n",
        "</aside>"
      ],
      "metadata": {
        "id": "c5fk-gOGrWNj"
      }
    },
    {
      "cell_type": "code",
      "source": [
        "import collections\n",
        "def findAnagrams(s, p):\n",
        "  res = []\n",
        "  c = collections.Counter(p)\n",
        "  cur = collections.Counter(s[:len(p)])\n",
        "  for i in range(len(s)-len(p)+1):\n",
        "      if cur==c:\n",
        "          res.append(i)\n",
        "      if i == len(s)-len(p):\n",
        "          break\n",
        "      cur[s[i]]-=1\n",
        "      if cur[s[i]]==0:\n",
        "          del cur[s[i]]\n",
        "      cur[s[i+len(p)]]+=1\n",
        "  return res"
      ],
      "metadata": {
        "id": "vtAXhnP5q7tP"
      },
      "execution_count": 29,
      "outputs": []
    },
    {
      "cell_type": "code",
      "source": [
        "findAnagrams(s = \"cbaebabacd\", p = \"abc\")"
      ],
      "metadata": {
        "colab": {
          "base_uri": "https://localhost:8080/"
        },
        "id": "wDU5GUfLrlhy",
        "outputId": "31f71d6d-3183-49f2-bcc7-6b931fae6beb"
      },
      "execution_count": 30,
      "outputs": [
        {
          "output_type": "execute_result",
          "data": {
            "text/plain": [
              "[0, 6]"
            ]
          },
          "metadata": {},
          "execution_count": 30
        }
      ]
    },
    {
      "cell_type": "markdown",
      "source": [
        "<aside>\n",
        "💡 **Question 7**\n",
        "\n",
        "Given an encoded string, return its decoded string.\n",
        "\n",
        "The encoding rule is: k[encoded_string], where the encoded_string inside the square brackets is being repeated exactly k times. Note that k is guaranteed to be a positive integer.\n",
        "\n",
        "You may assume that the input string is always valid; there are no extra white spaces, square brackets are well-formed, etc. Furthermore, you may assume that the original data does not contain any digits and that digits are only for those repeat numbers, k. For example, there will not be input like 3a or 2[4].\n",
        "\n",
        "The test cases are generated so that the length of the output will never exceed 105.\n",
        "\n",
        "**Example 1:**\n",
        "\n",
        "**Input:** s = \"3[a]2[bc]\"\n",
        "\n",
        "**Output:** \"aaabcbc\"\n",
        "\n",
        "</aside>"
      ],
      "metadata": {
        "id": "OioDfz9jsMNS"
      }
    },
    {
      "cell_type": "code",
      "source": [
        "def decodeString(s: str) -> str:\n",
        "  num = 0\n",
        "  string = ''\n",
        "  stack = []\n",
        "  for c in s:\n",
        "      if c.isdigit():\n",
        "          num = num*10 + int(c)\n",
        "      elif c == \"[\":\n",
        "          stack.append(string)\n",
        "          stack.append(num)\n",
        "          string = ''\n",
        "          num = 0\n",
        "      elif c.isalpha():\n",
        "          string += c\n",
        "      elif c == ']':\n",
        "          pre_num = stack.pop()\n",
        "          pre_string = stack.pop()\n",
        "          string = pre_string + pre_num * string\n",
        "  return string"
      ],
      "metadata": {
        "id": "fdMLlLCZrorr"
      },
      "execution_count": 31,
      "outputs": []
    },
    {
      "cell_type": "code",
      "source": [
        "decodeString(s= \"3[a]2[bc]\")"
      ],
      "metadata": {
        "colab": {
          "base_uri": "https://localhost:8080/",
          "height": 36
        },
        "id": "qJcr9HnWsZfM",
        "outputId": "d9b2ce5d-7bff-4bda-dcab-91b9fd03508a"
      },
      "execution_count": 33,
      "outputs": [
        {
          "output_type": "execute_result",
          "data": {
            "text/plain": [
              "'aaabcbc'"
            ],
            "application/vnd.google.colaboratory.intrinsic+json": {
              "type": "string"
            }
          },
          "metadata": {},
          "execution_count": 33
        }
      ]
    },
    {
      "cell_type": "markdown",
      "source": [
        "<aside>\n",
        "💡 **Question 8**\n",
        "\n",
        "Given two strings s and goal, return true *if you can swap two letters in* s *so the result is equal to* goal*, otherwise, return* false*.*\n",
        "\n",
        "Swapping letters is defined as taking two indices i and j (0-indexed) such that i != j and swapping the characters at s[i] and s[j].\n",
        "\n",
        "- For example, swapping at indices 0 and 2 in \"abcd\" results in \"cbad\".\n",
        "\n",
        "**Example 1:**\n",
        "\n",
        "**Input:** s = \"ab\", goal = \"ba\"\n",
        "\n",
        "**Output:** true\n",
        "\n",
        "**Explanation:** You can swap s[0] = 'a' and s[1] = 'b' to get \"ba\", which is equal to goal.\n",
        "\n",
        "</aside>"
      ],
      "metadata": {
        "id": "5u8sO33Uskii"
      }
    },
    {
      "cell_type": "code",
      "source": [
        "def buddyStrings(s: str, goal: str) -> bool:\n",
        "  m, n = len(s), len(goal)\n",
        "  if m != n:\n",
        "      return False\n",
        "  cnt1, cnt2 = Counter(s), Counter(goal)\n",
        "  if cnt1 != cnt2:\n",
        "      return False\n",
        "  diff = sum(s[i] != goal[i] for i in range(n))\n",
        "  return diff == 2 or (diff == 0 and any(v > 1 for v in cnt1.values()))"
      ],
      "metadata": {
        "id": "QmLdG_k1shUV"
      },
      "execution_count": 35,
      "outputs": []
    },
    {
      "cell_type": "code",
      "source": [
        "buddyStrings(s = \"ab\", goal = \"ba\")"
      ],
      "metadata": {
        "colab": {
          "base_uri": "https://localhost:8080/"
        },
        "id": "5YJweTxetdIJ",
        "outputId": "740a7df1-41db-4a45-cfec-bb51e26e6413"
      },
      "execution_count": 37,
      "outputs": [
        {
          "output_type": "execute_result",
          "data": {
            "text/plain": [
              "True"
            ]
          },
          "metadata": {},
          "execution_count": 37
        }
      ]
    }
  ]
}