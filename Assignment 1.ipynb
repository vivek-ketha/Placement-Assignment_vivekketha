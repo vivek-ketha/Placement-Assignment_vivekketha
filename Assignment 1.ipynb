{
 "cells": [
  {
   "cell_type": "markdown",
   "id": "d1386279-6e86-4aa2-9ec3-3f750897b970",
   "metadata": {},
   "source": [
    "# Assignment 1 Questions - Arrays | DSA"
   ]
  },
  {
   "cell_type": "markdown",
   "id": "1f9852f9-46e1-4852-8b62-b9a8e9f34018",
   "metadata": {},
   "source": [
    "## Q1\n",
    "\n",
    "**Q1.** Given an array of integers nums and an integer target, return indices of the two numbers such that they add up to target.\n",
    "You may assume that each input would have exactly one solution, and you may not use the same element twice.\n",
    "You can return the answer in any order.\n",
    "\n",
    "**Example:**\n",
    "Input: nums = [2,7,11,15], target = 9\n",
    "Output0 [0,1]\n",
    "\n",
    "**Explanation:** Because nums[0] + nums[1] == 9, we return [0, 1][\n"
   ]
  },
  {
   "cell_type": "code",
   "execution_count": 1,
   "id": "739b5a0a-3c20-483c-bfa0-e39df1dcbfa3",
   "metadata": {},
   "outputs": [
    {
     "name": "stdout",
     "output_type": "stream",
     "text": [
      "[1, 2]\n"
     ]
    }
   ],
   "source": [
    "def twoSum(nums, target):\n",
    "    map = {}\n",
    "    \n",
    "    for i, num in enumerate(nums):\n",
    "        n = target - num\n",
    "        \n",
    "        if n in map:\n",
    "            return [map[n], i]\n",
    "            \n",
    "        map[num] = i\n",
    "        \n",
    "    return []\n",
    "\n",
    "nums   =[4,2,7,11,15]\n",
    "a=twoSum(nums,9)\n",
    "print(a)"
   ]
  },
  {
   "cell_type": "markdown",
   "id": "fea265f3-d60d-41f3-89fc-23084db18796",
   "metadata": {},
   "source": [
    "## Q2\n",
    " **Q2.** Given an integer array nums and an integer val, remove all occurrences of val in nums in-place. The order of the elements may be changed. Then return the number of elements in nums which are not equal to val.\n",
    "\n",
    "Consider the number of elements in nums which are not equal to val be k, to get accepted, you need to do the following things:\n",
    "\n",
    "- Change the array nums such that the first k elements of nums contain the elements which are not equal to val. The remaining elements of nums are not important as well as the size of nums.\n",
    "- Return k.\n",
    "\n",
    "**Example :**\n",
    "Input: nums = [3,2,2,3], val = 3\n",
    "Output: 2, nums = [2,2,_*,_*]\n",
    "\n",
    "**Explanation:** Your function should return k = 2, with the first two elements of nums being 2. It does not matter what you leave beyond the returned k (hence they are underscores)\n",
    "\n"
   ]
  },
  {
   "cell_type": "code",
   "execution_count": 7,
   "id": "1370d32f-b7e6-4ff3-8707-0840f5f6ab0a",
   "metadata": {},
   "outputs": [
    {
     "name": "stdout",
     "output_type": "stream",
     "text": [
      "7\n"
     ]
    }
   ],
   "source": [
    "def removeElement(nums, val) -> int:\n",
    "    j=0\n",
    "    for i in range(len(nums)):\n",
    "        if(nums[i] != val):\n",
    "            nums[j]=nums[i]\n",
    "            j+=1\n",
    "    return j\n",
    "\n",
    "nums = [3,2,2,3,5,7,8,42,3,2]\n",
    "val = 3\n",
    "print(removeElement(nums, val))"
   ]
  },
  {
   "cell_type": "markdown",
   "id": "8d7afd1d-26e4-463d-b22e-eda6d35b2ff4",
   "metadata": {},
   "source": [
    "## Q3\n",
    " **Q3.** Given a sorted array of distinct integers and a target value, return the index if the target is found. If not, return the index where it would be if it were inserted in order.\n",
    "You must write an algorithm with O(log n) runtime complexity.\n",
    "\n",
    "**Example 1:**\n",
    "Input: nums = [1,3,5,6], target = 5\n",
    "\n",
    "Output: 2"
   ]
  },
  {
   "cell_type": "code",
   "execution_count": 2,
   "id": "1df9a644-b45a-438d-bfb5-7326d05427e8",
   "metadata": {},
   "outputs": [
    {
     "name": "stdout",
     "output_type": "stream",
     "text": [
      "2\n"
     ]
    }
   ],
   "source": [
    "def searchInsert(nums, target) -> int:\n",
    "    left = 0\n",
    "    right = len(nums) - 1\n",
    "\n",
    "    while left <= right:\n",
    "        mid = (left + right) // 2\n",
    "        if nums[mid] == target:\n",
    "            return mid\n",
    "        elif nums[mid] < target:\n",
    "            left = mid + 1\n",
    "        else:\n",
    "            right = mid - 1\n",
    "\n",
    "    return left\n",
    "\n",
    "nums = [1,3,5,6]\n",
    "target = 5\n",
    "print(searchInsert(nums, target))\n"
   ]
  },
  {
   "cell_type": "markdown",
   "id": "bdc7fec1-fd87-4299-b97b-50c03c611513",
   "metadata": {},
   "source": [
    "## Q4\n",
    "**Q4.** You are given a large integer represented as an integer array digits, where each digits[i] is the ith digit of the integer. The digits are ordered from most significant to least significant in left-to-right order. The large integer does not contain any leading 0's.\n",
    "\n",
    "Increment the large integer by one and return the resulting array of digits.\n",
    "\n",
    "**Example 1:**\n",
    "Input: digits = [1,2,3]\n",
    "Output: [1,2,4]\n",
    "\n",
    "**Explanation:** The array represents the integer 123.\n",
    "\n",
    "Incrementing by one gives 123 + 1 = 124.\n",
    "Thus, the result should be [1,2,4]."
   ]
  },
  {
   "cell_type": "code",
   "execution_count": 4,
   "id": "1c08657c-b01c-457c-a7d7-f7e05707abf9",
   "metadata": {},
   "outputs": [
    {
     "name": "stdout",
     "output_type": "stream",
     "text": [
      "[1, 2, 4]\n"
     ]
    }
   ],
   "source": [
    "def plusOne(digits) -> list[int]:\n",
    "    for i in range(len(digits)-1,-1,-1):\n",
    "        digits[i] += 1\n",
    "        if digits[i] != 10:\n",
    "            return digits\n",
    "        digits[i] = 0\n",
    "    return [1] + digits\n",
    "\n",
    "digits = [1,2,3]\n",
    "print(plusOne(digits))"
   ]
  },
  {
   "cell_type": "markdown",
   "id": "13890241-61e2-47d8-9824-65b39d6f8328",
   "metadata": {},
   "source": [
    "## Q5\n",
    "**Q5.** You are given two integer arrays nums1 and nums2, sorted in non-decreasing order, and two integers m and n, representing the number of elements in nums1 and nums2 respectively.\n",
    "\n",
    "Merge nums1 and nums2 into a single array sorted in non-decreasing order.\n",
    "\n",
    "The final sorted array should not be returned by the function, but instead be stored inside the array nums1. To accommodate this, nums1 has a length of m + n, where the first m elements denote the elements that should be merged, and the last n elements are set to 0 and should be ignored. nums2 has a length of n.\n",
    "\n",
    "**Example 1:**\n",
    "Input: nums1 = [1,2,3,0,0,0], m = 3, nums2 = [2,5,6], n = 3\n",
    "Output: [1,2,2,3,5,6]\n",
    "\n",
    "**Explanation:** The arrays we are merging are [1,2,3] and [2,5,6].\n",
    "The result of the merge is [1,2,2,3,5,6] with the underlined elements coming from nums1.\n"
   ]
  },
  {
   "cell_type": "code",
   "execution_count": 2,
   "id": "717290bf-e0aa-42c8-ba57-6b54bc352e39",
   "metadata": {},
   "outputs": [
    {
     "name": "stdout",
     "output_type": "stream",
     "text": [
      "[1, 2, 2, 3, 5, 6]\n"
     ]
    }
   ],
   "source": [
    "def merge(nums1, m, nums2, n) -> None:    \n",
    "    i = m-1\n",
    "    j = n-1\n",
    "    k = m+n-1\n",
    "\n",
    "    while(i>=0 and j>=0):\n",
    "        if(nums1[i] > nums2[j]):\n",
    "            nums1[k] = nums1[i]\n",
    "            i -= 1\n",
    "        else:\n",
    "            nums1[k] = nums2[j]\n",
    "            j -= 1\n",
    "        k -= 1\n",
    "\n",
    "    while(j>=0):\n",
    "        nums1[k] = nums2[j]\n",
    "        j -= 1\n",
    "        k -= 1\n",
    "\n",
    "nums1 = [1,2,3,0,0,0]\n",
    "m = 3\n",
    "nums2 = [2,5,6]\n",
    "n = 3\n",
    "merge(nums1, m, nums2, n)\n",
    "print(nums1)"
   ]
  },
  {
   "cell_type": "markdown",
   "id": "ea848761-920e-407b-ba69-41b807b0248e",
   "metadata": {},
   "source": [
    "## Q6\n",
    "**Q6.** Given an integer array nums, return true if any value appears at least twice in the array, and return false if every element is distinct.\n",
    "\n",
    "**Example 1:**\n",
    "Input: nums = [1,2,3,1]\n",
    "\n",
    "Output: true"
   ]
  },
  {
   "cell_type": "code",
   "execution_count": 3,
   "id": "70399c2e-ccb8-4dfb-9fa6-8c01a4b3a05e",
   "metadata": {},
   "outputs": [
    {
     "name": "stdout",
     "output_type": "stream",
     "text": [
      "True\n"
     ]
    }
   ],
   "source": [
    "def containsDuplicate(nums) -> bool:\n",
    "    map = set()\n",
    "\n",
    "    for i in nums:\n",
    "        if i in map:\n",
    "            return True\n",
    "        map.add(i)\n",
    "    return False\n",
    "nums = [1,2,3,1]\n",
    "print(containsDuplicate(nums))"
   ]
  },
  {
   "cell_type": "code",
   "execution_count": 5,
   "id": "1719843d-201f-4c20-9d9d-f7d4710792bc",
   "metadata": {},
   "outputs": [
    {
     "name": "stdout",
     "output_type": "stream",
     "text": [
      "True\n"
     ]
    }
   ],
   "source": [
    "def containsDuplicate(nums) -> bool:\n",
    "    return (len(nums) > len(set(nums)))\n",
    "\n",
    "nums = [1,2,3,1]\n",
    "print(containsDuplicate(nums))"
   ]
  },
  {
   "cell_type": "markdown",
   "id": "cd701238-c5e1-40c2-8a06-cfcc91d78b42",
   "metadata": {},
   "source": [
    "## Q7\n",
    "**Q7.** Given an integer array nums, move all 0's to the end of it while maintaining the relative order of the nonzero elements.\n",
    "\n",
    "Note that you must do this in-place without making a copy of the array.\n",
    "\n",
    "**Example 1:**\n",
    "Input: nums = [0,1,0,3,12]\n",
    "Output: [1,3,12,0,0]"
   ]
  },
  {
   "cell_type": "code",
   "execution_count": null,
   "id": "5fbe84c1-79f0-418d-9e97-a133ea2614e5",
   "metadata": {},
   "outputs": [],
   "source": [
    "def moveZeroes(nums) -> None:\n",
    "    snow_ball = 0\n",
    "    for i in range(len(nums)):\n",
    "        if(nums[i]==0):\n",
    "            snow_ball += 1\n",
    "        elif(snow_ball > 0):\n",
    "            nums[i - snow_ball] = nums[i]\n",
    "            nums[i] = 0"
   ]
  },
  {
   "cell_type": "code",
   "execution_count": 8,
   "id": "b472f608-0527-4de6-8cb1-b4ce9b43766f",
   "metadata": {},
   "outputs": [
    {
     "name": "stdout",
     "output_type": "stream",
     "text": [
      "[1, 3, 12, 0, 0]\n"
     ]
    }
   ],
   "source": [
    "def moveZeroes(nums) -> None:\n",
    "    i = 0\n",
    "    j = 0\n",
    "\n",
    "    while j < len(nums):\n",
    "        if nums[j] != 0:\n",
    "            nums[i], nums[j] = nums[j], nums[i]\n",
    "            i += 1\n",
    "        j += 1\n",
    "nums = [0,1,0,3,12]\n",
    "moveZeroes(nums)\n",
    "print(nums)"
   ]
  },
  {
   "cell_type": "markdown",
   "id": "b7c42b6a-bd00-430c-a5f0-d86fd2f60893",
   "metadata": {},
   "source": [
    "## Q8\n",
    "**Q8.** You have a set of integers s, which originally contains all the numbers from 1 to n. Unfortunately, due to some error, one of the numbers in s got duplicated to another number in the set, which results in repetition of one number and loss of another number.\n",
    "\n",
    "You are given an integer array nums representing the data status of this set after the error.\n",
    "\n",
    "Find the number that occurs twice and the number that is missing and return them in the form of an array.\n",
    "\n",
    "**Example 1:**\n",
    "Input: nums = [1,2,2,4]\n",
    "Output: [2,3]"
   ]
  },
  {
   "cell_type": "code",
   "execution_count": 29,
   "id": "629fd3ed-b453-493c-a837-b16a348d8be0",
   "metadata": {},
   "outputs": [
    {
     "data": {
      "text/plain": [
       "[2, 3]"
      ]
     },
     "execution_count": 29,
     "metadata": {},
     "output_type": "execute_result"
    }
   ],
   "source": [
    "def findErrorNums(nums) ->int:\n",
    "        a = [sum(nums) - sum(set(nums))]\n",
    "        i = sum(range(1, len(nums)+1)) - sum(set(nums))\n",
    "        a.append(i)\n",
    "        return a\n",
    "\n",
    "nums = [1,2,2,4]\n",
    "findErrorNums(nums)"
   ]
  },
  {
   "cell_type": "code",
   "execution_count": 30,
   "id": "bc46828d-d873-4ee7-bfcb-266ef4eb6330",
   "metadata": {},
   "outputs": [
    {
     "name": "stdout",
     "output_type": "stream",
     "text": [
      "[2, 3]\n"
     ]
    }
   ],
   "source": [
    "def findErrorNums(nums) -> int:\n",
    "    dup = 0\n",
    "    mis = 0\n",
    "\n",
    "    for i in range(len(nums)):\n",
    "        if(nums[abs(nums[i]) - 1] < 0):\n",
    "            dup = abs(nums[i])\n",
    "        else:\n",
    "            nums[abs(nums[i]) - 1] *= (-1)\n",
    "\n",
    "    for i in range(len(nums)):\n",
    "        if nums[i] > 0:\n",
    "            mis = i+1\n",
    "            break\n",
    "\n",
    "    return [dup, mis]\n",
    "\n",
    "\n",
    "nums = [1,2,2,4]\n",
    "print(findErrorNums(nums))"
   ]
  },
  {
   "cell_type": "code",
   "execution_count": null,
   "id": "998cac56-3cca-4ad9-9c93-45d8cec5dc6a",
   "metadata": {},
   "outputs": [],
   "source": []
  }
 ],
 "metadata": {
  "kernelspec": {
   "display_name": "Python 3 (ipykernel)",
   "language": "python",
   "name": "python3"
  },
  "language_info": {
   "codemirror_mode": {
    "name": "ipython",
    "version": 3
   },
   "file_extension": ".py",
   "mimetype": "text/x-python",
   "name": "python",
   "nbconvert_exporter": "python",
   "pygments_lexer": "ipython3",
   "version": "3.10.6"
  }
 },
 "nbformat": 4,
 "nbformat_minor": 5
}
