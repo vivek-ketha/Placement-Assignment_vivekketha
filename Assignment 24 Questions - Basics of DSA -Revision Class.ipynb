{
 "cells": [
  {
   "cell_type": "markdown",
   "id": "a45e486d",
   "metadata": {},
   "source": [
    "1. **Roman to Integer**\n",
    "\n",
    "Roman numerals are represented by seven different symbols: `I`, `V`, `X`, `L`, `C`, `D` and `M`.\n",
    "\n",
    "```\n",
    "SymbolValue\n",
    "I             1\n",
    "V             5\n",
    "X             10\n",
    "L             50\n",
    "C             100\n",
    "D             500\n",
    "M             1000\n",
    "```\n",
    "\n",
    "For example, `2` is written as `II` in Roman numeral, just two ones added together. `12` is written as `XII`, which is simply `X + II`. The number `27` is written as `XXVII`, which is `XX + V + II`.\n",
    "\n",
    "Roman numerals are usually written largest to smallest from left to right. However, the numeral for four is not `IIII`. Instead, the number four is written as `IV`. Because the one is before the five we subtract it making four. The same principle applies to the number nine, which is written as `IX`. There are six instances where subtraction is used:\n",
    "\n",
    "- `I` can be placed before `V` (5) and `X` (10) to make 4 and 9.\n",
    "- `X` can be placed before `L` (50) and `C` (100) to make 40 and 90.\n",
    "- `C` can be placed before `D` (500) and `M` (1000) to make 400 and 900.\n",
    "\n",
    "Given a roman numeral, convert it to an integer.\n",
    "\n",
    "**Example 1:**\n",
    "\n",
    "```\n",
    "Input: s = \"III\"\n",
    "Output: 3\n",
    "Explanation: III = 3.\n",
    "```\n",
    "\n",
    "**Example 2:**\n",
    "\n",
    "```\n",
    "Input: s = \"LVIII\"\n",
    "Output: 58\n",
    "Explanation: L = 50, V= 5, III = 3.\n",
    "```\n",
    "\n",
    "**Constraints:**\n",
    "\n",
    "- `1 <= s.length <= 15`\n",
    "- `s` contains only the characters `('I', 'V', 'X', 'L', 'C', 'D', 'M')`.\n",
    "- It is **guaranteed** that `s` is a valid roman numeral in the range `[1, 3999]`.\n",
    "****\n"
   ]
  },
  {
   "cell_type": "code",
   "execution_count": 2,
   "id": "179435ac",
   "metadata": {},
   "outputs": [],
   "source": [
    "def roman_to_int(s):\n",
    "    roman_values = {\n",
    "        'I': 1,\n",
    "        'V': 5,\n",
    "        'X': 10,\n",
    "        'L': 50,\n",
    "        'C': 100,\n",
    "        'D': 500,\n",
    "        'M': 1000\n",
    "    }\n",
    "\n",
    "    total = 0\n",
    "    n = len(s)\n",
    "\n",
    "    for i in range(n):\n",
    "        if i < n - 1 and roman_values[s[i]] < roman_values[s[i+1]]:\n",
    "            total -= roman_values[s[i]]\n",
    "        else:\n",
    "            total += roman_values[s[i]]\n",
    "\n",
    "    return total\n",
    "\n",
    "\n"
   ]
  },
  {
   "cell_type": "code",
   "execution_count": 3,
   "id": "a885f6a8",
   "metadata": {},
   "outputs": [
    {
     "name": "stdout",
     "output_type": "stream",
     "text": [
      "Roman numeral: III\n",
      "Integer value: 3\n"
     ]
    }
   ],
   "source": [
    "# Example usage\n",
    "s = \"III\"\n",
    "result = roman_to_int(s)\n",
    "print(\"Roman numeral:\", s)\n",
    "print(\"Integer value:\", result)\n"
   ]
  },
  {
   "cell_type": "code",
   "execution_count": 4,
   "id": "7e83347e",
   "metadata": {},
   "outputs": [
    {
     "name": "stdout",
     "output_type": "stream",
     "text": [
      "Roman numeral: LVIII\n",
      "Integer value: 58\n"
     ]
    }
   ],
   "source": [
    "# Example usage\n",
    "s = \"LVIII\"\n",
    "result = roman_to_int(s)\n",
    "print(\"Roman numeral:\", s)\n",
    "print(\"Integer value:\", result)"
   ]
  },
  {
   "cell_type": "markdown",
   "id": "33ab0c22",
   "metadata": {},
   "source": [
    "2. **Longest Substring Without Repeating Characters**\n",
    "\n",
    "Given a string `s`, find the length of the **longest substring** without repeating characters.\n",
    "\n",
    "**Example 1:**\n",
    "\n",
    "```\n",
    "Input: s = \"abcabcbb\"\n",
    "Output: 3\n",
    "Explanation: The answer is \"abc\", with the length of 3.\n",
    "```\n",
    "\n",
    "**Example 2:**\n",
    "\n",
    "```\n",
    "Input: s = \"bbbbb\"\n",
    "Output: 1\n",
    "Explanation: The answer is \"b\", with the length of 1.\n",
    "```\n",
    "\n",
    "**Example 3:**\n",
    "\n",
    "```\n",
    "Input: s = \"pwwkew\"\n",
    "Output: 3\n",
    "Explanation: The answer is \"wke\", with the length of 3.\n",
    "Notice that the answer must be a substring, \"pwke\" is a subsequence and not a substring.\n",
    "```\n",
    "\n",
    "**Constraints:**\n",
    "\n",
    "- `0 <= s.length <= 50000`\n",
    "- `s` consists of English letters, digits, symbols and spaces.\n"
   ]
  },
  {
   "cell_type": "code",
   "execution_count": 6,
   "id": "29fae609",
   "metadata": {},
   "outputs": [],
   "source": [
    "def length_of_longest_substring(s):\n",
    "    char_set = set()\n",
    "    n = len(s)\n",
    "    start = end = 0\n",
    "    max_length = 0\n",
    "\n",
    "    while end < n:\n",
    "        if s[end] not in char_set:\n",
    "            char_set.add(s[end])\n",
    "            max_length = max(max_length, end - start + 1)\n",
    "            end += 1\n",
    "        else:\n",
    "            char_set.remove(s[start])\n",
    "            start += 1\n",
    "\n",
    "    return max_length\n",
    "\n"
   ]
  },
  {
   "cell_type": "code",
   "execution_count": 7,
   "id": "3eb67bd7",
   "metadata": {},
   "outputs": [
    {
     "name": "stdout",
     "output_type": "stream",
     "text": [
      "String: abcabcbb\n",
      "Length of longest substring without repeating characters: 3\n"
     ]
    }
   ],
   "source": [
    "# Example usage\n",
    "s = \"abcabcbb\"\n",
    "result = length_of_longest_substring(s)\n",
    "print(\"String:\", s)\n",
    "print(\"Length of longest substring without repeating characters:\", result)\n"
   ]
  },
  {
   "cell_type": "code",
   "execution_count": 8,
   "id": "d200e631",
   "metadata": {},
   "outputs": [
    {
     "name": "stdout",
     "output_type": "stream",
     "text": [
      "String: bbbbb\n",
      "Length of longest substring without repeating characters: 1\n"
     ]
    }
   ],
   "source": [
    "# Example usage\n",
    "s = \"bbbbb\"\n",
    "result = length_of_longest_substring(s)\n",
    "print(\"String:\", s)\n",
    "print(\"Length of longest substring without repeating characters:\", result)\n"
   ]
  },
  {
   "cell_type": "code",
   "execution_count": 9,
   "id": "fa186eeb",
   "metadata": {},
   "outputs": [
    {
     "name": "stdout",
     "output_type": "stream",
     "text": [
      "String: pwwkew\n",
      "Length of longest substring without repeating characters: 3\n"
     ]
    }
   ],
   "source": [
    "# Example usage\n",
    "s = \"pwwkew\"\n",
    "result = length_of_longest_substring(s)\n",
    "print(\"String:\", s)\n",
    "print(\"Length of longest substring without repeating characters:\", result)\n"
   ]
  },
  {
   "cell_type": "markdown",
   "id": "d6c3f394",
   "metadata": {},
   "source": [
    "3. **Majority Element**\n",
    "\n",
    "Given an array `nums` of size `n`, return *the majority element*.\n",
    "\n",
    "The majority element is the element that appears more than `⌊n / 2⌋` times. You may assume that the majority element always exists in the array.\n",
    "\n",
    "**Example 1:**\n",
    "\n",
    "```\n",
    "Input: nums = [3,2,3]\n",
    "Output: 3\n",
    "```\n",
    "\n",
    "**Example 2:**\n",
    "\n",
    "```\n",
    "Input: nums = [2,2,1,1,1,2,2]\n",
    "Output: 2\n",
    "```\n",
    "\n",
    "**Constraints:**\n",
    "\n",
    "- `n == nums.length`\n",
    "- `1 <= n <= 5 * 10^4`\n",
    "- `-10^9 <= nums[i] <= 10^9`\n"
   ]
  },
  {
   "cell_type": "code",
   "execution_count": 11,
   "id": "8def830d",
   "metadata": {},
   "outputs": [],
   "source": [
    "def majority_element(nums):\n",
    "    candidate = None\n",
    "    count = 0\n",
    "\n",
    "    for num in nums:\n",
    "        if count == 0:\n",
    "            candidate = num\n",
    "            count = 1\n",
    "        elif num == candidate:\n",
    "            count += 1\n",
    "        else:\n",
    "            count -= 1\n",
    "\n",
    "    count = 0\n",
    "    for num in nums:\n",
    "        if num == candidate:\n",
    "            count += 1\n",
    "\n",
    "    if count > len(nums) // 2:\n",
    "        return candidate\n",
    "\n",
    "    return None\n"
   ]
  },
  {
   "cell_type": "code",
   "execution_count": 12,
   "id": "97b6bbcb",
   "metadata": {},
   "outputs": [
    {
     "name": "stdout",
     "output_type": "stream",
     "text": [
      "Majority Element: 3\n"
     ]
    }
   ],
   "source": [
    "# Example usage\n",
    "nums = [3, 2, 3]\n",
    "result = majority_element(nums)\n",
    "print(\"Majority Element:\", result)\n"
   ]
  },
  {
   "cell_type": "code",
   "execution_count": 13,
   "id": "a68543c7",
   "metadata": {},
   "outputs": [
    {
     "name": "stdout",
     "output_type": "stream",
     "text": [
      "Majority Element: 2\n"
     ]
    }
   ],
   "source": [
    "# Example usage\n",
    "nums = [2,2,1,1,1,2,2]\n",
    "result = majority_element(nums)\n",
    "print(\"Majority Element:\", result)\n"
   ]
  },
  {
   "cell_type": "markdown",
   "id": "5fc01c92",
   "metadata": {},
   "source": [
    "4. **Group Anagram**\n",
    "\n",
    "Given an array of strings `strs`, group **the anagrams** together. You can return the answer in **any order**.\n",
    "\n",
    "An **Anagram** is a word or phrase formed by rearranging the letters of a different word or phrase, typically using all the original letters exactly once.\n",
    "\n",
    "**Example 1:**\n",
    "\n",
    "```\n",
    "Input: strs = [\"eat\",\"tea\",\"tan\",\"ate\",\"nat\",\"bat\"]\n",
    "Output: [[\"bat\"],[\"nat\",\"tan\"],[\"ate\",\"eat\",\"tea\"]]\n",
    "```\n",
    "\n",
    "**Example 2:**\n",
    "\n",
    "```\n",
    "Input: strs = [\"\"]\n",
    "Output: [[\"\"]]\n",
    "```\n",
    "\n",
    "**Example 3:**\n",
    "\n",
    "```\n",
    "Input: strs = [\"a\"]\n",
    "Output: [[\"a\"]]\n",
    "```\n",
    "\n",
    "**Constraints:**\n",
    "\n",
    "- `1 <= strs.length <= 10000`\n",
    "- `0 <= strs[i].length <= 100`\n",
    "- `strs[i]` consists of lowercase English letters.\n"
   ]
  },
  {
   "cell_type": "code",
   "execution_count": 15,
   "id": "b871cf0a",
   "metadata": {},
   "outputs": [],
   "source": [
    "def group_anagrams(strs):\n",
    "    anagram_groups = {}\n",
    "    \n",
    "    for string in strs:\n",
    "        sorted_str = ''.join(sorted(string))\n",
    "        \n",
    "        if sorted_str in anagram_groups:\n",
    "            anagram_groups[sorted_str].append(string)\n",
    "        else:\n",
    "            anagram_groups[sorted_str] = [string]\n",
    "    \n",
    "    return list(anagram_groups.values())\n"
   ]
  },
  {
   "cell_type": "code",
   "execution_count": 17,
   "id": "21b269a5",
   "metadata": {},
   "outputs": [
    {
     "name": "stdout",
     "output_type": "stream",
     "text": [
      "Anagram Groups: [['eat', 'tea', 'ate'], ['tan', 'nat'], ['bat']]\n"
     ]
    }
   ],
   "source": [
    "# Example usage\n",
    "strs = [\"eat\", \"tea\", \"tan\", \"ate\", \"nat\", \"bat\"]\n",
    "result = group_anagrams(strs)\n",
    "print(\"Anagram Groups:\", result)"
   ]
  },
  {
   "cell_type": "code",
   "execution_count": 19,
   "id": "b550c2bf",
   "metadata": {},
   "outputs": [
    {
     "name": "stdout",
     "output_type": "stream",
     "text": [
      "Anagram Groups: [[' ']]\n"
     ]
    }
   ],
   "source": [
    "# Example usage\n",
    "strs = [\" \"]\n",
    "result = group_anagrams(strs)\n",
    "print(\"Anagram Groups:\", result)"
   ]
  },
  {
   "cell_type": "code",
   "execution_count": 20,
   "id": "901cb3e5",
   "metadata": {},
   "outputs": [
    {
     "name": "stdout",
     "output_type": "stream",
     "text": [
      "Anagram Groups: [['a']]\n"
     ]
    }
   ],
   "source": [
    "# Example usage\n",
    "strs = [\"a\"]\n",
    "result = group_anagrams(strs)\n",
    "print(\"Anagram Groups:\", result)"
   ]
  },
  {
   "cell_type": "markdown",
   "id": "3eadf6b0",
   "metadata": {},
   "source": [
    "5. **Ugly Numbers**\n",
    "\n",
    "An **ugly number** is a positive integer whose prime factors are limited to `2`, `3`, and `5`.\n",
    "\n",
    "Given an integer `n`, return *the* `nth` ***ugly number***.\n",
    "\n",
    "**Example 1:**\n",
    "\n",
    "```\n",
    "Input: n = 10\n",
    "Output: 12\n",
    "Explanation: [1, 2, 3, 4, 5, 6, 8, 9, 10, 12] is the sequence of the first 10 ugly numbers.\n",
    "```\n",
    "\n",
    "**Example 2:**\n",
    "\n",
    "```\n",
    "Input: n = 1\n",
    "Output: 1\n",
    "Explanation: 1 has no prime factors, therefore all of its prime factors are limited to 2, 3, and 5.\n",
    "```\n",
    "\n",
    "**Constraints:**\n",
    "\n",
    "- `1 <= n <= 1690`\n"
   ]
  },
  {
   "cell_type": "code",
   "execution_count": 22,
   "id": "15a9e363",
   "metadata": {},
   "outputs": [],
   "source": [
    "def nth_ugly_number(n):\n",
    "    ugly = [1]\n",
    "    p2 = p3 = p5 = 0\n",
    "\n",
    "    for i in range(1, n):\n",
    "        next_ugly = min(ugly[p2] * 2, ugly[p3] * 3, ugly[p5] * 5)\n",
    "        ugly.append(next_ugly)\n",
    "\n",
    "        if next_ugly == ugly[p2] * 2:\n",
    "            p2 += 1\n",
    "        if next_ugly == ugly[p3] * 3:\n",
    "            p3 += 1\n",
    "        if next_ugly == ugly[p5] * 5:\n",
    "            p5 += 1\n",
    "\n",
    "    return ugly[-1]\n"
   ]
  },
  {
   "cell_type": "code",
   "execution_count": 23,
   "id": "c1d9debc",
   "metadata": {},
   "outputs": [
    {
     "name": "stdout",
     "output_type": "stream",
     "text": [
      "The 10 th ugly number: 12\n"
     ]
    }
   ],
   "source": [
    "# Example usage\n",
    "n = 10\n",
    "result = nth_ugly_number(n)\n",
    "print(\"The\", n, \"th ugly number:\", result)\n"
   ]
  },
  {
   "cell_type": "code",
   "execution_count": 24,
   "id": "0ed25551",
   "metadata": {},
   "outputs": [
    {
     "name": "stdout",
     "output_type": "stream",
     "text": [
      "The 1 th ugly number: 1\n"
     ]
    }
   ],
   "source": [
    "# Example usage\n",
    "n = 1\n",
    "result = nth_ugly_number(n)\n",
    "print(\"The\", n, \"th ugly number:\", result)\n"
   ]
  },
  {
   "cell_type": "markdown",
   "id": "0283b0cd",
   "metadata": {},
   "source": [
    "6. **Top K Frequent Words**\n",
    "\n",
    "Given an array of strings `words` and an integer `k`, return *the* `k` *most frequent strings*.\n",
    "\n",
    "Return the answer **sorted** by **the frequency** from highest to lowest. Sort the words with the same frequency by their **lexicographical order**.\n",
    "\n",
    "**Example 1:**\n",
    "\n",
    "```\n",
    "Input: words = [\"i\",\"love\",\"leetcode\",\"i\",\"love\",\"coding\"], k = 2\n",
    "Output: [\"i\",\"love\"]\n",
    "Explanation: \"i\" and \"love\" are the two most frequent words.\n",
    "Note that \"i\" comes before \"love\" due to a lower alphabetical order.\n",
    "```\n",
    "\n",
    "**Example 2:**\n",
    "\n",
    "```\n",
    "Input: words = [\"the\",\"day\",\"is\",\"sunny\",\"the\",\"the\",\"the\",\"sunny\",\"is\",\"is\"], k = 4\n",
    "Output: [\"the\",\"is\",\"sunny\",\"day\"]\n",
    "Explanation: \"the\", \"is\", \"sunny\" and \"day\" are the four most frequent words, with the number of occurrence being 4, 3, 2 and 1 respectively.\n",
    "```\n",
    "\n",
    "**Constraints:**\n",
    "\n",
    "- `1 <= words.length <= 500`\n",
    "- `1 <= words[i].length <= 10`\n",
    "- `words[i]` consists of lowercase English letters.\n",
    "- `k` is in the range `[1, The number of **unique** words[i]]`\n"
   ]
  },
  {
   "cell_type": "code",
   "execution_count": 32,
   "id": "25d6060c",
   "metadata": {},
   "outputs": [],
   "source": [
    "import heapq\n",
    "from collections import Counter\n",
    "\n",
    "def topKFrequentWords(words, k):\n",
    "    word_count = Counter(words)\n",
    "    heap = []\n",
    "\n",
    "    for word, count in word_count.items():\n",
    "        if len(heap) < k:\n",
    "            heapq.heappush(heap, (count, word))\n",
    "        else:\n",
    "            if count > heap[0][0] or (count == heap[0][0] and word < heap[0][1]):\n",
    "                heapq.heappop(heap)\n",
    "                heapq.heappush(heap, (count, word))\n",
    "\n",
    "    result = [word for count, word in reversed(heapq.nsmallest(k, heap))]\n",
    "\n",
    "    return result\n",
    "\n",
    "\n"
   ]
  },
  {
   "cell_type": "code",
   "execution_count": 33,
   "id": "657d0a5e",
   "metadata": {},
   "outputs": [
    {
     "name": "stdout",
     "output_type": "stream",
     "text": [
      "The 4 most frequent words: ['the', 'is', 'sunny', 'day']\n"
     ]
    }
   ],
   "source": [
    "# Example usage\n",
    "words = [\"the\",\"day\",\"is\",\"sunny\",\"the\",\"the\",\"the\",\"sunny\",\"is\",\"is\"]\n",
    "k = 4\n",
    "result = topKFrequentWords(words, k)\n",
    "print(\"The\", k, \"most frequent words:\", result)"
   ]
  },
  {
   "cell_type": "code",
   "execution_count": 34,
   "id": "c4b761e4",
   "metadata": {},
   "outputs": [
    {
     "name": "stdout",
     "output_type": "stream",
     "text": [
      "The 2 most frequent words: ['love', 'i']\n"
     ]
    }
   ],
   "source": [
    "# Example usage\n",
    "words = [\"i\", \"love\", \"leetcode\", \"i\", \"love\", \"coding\"]\n",
    "k = 2\n",
    "result = topKFrequentWords(words, k)\n",
    "print(\"The\", k, \"most frequent words:\", result)"
   ]
  },
  {
   "cell_type": "markdown",
   "id": "9c6c72ad",
   "metadata": {},
   "source": [
    "7. **Sliding Window Maximum**\n",
    "\n",
    "You are given an array of integers `nums`, there is a sliding window of size `k` which is moving from the very left of the array to the very right. You can only see the `k` numbers in the window. Each time the sliding window moves right by one position.\n",
    "\n",
    "Return *the max sliding window*.\n",
    "\n",
    "**Example 1:**\n",
    "\n",
    "```\n",
    "Input: nums = [1,3,-1,-3,5,3,6,7], k = 3\n",
    "Output: [3,3,5,5,6,7]\n",
    "Explanation:\n",
    "Window position                Max\n",
    "---------------               -----\n",
    "[1  3  -1] -3  5  3  6 7         3\n",
    " 1 [3  -1  -3] 5  3  6 7         3\n",
    " 1  3 [-1  -3  5] 3  6 7         5\n",
    " 1  3  -1 [-3  5  3] 6 7         5\n",
    " 1  3  -1  -3 [5  3  6]7         6\n",
    " 1  3  -1  -3  5 [3  6  7]       7\n",
    "```\n",
    "\n",
    "**Example 2:**\n",
    "\n",
    "```\n",
    "Input: nums = [1], k = 1\n",
    "Output: [1]\n",
    "```\n",
    "\n",
    "**Constraints:**\n",
    "\n",
    "- `1 <= nums.length <= 100000`\n",
    "- -`10000 <= nums[i] <= 10000`\n",
    "- `1 <= k <= nums.length`\n"
   ]
  },
  {
   "cell_type": "code",
   "execution_count": 37,
   "id": "78a12f82",
   "metadata": {},
   "outputs": [],
   "source": [
    "from collections import deque\n",
    "\n",
    "def maxSlidingWindow(nums, k):\n",
    "    window = deque()\n",
    "    result = []\n",
    "\n",
    "    for i in range(len(nums)):\n",
    "        while window and nums[i] > nums[window[-1]]:\n",
    "            window.pop()\n",
    "\n",
    "        window.append(i)\n",
    "\n",
    "        if window[0] <= i - k:\n",
    "            window.popleft()\n",
    "\n",
    "        if i >= k - 1:\n",
    "            result.append(nums[window[0]])\n",
    "\n",
    "    return result\n",
    "\n"
   ]
  },
  {
   "cell_type": "code",
   "execution_count": 38,
   "id": "ddc84905",
   "metadata": {},
   "outputs": [
    {
     "name": "stdout",
     "output_type": "stream",
     "text": [
      "Max sliding window: [3, 3, 5, 5, 6, 7]\n"
     ]
    }
   ],
   "source": [
    "# Example usage\n",
    "nums = [1, 3, -1, -3, 5, 3, 6, 7]\n",
    "k = 3\n",
    "result = maxSlidingWindow(nums, k)\n",
    "print(\"Max sliding window:\", result)\n"
   ]
  },
  {
   "cell_type": "code",
   "execution_count": 39,
   "id": "1396c38b",
   "metadata": {},
   "outputs": [
    {
     "name": "stdout",
     "output_type": "stream",
     "text": [
      "Max sliding window: [1]\n"
     ]
    }
   ],
   "source": [
    "# Example usage\n",
    "nums = [1]\n",
    "k = 1\n",
    "result = maxSlidingWindow(nums, k)\n",
    "print(\"Max sliding window:\", result)"
   ]
  },
  {
   "cell_type": "markdown",
   "id": "569f9311",
   "metadata": {},
   "source": [
    "8. **Find K Closest Elements**\n",
    "\n",
    "Given a **sorted** integer array `arr`, two integers `k` and `x`, return the `k` closest integers to `x` in the array. The result should also be sorted in ascending order.\n",
    "\n",
    "An integer `a` is closer to `x` than an integer `b` if:\n",
    "\n",
    "- `|a - x| < |b - x|`, or\n",
    "- `|a - x| == |b - x|` and `a < b`\n",
    "\n",
    "**Example 1:**\n",
    "\n",
    "```\n",
    "Input: arr = [1,2,3,4,5], k = 4, x = 3\n",
    "Output: [1,2,3,4]\n",
    "```\n",
    "\n",
    "**Example 2:**\n",
    "\n",
    "```\n",
    "Input: arr = [1,2,3,4,5], k = 4, x = -1\n",
    "Output: [1,2,3,4]\n",
    "```\n",
    "\n",
    "**Constraints:**\n",
    "\n",
    "- `1 <= k <= arr.length`\n",
    "- `1 <= arr.length <= 10000`\n",
    "- `arr` is sorted in **ascending** order.\n",
    "- -`10000 <= arr[i], x <= 10000`\n"
   ]
  },
  {
   "cell_type": "code",
   "execution_count": 41,
   "id": "2627629a",
   "metadata": {},
   "outputs": [],
   "source": [
    "def findClosestElements(arr, k, x):\n",
    "    left, right = 0, len(arr) - 1\n",
    "\n",
    "    while right - left + 1 > k:\n",
    "        if abs(arr[left] - x) <= abs(arr[right] - x):\n",
    "            right -= 1\n",
    "        else:\n",
    "            left += 1\n",
    "\n",
    "    return arr[left:right+1]\n"
   ]
  },
  {
   "cell_type": "code",
   "execution_count": 42,
   "id": "a677926d",
   "metadata": {},
   "outputs": [
    {
     "name": "stdout",
     "output_type": "stream",
     "text": [
      "K closest elements: [1, 2, 3, 4]\n"
     ]
    }
   ],
   "source": [
    "# Example usage\n",
    "arr = [1, 2, 3, 4, 5]\n",
    "k = 4\n",
    "x = 3\n",
    "result = findClosestElements(arr, k, x)\n",
    "print(\"K closest elements:\", result)\n"
   ]
  },
  {
   "cell_type": "code",
   "execution_count": 43,
   "id": "bc80930e",
   "metadata": {},
   "outputs": [
    {
     "name": "stdout",
     "output_type": "stream",
     "text": [
      "K closest elements: [1, 2, 3, 4]\n"
     ]
    }
   ],
   "source": [
    "# Example usage\n",
    "arr = [1, 2, 3, 4, 5]\n",
    "k = 4\n",
    "x = -1\n",
    "result = findClosestElements(arr, k, x)\n",
    "print(\"K closest elements:\", result)\n"
   ]
  },
  {
   "cell_type": "code",
   "execution_count": null,
   "id": "7fdd42b8",
   "metadata": {},
   "outputs": [],
   "source": []
  }
 ],
 "metadata": {
  "kernelspec": {
   "display_name": "Python 3 (ipykernel)",
   "language": "python",
   "name": "python3"
  },
  "language_info": {
   "codemirror_mode": {
    "name": "ipython",
    "version": 3
   },
   "file_extension": ".py",
   "mimetype": "text/x-python",
   "name": "python",
   "nbconvert_exporter": "python",
   "pygments_lexer": "ipython3",
   "version": "3.9.13"
  }
 },
 "nbformat": 4,
 "nbformat_minor": 5
}
