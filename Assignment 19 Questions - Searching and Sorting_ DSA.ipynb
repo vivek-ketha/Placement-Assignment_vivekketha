{
 "cells": [
  {
   "cell_type": "markdown",
   "id": "f020243c",
   "metadata": {},
   "source": [
    "1. **Merge k Sorted Lists**\n",
    "\n",
    "You are given an array of `k` linked-lists `lists`, each linked-list is sorted in ascending order.\n",
    "\n",
    "*Merge all the linked-lists into one sorted linked-list and return it.*\n",
    "\n",
    "**Example 1:**\n",
    "\n",
    "```\n",
    "Input: lists = [[1,4,5],[1,3,4],[2,6]]\n",
    "Output: [1,1,2,3,4,4,5,6]\n",
    "Explanation: The linked-lists are:\n",
    "[\n",
    "  1->4->5,\n",
    "  1->3->4,\n",
    "  2->6\n",
    "]\n",
    "merging them into one sorted list:\n",
    "1->1->2->3->4->4->5->6\n",
    "\n",
    "```\n",
    "\n",
    "**Example 2:**\n",
    "\n",
    "```\n",
    "Input: lists = []\n",
    "Output: []\n",
    "\n",
    "```\n",
    "\n",
    "**Example 3:**\n",
    "\n",
    "```\n",
    "Input: lists = [[]]\n",
    "Output: []\n",
    "\n",
    "```\n",
    "\n",
    "**Constraints:**\n",
    "\n",
    "- `k == lists.length`\n",
    "- `0 <= k <= 10000`\n",
    "- `0 <= lists[i].length <= 500`\n",
    "- `-10000 <= lists[i][j] <= 10000`\n",
    "- `lists[i]` is sorted in **ascending order**.\n",
    "- The sum of `lists[i].length` will not exceed `10000`.\n"
   ]
  },
  {
   "cell_type": "code",
   "execution_count": 1,
   "id": "89f58f43",
   "metadata": {},
   "outputs": [],
   "source": [
    "import heapq\n",
    "\n",
    "class ListNode:\n",
    "    def __init__(self, val=0, next=None):\n",
    "        self.val = val\n",
    "        self.next = next\n",
    "\n",
    "def mergeKLists(lists):\n",
    "    min_heap = []\n",
    "    dummy = ListNode()\n",
    "    curr = dummy\n",
    "\n",
    "    # Create linked lists from the input lists\n",
    "    for i, lst in enumerate(lists):\n",
    "        if lst:\n",
    "            head = ListNode(lst[0])\n",
    "            curr = head\n",
    "            for val in lst[1:]:\n",
    "                curr.next = ListNode(val)\n",
    "                curr = curr.next\n",
    "            heapq.heappush(min_heap, (head.val, i, head))\n",
    "\n",
    "    while min_heap:\n",
    "        val, idx, node = heapq.heappop(min_heap)\n",
    "        curr.next = ListNode(val)\n",
    "        curr = curr.next\n",
    "\n",
    "        if node.next:\n",
    "            heapq.heappush(min_heap, (node.next.val, idx, node.next))\n",
    "\n",
    "    return dummy.next\n"
   ]
  },
  {
   "cell_type": "code",
   "execution_count": null,
   "id": "11ecccbe",
   "metadata": {},
   "outputs": [],
   "source": [
    "lists = [[1,4,5],[1,3,4],[2,6]]\n",
    "print(mergeKLists(lists))"
   ]
  },
  {
   "cell_type": "code",
   "execution_count": 2,
   "id": "d66b520e",
   "metadata": {},
   "outputs": [
    {
     "name": "stdout",
     "output_type": "stream",
     "text": [
      "None\n"
     ]
    }
   ],
   "source": [
    "lists = []\n",
    "print(mergeKLists(lists))"
   ]
  },
  {
   "cell_type": "code",
   "execution_count": 3,
   "id": "3592d4c8",
   "metadata": {},
   "outputs": [
    {
     "name": "stdout",
     "output_type": "stream",
     "text": [
      "None\n"
     ]
    }
   ],
   "source": [
    "lists = [[]]\n",
    "print(mergeKLists(lists))"
   ]
  },
  {
   "cell_type": "markdown",
   "id": "e11ae799",
   "metadata": {},
   "source": [
    "2. **Count of Smaller Numbers After Self**\n",
    "\n",
    "Given an integer array `nums`, return *an integer array* `counts` *where* `counts[i]` *is the number of smaller elements to the right of* `nums[i]`.\n",
    "\n",
    "**Example 1:**\n",
    "\n",
    "```\n",
    "Input: nums = [5,2,6,1]\n",
    "Output: [2,1,1,0]\n",
    "Explanation:\n",
    "To the right of 5 there are2 smaller elements (2 and 1).\n",
    "To the right of 2 there is only1 smaller element (1).\n",
    "To the right of 6 there is1 smaller element (1).\n",
    "To the right of 1 there is0 smaller element.\n",
    "\n",
    "```\n",
    "\n",
    "**Example 2:**\n",
    "\n",
    "```\n",
    "Input: nums = [-1]\n",
    "Output: [0]\n",
    "\n",
    "```\n",
    "\n",
    "**Example 3:**\n",
    "\n",
    "```\n",
    "Input: nums = [-1,-1]\n",
    "Output: [0,0]\n",
    "\n",
    "```\n",
    "\n",
    "**Constraints:**\n",
    "\n",
    "- `1 <= nums.length <= 100000`\n",
    "- `-10000 <= nums[i] <= 10000`\n"
   ]
  },
  {
   "cell_type": "code",
   "execution_count": 4,
   "id": "feebca57",
   "metadata": {},
   "outputs": [],
   "source": [
    "class TreeNode:\n",
    "    def __init__(self, val=0):\n",
    "        self.val = val\n",
    "        self.left = None\n",
    "        self.right = None\n",
    "        self.count = 1\n",
    "        self.left_count = 0\n",
    "\n",
    "def insert(root, val):\n",
    "    if root is None:\n",
    "        return TreeNode(val)\n",
    "    \n",
    "    if root.val == val:\n",
    "        root.count += 1\n",
    "    elif val < root.val:\n",
    "        root.left_count += 1\n",
    "        root.left = insert(root.left, val)\n",
    "    else:\n",
    "        root.right = insert(root.right, val)\n",
    "    \n",
    "    return root\n",
    "\n",
    "def search(root, val):\n",
    "    count = 0\n",
    "    while root:\n",
    "        if val == root.val:\n",
    "            return count + root.left_count\n",
    "        elif val < root.val:\n",
    "            root = root.left\n",
    "        else:\n",
    "            count += root.count + root.left_count\n",
    "            root = root.right\n",
    "    return count\n",
    "\n",
    "def countSmaller(nums):\n",
    "    counts = []\n",
    "    root = None\n",
    "    for num in reversed(nums):\n",
    "        root = insert(root, num)\n",
    "        counts.append(search(root, num))\n",
    "    return list(reversed(counts))\n"
   ]
  },
  {
   "cell_type": "code",
   "execution_count": 5,
   "id": "98e3cb6b",
   "metadata": {},
   "outputs": [
    {
     "name": "stdout",
     "output_type": "stream",
     "text": [
      "[2, 1, 1, 0]\n"
     ]
    }
   ],
   "source": [
    "nums = [5,2,6,1]\n",
    "print(countSmaller(nums))"
   ]
  },
  {
   "cell_type": "code",
   "execution_count": 6,
   "id": "2cae1681",
   "metadata": {},
   "outputs": [
    {
     "name": "stdout",
     "output_type": "stream",
     "text": [
      "[0]\n"
     ]
    }
   ],
   "source": [
    "nums = [-1]\n",
    "print(countSmaller(nums))"
   ]
  },
  {
   "cell_type": "code",
   "execution_count": 7,
   "id": "6e13a7d6",
   "metadata": {},
   "outputs": [
    {
     "name": "stdout",
     "output_type": "stream",
     "text": [
      "[0, 0]\n"
     ]
    }
   ],
   "source": [
    "nums = [-1,-1]\n",
    "print(countSmaller(nums))"
   ]
  },
  {
   "cell_type": "markdown",
   "id": "ca416ea2",
   "metadata": {},
   "source": [
    "3. **Sort an Array**\n",
    "\n",
    "Given an array of integers `nums`, sort the array in ascending order and return it.\n",
    "\n",
    "You must solve the problem **without using any built-in** functions in `O(nlog(n))` time complexity and with the smallest space complexity possible.\n",
    "\n",
    "**Example 1:**\n",
    "\n",
    "```\n",
    "Input: nums = [5,2,3,1]\n",
    "Output: [1,2,3,5]\n",
    "Explanation: After sorting the array, the positions of some numbers are not changed (for example, 2 and 3), while the positions of other numbers are changed (for example, 1 and 5).\n",
    "\n",
    "```\n",
    "\n",
    "**Example 2:**\n",
    "\n",
    "```\n",
    "Input: nums = [5,1,1,2,0,0]\n",
    "Output: [0,0,1,1,2,5]\n",
    "Explanation: Note that the values of nums are not necessairly unique.\n",
    "\n",
    "```\n",
    "\n",
    "**Constraints:**\n",
    "\n",
    "- `1 <= nums.length <= 5 * 10000`\n",
    "- `-5 * 104 <= nums[i] <= 5 * 10000`\n"
   ]
  },
  {
   "cell_type": "code",
   "execution_count": 8,
   "id": "39ae9fa0",
   "metadata": {},
   "outputs": [],
   "source": [
    "def mergeSort(nums):\n",
    "    if len(nums) <= 1:\n",
    "        return nums\n",
    "    \n",
    "    mid = len(nums) // 2\n",
    "    left = mergeSort(nums[:mid])\n",
    "    right = mergeSort(nums[mid:])\n",
    "    \n",
    "    return merge(left, right)\n",
    "\n",
    "def merge(left, right):\n",
    "    merged = []\n",
    "    i, j = 0, 0\n",
    "    \n",
    "    while i < len(left) and j < len(right):\n",
    "        if left[i] <= right[j]:\n",
    "            merged.append(left[i])\n",
    "            i += 1\n",
    "        else:\n",
    "            merged.append(right[j])\n",
    "            j += 1\n",
    "    \n",
    "    merged.extend(left[i:])\n",
    "    merged.extend(right[j:])\n",
    "    \n",
    "    return merged\n",
    "\n",
    "def sortArray(nums):\n",
    "    return mergeSort(nums)\n"
   ]
  },
  {
   "cell_type": "code",
   "execution_count": 9,
   "id": "e78c3c33",
   "metadata": {},
   "outputs": [
    {
     "name": "stdout",
     "output_type": "stream",
     "text": [
      "[1, 2, 3, 5]\n"
     ]
    }
   ],
   "source": [
    "nums = [5,2,3,1]\n",
    "print(sortArray(nums))"
   ]
  },
  {
   "cell_type": "code",
   "execution_count": 10,
   "id": "ca28adaa",
   "metadata": {},
   "outputs": [
    {
     "name": "stdout",
     "output_type": "stream",
     "text": [
      "[0, 0, 1, 1, 2, 5]\n"
     ]
    }
   ],
   "source": [
    "nums = [5,1,1,2,0,0]\n",
    "print(sortArray(nums))"
   ]
  },
  {
   "cell_type": "markdown",
   "id": "8c86b819",
   "metadata": {},
   "source": [
    "4. **Move all zeroes to end of array**\n",
    "\n",
    "Given an array of random numbers, Push all the zero’s of a given array to the end of the array. For example, if the given arrays is {1, 9, 8, 4, 0, 0, 2, 7, 0, 6, 0}, it should be changed to {1, 9, 8, 4, 2, 7, 6, 0, 0, 0, 0}. The order of all other elements should be same. Expected time complexity is O(n) and extra space is O(1).\n",
    "\n",
    "**Example:**\n",
    "\n",
    "```\n",
    "Input :  arr[] = {1, 2, 0, 4, 3, 0, 5, 0};\n",
    "Output : arr[] = {1, 2, 4, 3, 5, 0, 0, 0};\n",
    "\n",
    "Input : arr[]  = {1, 2, 0, 0, 0, 3, 6};\n",
    "Output : arr[] = {1, 2, 3, 6, 0, 0, 0};\n",
    "```\n"
   ]
  },
  {
   "cell_type": "code",
   "execution_count": 11,
   "id": "a71260ce",
   "metadata": {},
   "outputs": [],
   "source": [
    "def moveZeroes(arr):\n",
    "    n = len(arr)\n",
    "    insert_pos = 0  # Position to insert non-zero elements\n",
    "    \n",
    "    # Iterate through the array\n",
    "    for i in range(n):\n",
    "        # If the current element is non-zero, insert it at the insert position\n",
    "        if arr[i] != 0:\n",
    "            arr[insert_pos] = arr[i]\n",
    "            insert_pos += 1\n",
    "    \n",
    "    # Fill the remaining positions with zeroes\n",
    "    while insert_pos < n:\n",
    "        arr[insert_pos] = 0\n",
    "        insert_pos += 1\n",
    "    \n",
    "    return arr\n"
   ]
  },
  {
   "cell_type": "code",
   "execution_count": 12,
   "id": "1cb37531",
   "metadata": {},
   "outputs": [
    {
     "name": "stdout",
     "output_type": "stream",
     "text": [
      "[1, 2, 4, 3, 5, 0, 0, 0]\n"
     ]
    }
   ],
   "source": [
    "arr = [1, 2, 0, 4, 3, 0, 5, 0]\n",
    "result = moveZeroes(arr)\n",
    "print(result)"
   ]
  },
  {
   "cell_type": "code",
   "execution_count": 13,
   "id": "6a381029",
   "metadata": {},
   "outputs": [
    {
     "name": "stdout",
     "output_type": "stream",
     "text": [
      "[1, 2, 3, 6, 0, 0, 0]\n"
     ]
    }
   ],
   "source": [
    "arr = [1, 2, 0, 0, 0, 3, 6]\n",
    "result = moveZeroes(arr)\n",
    "print(result)"
   ]
  },
  {
   "cell_type": "markdown",
   "id": "205eb821",
   "metadata": {},
   "source": [
    "5. **Rearrange array in alternating positive & negative items with O(1) extra space**\n",
    "\n",
    "Given an **array of positive** and **negative numbers**, arrange them in an **alternate** fashion such that every positive number is followed by a negative and vice-versa maintaining the **order of appearance**. The number of positive and negative numbers need not be equal. If there are more positive numbers they appear at the end of the array. If there are more negative numbers, they too appear at the end of the array.\n",
    "\n",
    "**Examples:**\n",
    "\n",
    "> Input:  arr[] = {1, 2, 3, -4, -1, 4}\n",
    "Output: arr[] = {-4, 1, -1, 2, 3, 4}\n",
    "\n",
    ">Input:  arr[] = {-5, -2, 5, 2, 4, 7, 1, 8, 0, -8}\n",
    "Output: arr[] = {-5, 5, -2, 2, -8, 4, 7, 1, 8, 0}\n"
   ]
  },
  {
   "cell_type": "code",
   "execution_count": 14,
   "id": "82e34f20",
   "metadata": {},
   "outputs": [],
   "source": [
    "def rearrangeArray(arr):\n",
    "    n = len(arr)\n",
    "    pos_ptr = 0\n",
    "    neg_ptr = 1\n",
    "\n",
    "    while pos_ptr < n and neg_ptr < n:\n",
    "        if arr[pos_ptr] >= 0 and arr[neg_ptr] < 0:\n",
    "            arr[pos_ptr], arr[neg_ptr] = arr[neg_ptr], arr[pos_ptr]\n",
    "            pos_ptr += 2\n",
    "            neg_ptr += 2\n",
    "        elif arr[pos_ptr] < 0:\n",
    "            pos_ptr += 2\n",
    "        elif arr[neg_ptr] >= 0:\n",
    "            neg_ptr += 2\n",
    "\n",
    "    return arr\n",
    "\n"
   ]
  },
  {
   "cell_type": "code",
   "execution_count": 15,
   "id": "d3c8715a",
   "metadata": {},
   "outputs": [
    {
     "name": "stdout",
     "output_type": "stream",
     "text": [
      "[-5, 5, -2, 2, -8, 7, 1, 8, 0, 4]\n"
     ]
    }
   ],
   "source": [
    "# Testing the function\n",
    "arr = [-5, -2, 5, 2, 4, 7, 1, 8, 0, -8]\n",
    "result = rearrangeArray(arr)\n",
    "print(result)\n"
   ]
  },
  {
   "cell_type": "code",
   "execution_count": 16,
   "id": "e3d46f40",
   "metadata": {},
   "outputs": [
    {
     "name": "stdout",
     "output_type": "stream",
     "text": [
      "[-4, 2, 3, 1, -1, 4]\n"
     ]
    }
   ],
   "source": [
    "# Testing the function\n",
    "arr = [1, 2, 3, -4, -1, 4]\n",
    "result = rearrangeArray(arr)\n",
    "print(result)"
   ]
  },
  {
   "cell_type": "markdown",
   "id": "66330cd1",
   "metadata": {},
   "source": [
    "**6. Merge two sorted arrays**\n",
    "\n",
    "Given two sorted arrays, the task is to merge them in a sorted manner.\n",
    "\n",
    "**Examples:**\n",
    "\n",
    "> Input: arr1[] = { 1, 3, 4, 5}, arr2[] = {2, 4, 6, 8} \n",
    "Output: arr3[] = {1, 2, 3, 4, 4, 5, 6, 8}\n",
    "\n",
    ">Input: arr1[] = { 5, 8, 9}, arr2[] = {4, 7, 8}\n",
    "Output: arr3[] = {4, 5, 7, 8, 8, 9}\n",
    "\n"
   ]
  },
  {
   "cell_type": "code",
   "execution_count": 17,
   "id": "4a315a8f",
   "metadata": {},
   "outputs": [],
   "source": [
    "def mergeArrays(arr1, arr2):\n",
    "    n1 = len(arr1)\n",
    "    n2 = len(arr2)\n",
    "    merged = [0] * (n1 + n2)\n",
    "    ptr1 = 0\n",
    "    ptr2 = 0\n",
    "    ptr3 = 0\n",
    "\n",
    "    while ptr1 < n1 and ptr2 < n2:\n",
    "        if arr1[ptr1] <= arr2[ptr2]:\n",
    "            merged[ptr3] = arr1[ptr1]\n",
    "            ptr1 += 1\n",
    "        else:\n",
    "            merged[ptr3] = arr2[ptr2]\n",
    "            ptr2 += 1\n",
    "        ptr3 += 1\n",
    "\n",
    "    while ptr1 < n1:\n",
    "        merged[ptr3] = arr1[ptr1]\n",
    "        ptr1 += 1\n",
    "        ptr3 += 1\n",
    "\n",
    "    while ptr2 < n2:\n",
    "        merged[ptr3] = arr2[ptr2]\n",
    "        ptr2 += 1\n",
    "        ptr3 += 1\n",
    "\n",
    "    return merged\n",
    "\n"
   ]
  },
  {
   "cell_type": "code",
   "execution_count": 18,
   "id": "801a44f2",
   "metadata": {},
   "outputs": [
    {
     "name": "stdout",
     "output_type": "stream",
     "text": [
      "[1, 2, 3, 4, 4, 5, 6, 8]\n"
     ]
    }
   ],
   "source": [
    "arr1 = [1, 3, 4, 5]\n",
    "arr2 = [2, 4, 6, 8]\n",
    "result = mergeArrays(arr1, arr2)\n",
    "print(result)"
   ]
  },
  {
   "cell_type": "code",
   "execution_count": 19,
   "id": "b382388e",
   "metadata": {},
   "outputs": [
    {
     "name": "stdout",
     "output_type": "stream",
     "text": [
      "[4, 5, 7, 8, 8, 9]\n"
     ]
    }
   ],
   "source": [
    "arr1 = [5, 8, 9]\n",
    "arr2 = [4, 7, 8]\n",
    "result = mergeArrays(arr1, arr2)\n",
    "print(result)"
   ]
  },
  {
   "cell_type": "markdown",
   "id": "2f4aad09",
   "metadata": {},
   "source": [
    "7. **Intersection of Two Arrays**\n",
    "\n",
    "Given two integer arrays `nums1` and `nums2`, return *an array of their intersection*. Each element in the result must be **unique** and you may return the result in **any order**.\n",
    "\n",
    "**Example 1:**\n",
    "\n",
    "```\n",
    "Input: nums1 = [1,2,2,1], nums2 = [2,2]\n",
    "Output: [2]\n",
    "\n",
    "```\n",
    "\n",
    "**Example 2:**\n",
    "\n",
    "```\n",
    "Input: nums1 = [4,9,5], nums2 = [9,4,9,8,4]\n",
    "Output: [9,4]\n",
    "Explanation: [4,9] is also accepted.\n",
    "\n",
    "```\n",
    "\n",
    "**Constraints:**\n",
    "\n",
    "- `1 <= nums1.length, nums2.length <= 1000`\n",
    "- `0 <= nums1[i], nums2[i] <= 1000`\n"
   ]
  },
  {
   "cell_type": "code",
   "execution_count": 20,
   "id": "1fe6cf24",
   "metadata": {},
   "outputs": [],
   "source": [
    "def intersection(nums1, nums2):\n",
    "    set1 = set(nums1)\n",
    "    intersection = set()\n",
    "\n",
    "    for num in nums2:\n",
    "        if num in set1:\n",
    "            intersection.add(num)\n",
    "\n",
    "    return list(intersection)\n"
   ]
  },
  {
   "cell_type": "code",
   "execution_count": 21,
   "id": "37e5543d",
   "metadata": {},
   "outputs": [
    {
     "name": "stdout",
     "output_type": "stream",
     "text": [
      "[2]\n"
     ]
    }
   ],
   "source": [
    "nums1 = [1, 2, 2, 1]\n",
    "nums2 = [2, 2]\n",
    "result = intersection(nums1, nums2)\n",
    "print(result)"
   ]
  },
  {
   "cell_type": "code",
   "execution_count": 22,
   "id": "d23871b4",
   "metadata": {},
   "outputs": [
    {
     "name": "stdout",
     "output_type": "stream",
     "text": [
      "[9, 4]\n"
     ]
    }
   ],
   "source": [
    "nums1 = [4,9,5]\n",
    "nums2 = [9,4,9,8,4]\n",
    "result = intersection(nums1, nums2)\n",
    "print(result)"
   ]
  },
  {
   "cell_type": "markdown",
   "id": "a3ef544d",
   "metadata": {},
   "source": [
    "8. **Intersection of Two Arrays II**\n",
    "\n",
    "Given two integer arrays `nums1` and `nums2`, return *an array of their intersection*. Each element in the result must appear as many times as it shows in both arrays and you may return the result in **any order**.\n",
    "\n",
    "**Example 1:**\n",
    "\n",
    "```\n",
    "Input: nums1 = [1,2,2,1], nums2 = [2,2]\n",
    "Output: [2,2]\n",
    "\n",
    "```\n",
    "\n",
    "**Example 2:**\n",
    "\n",
    "```\n",
    "Input: nums1 = [4,9,5], nums2 = [9,4,9,8,4]\n",
    "Output: [4,9]\n",
    "Explanation: [9,4] is also accepted.\n",
    "\n",
    "```\n",
    "\n",
    "**Constraints:**\n",
    "\n",
    "- `1 <= nums1.length, nums2.length <= 1000`\n",
    "- `0 <= nums1[i], nums2[i] <= 1000`\n"
   ]
  },
  {
   "cell_type": "code",
   "execution_count": 23,
   "id": "70005bdc",
   "metadata": {},
   "outputs": [],
   "source": [
    "def intersect(nums1, nums2):\n",
    "    freq = {}\n",
    "    intersection = []\n",
    "\n",
    "    for num in nums1:\n",
    "        if num not in freq:\n",
    "            freq[num] = 1\n",
    "        else:\n",
    "            freq[num] += 1\n",
    "\n",
    "    for num in nums2:\n",
    "        if num in freq and freq[num] > 0:\n",
    "            intersection.append(num)\n",
    "            freq[num] -= 1\n",
    "\n",
    "    return intersection\n"
   ]
  },
  {
   "cell_type": "code",
   "execution_count": 24,
   "id": "c606e45e",
   "metadata": {},
   "outputs": [
    {
     "name": "stdout",
     "output_type": "stream",
     "text": [
      "[2, 2]\n"
     ]
    }
   ],
   "source": [
    "nums1 = [1, 2, 2, 1]\n",
    "nums2 = [2, 2]\n",
    "result = intersect(nums1, nums2)\n",
    "print(result)\n"
   ]
  },
  {
   "cell_type": "code",
   "execution_count": 25,
   "id": "517c2af2",
   "metadata": {},
   "outputs": [
    {
     "name": "stdout",
     "output_type": "stream",
     "text": [
      "[9, 4]\n"
     ]
    }
   ],
   "source": [
    "nums1 = [4,9,5]\n",
    "nums2 = [9,4,9,8,4]\n",
    "result = intersect(nums1, nums2)\n",
    "print(result)"
   ]
  },
  {
   "cell_type": "code",
   "execution_count": null,
   "id": "f8ef1190",
   "metadata": {},
   "outputs": [],
   "source": []
  },
  {
   "cell_type": "code",
   "execution_count": null,
   "id": "97a13476",
   "metadata": {},
   "outputs": [],
   "source": []
  },
  {
   "cell_type": "code",
   "execution_count": null,
   "id": "d724178c",
   "metadata": {},
   "outputs": [],
   "source": []
  }
 ],
 "metadata": {
  "kernelspec": {
   "display_name": "Python 3 (ipykernel)",
   "language": "python",
   "name": "python3"
  },
  "language_info": {
   "codemirror_mode": {
    "name": "ipython",
    "version": 3
   },
   "file_extension": ".py",
   "mimetype": "text/x-python",
   "name": "python",
   "nbconvert_exporter": "python",
   "pygments_lexer": "ipython3",
   "version": "3.9.13"
  }
 },
 "nbformat": 4,
 "nbformat_minor": 5
}
