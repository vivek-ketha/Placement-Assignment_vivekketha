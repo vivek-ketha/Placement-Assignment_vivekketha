{
 "cells": [
  {
   "cell_type": "markdown",
   "id": "afd6845e",
   "metadata": {},
   "source": [
    "**Question 1**\n",
    "\n",
    "Given an array, for each element find the value of the nearest element to the right which is having a frequency greater than that of the current element. If there does not exist an answer for a position, then make the value ‘-1’.\n",
    "\n",
    "**Examples:**\n",
    "\n",
    "```\n",
    "Input: a[] = [1, 1, 2, 3, 4, 2, 1]\n",
    "Output : [-1, -1, 1, 2, 2, 1, -1]\n",
    "\n",
    "Explanation:\n",
    "Given array a[] = [1, 1, 2, 3, 4, 2, 1]\n",
    "Frequency of each element is: 3, 3, 2, 1, 1, 2, 3\n",
    "\n",
    "Lets calls Next Greater Frequency element as NGF\n",
    "1. For element a[0] = 1 which has a frequency = 3,\n",
    "   As it has frequency of 3 and no other next element\n",
    "   has frequency more than 3 so  '-1'\n",
    "2. For element a[1] = 1 it will be -1 same logic\n",
    "   like a[0]\n",
    "3. For element a[2] = 2 which has frequency = 2,\n",
    "   NGF element is 1 at position = 6  with frequency\n",
    "   of 3 > 2\n",
    "4. For element a[3] = 3 which has frequency = 1,\n",
    "   NGF element is 2 at position = 5 with frequency\n",
    "   of 2 > 1\n",
    "5. For element a[4] = 4 which has frequency = 1,\n",
    "   NGF element is 2 at position = 5 with frequency\n",
    "   of 2 > 1\n",
    "6. For element a[5] = 2 which has frequency = 2,\n",
    "   NGF element is 1 at position = 6 with frequency\n",
    "   of 3 > 2\n",
    "7. For element a[6] = 1 there is no element to its\n",
    "   right, hence -1\n",
    "```\n",
    "\n",
    "```\n",
    "Input : a[] = [1, 1, 1, 2, 2, 2, 2, 11, 3, 3]\n",
    "Output : [2, 2, 2, -1, -1, -1, -1, 3, -1, -1]\n",
    "```\n"
   ]
  },
  {
   "cell_type": "code",
   "execution_count": 21,
   "id": "d322e1a9",
   "metadata": {},
   "outputs": [],
   "source": [
    "from collections import defaultdict\n",
    "\n",
    "def find_nearest_element_with_greater_frequency(arr):\n",
    "    frequency = defaultdict(int)\n",
    "    stack = []\n",
    "    result = [-1] * len(arr)\n",
    "\n",
    "    for i in range(len(arr)-1, -1, -1):\n",
    "        frequency[arr[i]] += 1\n",
    "\n",
    "    for i in range(len(arr)-1, -1, -1):\n",
    "        while stack and frequency[arr[i]] >= frequency[stack[-1]]:\n",
    "            stack.pop()\n",
    "\n",
    "        if stack:\n",
    "            result[i] = stack[-1]\n",
    "\n",
    "        stack.append(arr[i])\n",
    "\n",
    "    return result\n",
    "\n"
   ]
  },
  {
   "cell_type": "code",
   "execution_count": 20,
   "id": "404adbe5",
   "metadata": {},
   "outputs": [
    {
     "name": "stdout",
     "output_type": "stream",
     "text": [
      "[-1, -1, 1, 2, 2, 1, -1]\n"
     ]
    }
   ],
   "source": [
    "# Example usage:\n",
    "arr = [1, 1, 2, 3, 4, 2, 1]\n",
    "result = find_nearest_element_with_greater_frequency(arr)\n",
    "print(result)\n"
   ]
  },
  {
   "cell_type": "code",
   "execution_count": 22,
   "id": "7b869d2a",
   "metadata": {},
   "outputs": [
    {
     "name": "stdout",
     "output_type": "stream",
     "text": [
      "[2, 2, 2, -1, -1, -1, -1, 3, -1, -1]\n"
     ]
    }
   ],
   "source": [
    "# Example usage:\n",
    "arr = [1, 1, 1, 2, 2, 2, 2, 11, 3, 3]\n",
    "result = find_nearest_element_with_greater_frequency(arr)\n",
    "print(result)"
   ]
  },
  {
   "cell_type": "markdown",
   "id": "1b929a2e",
   "metadata": {},
   "source": [
    "**Question 2**\n",
    "\n",
    "Given a stack of integers, sort it in ascending order using another temporary stack.\n",
    "\n",
    "**Examples:**\n",
    "\n",
    "```\n",
    "Input : [34, 3, 31, 98, 92, 23]\n",
    "Output : [3, 23, 31, 34, 92, 98]\n",
    "\n",
    "Input : [3, 5, 1, 4, 2, 8]\n",
    "Output : [1, 2, 3, 4, 5, 8]\n",
    "```\n"
   ]
  },
  {
   "cell_type": "code",
   "execution_count": 28,
   "id": "997a2b47",
   "metadata": {},
   "outputs": [],
   "source": [
    "def sort_stack_ascending(stack):\n",
    "    temp_stack = []\n",
    "\n",
    "    while stack:\n",
    "        temp = stack.pop()\n",
    "\n",
    "        while temp_stack and temp_stack[-1] < temp:\n",
    "            stack.append(temp_stack.pop())\n",
    "\n",
    "        temp_stack.append(temp)\n",
    "\n",
    "    while temp_stack:\n",
    "        stack.append(temp_stack.pop())\n",
    "\n",
    "    return stack\n",
    "\n",
    "\n"
   ]
  },
  {
   "cell_type": "code",
   "execution_count": 27,
   "id": "f7d02b8b",
   "metadata": {},
   "outputs": [
    {
     "name": "stdout",
     "output_type": "stream",
     "text": [
      "[3, 23, 31, 34, 92, 98]\n"
     ]
    }
   ],
   "source": [
    "# Example usage:\n",
    "stack = [34, 3, 31, 98, 92, 23]\n",
    "sorted_stack = sort_stack_ascending(stack)\n",
    "print(sorted_stack)"
   ]
  },
  {
   "cell_type": "code",
   "execution_count": 29,
   "id": "34cbc351",
   "metadata": {},
   "outputs": [
    {
     "name": "stdout",
     "output_type": "stream",
     "text": [
      "[1, 2, 3, 4, 5, 8]\n"
     ]
    }
   ],
   "source": [
    "# Example usage:\n",
    "stack = [3, 5, 1, 4, 2, 8]\n",
    "sorted_stack = sort_stack_ascending(stack)\n",
    "print(sorted_stack)"
   ]
  },
  {
   "cell_type": "markdown",
   "id": "dc94ff4f",
   "metadata": {},
   "source": [
    "**Question 3**\n",
    "\n",
    "Given a stack with **push()**, **pop()**, and **empty()** operations, The task is to delete the **middle** element ****of it without using any additional data structure.\n",
    "\n",
    "Input  : Stack[] = [1, 2, 3, 4, 5]\n",
    "\n",
    "Output : Stack[] = [1, 2, 4, 5]\n",
    "\n",
    "Input  : Stack[] = [1, 2, 3, 4, 5, 6]\n",
    "\n",
    "Output : Stack[] = [1, 2, 4, 5, 6]\n"
   ]
  },
  {
   "cell_type": "code",
   "execution_count": 1,
   "id": "0f304785",
   "metadata": {},
   "outputs": [],
   "source": [
    "def delete_middle(stack):\n",
    "    size = len(stack)\n",
    "    mid = size // 2 + 1 if size % 2 == 1 else size // 2\n",
    "\n",
    "    temp_stack = []\n",
    "    for _ in range(size - mid):\n",
    "        temp_stack.append(stack.pop())\n",
    "\n",
    "    stack.pop()  # Discard the middle element\n",
    "\n",
    "    while temp_stack:\n",
    "        stack.append(temp_stack.pop())\n",
    "\n",
    "    return stack\n",
    "\n"
   ]
  },
  {
   "cell_type": "code",
   "execution_count": 3,
   "id": "ed85e9d8",
   "metadata": {},
   "outputs": [
    {
     "name": "stdout",
     "output_type": "stream",
     "text": [
      "[1, 2, 4, 5]\n"
     ]
    }
   ],
   "source": [
    "# Example usage:\n",
    "stack = [1, 2, 3, 4, 5]\n",
    "result = delete_middle(stack)\n",
    "print(result) "
   ]
  },
  {
   "cell_type": "code",
   "execution_count": 4,
   "id": "5d9aadd7",
   "metadata": {},
   "outputs": [
    {
     "name": "stdout",
     "output_type": "stream",
     "text": [
      "[1, 2, 4, 5, 6]\n"
     ]
    }
   ],
   "source": [
    "# Example usage:\n",
    "stack = [1, 2, 3, 4, 5, 6]\n",
    "result = delete_middle(stack)\n",
    "print(result)  "
   ]
  },
  {
   "cell_type": "markdown",
   "id": "0d998c40",
   "metadata": {},
   "source": [
    "Question 4**\n",
    "\n",
    "Given a Queue consisting of first **n** natural numbers (in random order). The task is to check whether the given Queue elements can be arranged in increasing order in another Queue using a stack. The operation allowed are:\n",
    "\n",
    "1. Push and pop elements from the stack\n",
    "2. Pop (Or Dequeue) from the given Queue.\n",
    "3. Push (Or Enqueue) in the another Queue.\n",
    "\n",
    "**Examples :**\n",
    "\n",
    "Input : Queue[] = { 5, 1, 2, 3, 4 } \n",
    "\n",
    "Output : Yes \n",
    "\n",
    "Pop the first element of the given Queue \n",
    "\n",
    "i.e 5. Push 5 into the stack. \n",
    "\n",
    "Now, pop all the elements of the given Queue and push them to second Queue. \n",
    "\n",
    "Now, pop element 5 in the stack and push it to the second Queue.   \n",
    "\n",
    "Input : Queue[] = { 5, 1, 2, 6, 3, 4 } \n",
    "\n",
    "Output : No \n",
    "\n",
    "Push 5 to stack. \n",
    "\n",
    "Pop 1, 2 from given Queue and push it to another Queue. \n",
    "\n",
    "Pop 6 from given Queue and push to stack. \n",
    "\n",
    "Pop 3, 4 from given Queue and push to second Queue. \n",
    "\n",
    "Now, from using any of above operation, we cannot push 5 into the second Queue because it is below the 6 in the stack.\n"
   ]
  },
  {
   "cell_type": "code",
   "execution_count": 5,
   "id": "eb001973",
   "metadata": {},
   "outputs": [],
   "source": [
    "def arrange_in_increasing_order(queue):\n",
    "    stack = []\n",
    "    result_queue = []\n",
    "\n",
    "    expected_element = 1\n",
    "\n",
    "    for element in queue:\n",
    "        if element == expected_element:\n",
    "            result_queue.append(element)\n",
    "            expected_element += 1\n",
    "        else:\n",
    "            while stack and stack[-1] == expected_element:\n",
    "                result_queue.append(stack.pop())\n",
    "                expected_element += 1\n",
    "            stack.append(element)\n",
    "\n",
    "    while stack and stack[-1] == expected_element:\n",
    "        result_queue.append(stack.pop())\n",
    "        expected_element += 1\n",
    "\n",
    "    if not stack:\n",
    "        return \"Yes\"\n",
    "    else:\n",
    "        return \"No\"\n",
    "\n",
    "\n"
   ]
  },
  {
   "cell_type": "code",
   "execution_count": 6,
   "id": "1d898b46",
   "metadata": {},
   "outputs": [
    {
     "name": "stdout",
     "output_type": "stream",
     "text": [
      "Yes\n"
     ]
    }
   ],
   "source": [
    "# Example usage:\n",
    "queue = [5, 1, 2, 3, 4]\n",
    "result = arrange_in_increasing_order(queue)\n",
    "print(result)"
   ]
  },
  {
   "cell_type": "code",
   "execution_count": 7,
   "id": "20602c18",
   "metadata": {},
   "outputs": [
    {
     "name": "stdout",
     "output_type": "stream",
     "text": [
      "No\n"
     ]
    }
   ],
   "source": [
    "# Example usage:\n",
    "queue = [5, 1, 2, 6, 3, 4]\n",
    "result = arrange_in_increasing_order(queue)\n",
    "print(result)"
   ]
  },
  {
   "cell_type": "markdown",
   "id": "1ab3bccf",
   "metadata": {},
   "source": [
    "**Question 5**\n",
    "\n",
    "Given a number , write a program to reverse this number using stack.\n",
    "\n",
    "**Examples:**\n",
    "\n",
    "```\n",
    "Input : 365\n",
    "Output : 563\n",
    "\n",
    "Input : 6899\n",
    "Output : 9986\n",
    "```\n"
   ]
  },
  {
   "cell_type": "code",
   "execution_count": 8,
   "id": "052d51f0",
   "metadata": {},
   "outputs": [],
   "source": [
    "def reverse_number(num):\n",
    "    num_str = str(num)\n",
    "    stack = []\n",
    "\n",
    "    for digit in num_str:\n",
    "        stack.append(digit)\n",
    "\n",
    "    reversed_num_str = \"\"\n",
    "    while stack:\n",
    "        reversed_num_str += stack.pop()\n",
    "\n",
    "    reversed_num = int(reversed_num_str)\n",
    "\n",
    "    return reversed_num\n",
    "\n"
   ]
  },
  {
   "cell_type": "code",
   "execution_count": 10,
   "id": "adcb1c42",
   "metadata": {},
   "outputs": [
    {
     "name": "stdout",
     "output_type": "stream",
     "text": [
      "563\n"
     ]
    }
   ],
   "source": [
    "# Example usage:\n",
    "num = 365\n",
    "reversed_num = reverse_number(num)\n",
    "print(reversed_num)"
   ]
  },
  {
   "cell_type": "code",
   "execution_count": 11,
   "id": "a7bd1abd",
   "metadata": {},
   "outputs": [
    {
     "name": "stdout",
     "output_type": "stream",
     "text": [
      "9986\n"
     ]
    }
   ],
   "source": [
    "# Example usage:\n",
    "num = 6899\n",
    "reversed_num = reverse_number(num)\n",
    "print(reversed_num)"
   ]
  },
  {
   "cell_type": "markdown",
   "id": "1f9e99dd",
   "metadata": {},
   "source": [
    "**Question 6**\n",
    "\n",
    "Given an integer k and a **[queue](https://www.geeksforgeeks.org/queue-data-structure/)** of integers, The task is to reverse the order of the first **k** elements of the queue, leaving the other elements in the same relative order.\n",
    "\n",
    "Only following standard operations are allowed on queue.\n",
    "\n",
    "- **enqueue(x) :** Add an item x to rear of queue\n",
    "- **dequeue() :** Remove an item from front of queue\n",
    "- **size() :** Returns number of elements in queue.\n",
    "- **front() :** Finds front item.\n"
   ]
  },
  {
   "cell_type": "code",
   "execution_count": 32,
   "id": "bf47d9a3",
   "metadata": {},
   "outputs": [],
   "source": [
    "class Queue:\n",
    "    def __init__(self):\n",
    "        self.items = []\n",
    "    \n",
    "    def enqueue(self, item):\n",
    "        self.items.append(item)\n",
    "    \n",
    "    def dequeue(self):\n",
    "        if not self.is_empty():\n",
    "            return self.items.pop(0)\n",
    "    \n",
    "    def is_empty(self):\n",
    "        return len(self.items) == 0\n",
    "    \n",
    "    def size(self):\n",
    "        return len(self.items)\n",
    "    \n",
    "    def front(self):\n",
    "        if not self.is_empty():\n",
    "            return self.items[0]\n",
    "\n",
    "def reverse_first_k_elements(queue, k):\n",
    "    if k <= 0 or k > queue.size():\n",
    "        return queue\n",
    "\n",
    "    stack = []\n",
    "    temp_queue = Queue()\n",
    "\n",
    "    for _ in range(k):\n",
    "        stack.append(queue.dequeue())\n",
    "\n",
    "    while stack:\n",
    "        temp_queue.enqueue(stack.pop())\n",
    "\n",
    "    while not queue.is_empty():\n",
    "        temp_queue.enqueue(queue.dequeue())\n",
    "\n",
    "    while not temp_queue.is_empty():\n",
    "        queue.enqueue(temp_queue.dequeue())\n",
    "\n",
    "    return queue\n"
   ]
  },
  {
   "cell_type": "code",
   "execution_count": 34,
   "id": "89fbb4a3",
   "metadata": {},
   "outputs": [
    {
     "name": "stdout",
     "output_type": "stream",
     "text": [
      "3\n",
      "2\n",
      "1\n",
      "4\n",
      "5\n"
     ]
    }
   ],
   "source": [
    "# Example usage:\n",
    "queue = Queue()\n",
    "queue.enqueue(1)\n",
    "queue.enqueue(2)\n",
    "queue.enqueue(3)\n",
    "queue.enqueue(4)\n",
    "queue.enqueue(5)\n",
    "k = 3\n",
    "reversed_queue = reverse_first_k_elements(queue, k)\n",
    "while not reversed_queue.is_empty():\n",
    "    print(reversed_queue.dequeue())\n"
   ]
  },
  {
   "cell_type": "markdown",
   "id": "a251f8c5",
   "metadata": {},
   "source": [
    "**Question 7**\n",
    "\n",
    "Given a sequence of n strings, the task is to check if any two similar words come together and then destroy each other then print the number of words left in the sequence after this pairwise destruction.\n",
    "\n",
    "**Examples:**\n",
    "\n",
    "Input : ab aa aa bcd ab\n",
    "\n",
    "Output : 3\n",
    "\n",
    "*As aa, aa destroys each other so,*\n",
    "\n",
    "*ab bcd ab is the new sequence.*\n",
    "\n",
    "Input :  tom jerry jerry tom\n",
    "\n",
    "Output : 0\n",
    "\n",
    "*As first both jerry will destroy each other.*\n",
    "\n",
    "*Then sequence will be tom, tom they will also destroy*\n",
    "\n",
    "*each other. So, the final sequence doesn’t contain any*\n",
    "\n",
    "*word.*\n"
   ]
  },
  {
   "cell_type": "code",
   "execution_count": 12,
   "id": "99dc6929",
   "metadata": {},
   "outputs": [],
   "source": [
    "def count_words_left(sequence):\n",
    "    words = sequence.split()\n",
    "    stack = []\n",
    "\n",
    "    for word in words:\n",
    "        if not stack or word != stack[-1]:\n",
    "            stack.append(word)\n",
    "        else:\n",
    "            stack.pop()\n",
    "\n",
    "    return len(stack)\n"
   ]
  },
  {
   "cell_type": "code",
   "execution_count": 13,
   "id": "146db2d9",
   "metadata": {},
   "outputs": [
    {
     "name": "stdout",
     "output_type": "stream",
     "text": [
      "3\n"
     ]
    }
   ],
   "source": [
    "# Example usage:\n",
    "sequence = \"ab aa aa bcd ab\"\n",
    "words_left = count_words_left(sequence)\n",
    "print(words_left)"
   ]
  },
  {
   "cell_type": "code",
   "execution_count": 14,
   "id": "cbbf22ec",
   "metadata": {},
   "outputs": [
    {
     "name": "stdout",
     "output_type": "stream",
     "text": [
      "0\n"
     ]
    }
   ],
   "source": [
    "# Example usage:\n",
    "sequence = \"tom jerry jerry tom\"\n",
    "words_left = count_words_left(sequence)\n",
    "print(words_left)"
   ]
  },
  {
   "cell_type": "markdown",
   "id": "2e5b8564",
   "metadata": {},
   "source": [
    "<**Question 8**\n",
    "\n",
    "Given an array of integers, the task is to find the maximum absolute difference between the nearest left and the right smaller element of every element in the array.\n",
    "\n",
    "**Note:** If there is no smaller element on right side or left side of any element then we take zero as the smaller element. For example for the leftmost element, the nearest smaller element on the left side is considered as 0. Similarly, for rightmost elements, the smaller element on the right side is considered as 0.\n",
    "\n",
    "**Examples:**\n",
    "\n",
    "```\n",
    "Input : arr[] = {2, 1, 8}\n",
    "Output : 1\n",
    "Left smaller  LS[] {0, 0, 1}\n",
    "Right smaller RS[] {1, 0, 0}\n",
    "Maximum Diff of abs(LS[i] - RS[i]) = 1\n",
    "\n",
    "Input  : arr[] = {2, 4, 8, 7, 7, 9, 3}\n",
    "Output : 4\n",
    "Left smaller   LS[] = {0, 2, 4, 4, 4, 7, 2}\n",
    "Right smaller  RS[] = {0, 3, 7, 3, 3, 3, 0}\n",
    "Maximum Diff of abs(LS[i] - RS[i]) = 7 - 3 = 4\n",
    "\n",
    "Input : arr[] = {5, 1, 9, 2, 5, 1, 7}\n",
    "Output : 1\n",
    "```\n"
   ]
  },
  {
   "cell_type": "code",
   "execution_count": 64,
   "id": "1f3c5c6a",
   "metadata": {},
   "outputs": [],
   "source": [
    "def find_max_abs_difference(arr):\n",
    "    n = len(arr)\n",
    "    left_smaller = [0] * n\n",
    "    right_smaller = [0] * n\n",
    "\n",
    "    left_smaller[0] = 0  # No smaller element on the left side of the leftmost element\n",
    "\n",
    "    # Finding nearest smaller element on the left side for each element\n",
    "    for i in range(1, n):\n",
    "        left_smaller[i] = i - 1 if arr[i-1] < arr[i] else left_smaller[i-1]\n",
    "\n",
    "    right_smaller[n-1] = 0  # No smaller element on the right side of the rightmost element\n",
    "\n",
    "    # Finding nearest smaller element on the right side for each element\n",
    "    for i in range(n-2, -1, -1):\n",
    "        right_smaller[i] = i + 1 if arr[i+1] < arr[i] else right_smaller[i+1]\n",
    "\n",
    "    max_diff = 0\n",
    "\n",
    "    # Calculate the maximum absolute difference\n",
    "    for i in range(n):\n",
    "        diff = abs(arr[left_smaller[i]] - arr[right_smaller[i]])\n",
    "        max_diff = max(max_diff, diff)\n",
    "\n",
    "    return max_diff"
   ]
  },
  {
   "cell_type": "code",
   "execution_count": 65,
   "id": "4b1784da",
   "metadata": {},
   "outputs": [
    {
     "name": "stdout",
     "output_type": "stream",
     "text": [
      "1\n"
     ]
    }
   ],
   "source": [
    "# Example usage:\n",
    "arr = [2, 1, 8]\n",
    "max_abs_diff = find_max_abs_difference(arr)\n",
    "print(max_abs_diff)  # Output: 1"
   ]
  },
  {
   "cell_type": "code",
   "execution_count": 66,
   "id": "33afdec6",
   "metadata": {},
   "outputs": [
    {
     "name": "stdout",
     "output_type": "stream",
     "text": [
      "5\n"
     ]
    }
   ],
   "source": [
    "# Example usage:\n",
    "arr = [2, 4, 8, 7, 7, 9, 3]\n",
    "max_abs_diff = find_max_abs_difference(arr)\n",
    "print(max_abs_diff)"
   ]
  },
  {
   "cell_type": "code",
   "execution_count": 67,
   "id": "3970835f",
   "metadata": {},
   "outputs": [
    {
     "name": "stdout",
     "output_type": "stream",
     "text": [
      "4\n"
     ]
    }
   ],
   "source": [
    "# Example usage:\n",
    "arr = [5, 1, 9, 2, 5, 1, 7]\n",
    "max_abs_diff = find_max_abs_difference(arr)\n",
    "print(max_abs_diff)  # Output: 1"
   ]
  },
  {
   "cell_type": "code",
   "execution_count": null,
   "id": "008573d4",
   "metadata": {},
   "outputs": [],
   "source": []
  }
 ],
 "metadata": {
  "kernelspec": {
   "display_name": "Python 3 (ipykernel)",
   "language": "python",
   "name": "python3"
  },
  "language_info": {
   "codemirror_mode": {
    "name": "ipython",
    "version": 3
   },
   "file_extension": ".py",
   "mimetype": "text/x-python",
   "name": "python",
   "nbconvert_exporter": "python",
   "pygments_lexer": "ipython3",
   "version": "3.9.13"
  }
 },
 "nbformat": 4,
 "nbformat_minor": 5
}
