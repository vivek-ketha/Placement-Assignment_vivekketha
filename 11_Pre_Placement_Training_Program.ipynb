{
  "nbformat": 4,
  "nbformat_minor": 0,
  "metadata": {
    "colab": {
      "provenance": []
    },
    "kernelspec": {
      "name": "python3",
      "display_name": "Python 3"
    },
    "language_info": {
      "name": "python"
    }
  },
  "cells": [
    {
      "cell_type": "markdown",
      "source": [
        "<aside>\n",
        "💡 **Question 1**\n",
        "\n",
        "Given a non-negative integer `x`, return *the square root of* `x` *rounded down to the nearest integer*. The returned integer should be **non-negative** as well.\n",
        "\n",
        "You **must not use** any built-in exponent function or operator.\n",
        "\n",
        "- For example, do not use `pow(x, 0.5)` in c++ or `x ** 0.5` in python.\n",
        "\n",
        "**Example 1:**\n",
        "\n",
        "```\n",
        "Input: x = 4\n",
        "Output: 2\n",
        "Explanation: The square root of 4 is 2, so we return 2.\n",
        "\n",
        "```\n",
        "\n",
        "**Example 2:**\n",
        "\n",
        "</aside>\n",
        "Input: x = 8\n",
        "Output: 2\n",
        "Explanation: The square root of 8 is 2.82842..., and since we round it down to the nearest integer, 2 is returned."
      ],
      "metadata": {
        "id": "-kRI3SaY1f5T"
      }
    },
    {
      "cell_type": "code",
      "execution_count": 1,
      "metadata": {
        "colab": {
          "base_uri": "https://localhost:8080/"
        },
        "id": "Wee5sHdt1cBV",
        "outputId": "c16d6eca-23aa-4d55-ae5e-3cdca49d3f26"
      },
      "outputs": [
        {
          "output_type": "stream",
          "name": "stdout",
          "text": [
            "2\n"
          ]
        }
      ],
      "source": [
        "# Python3 program to find floor(sqrt(x)\n",
        "\n",
        "# Returns floor of square root of x\n",
        "\n",
        "\n",
        "def floorSqrt(x):\n",
        "\n",
        "\t# Base cases\n",
        "\tif (x == 0 or x == 1):\n",
        "\t\treturn x\n",
        "\n",
        "\t# Starting from 1, try all numbers until\n",
        "\t# i*i is greater than or equal to x.\n",
        "\ti = 1\n",
        "\tresult = 1\n",
        "\twhile (result <= x):\n",
        "\n",
        "\t\ti += 1\n",
        "\t\tresult = i * i\n",
        "\n",
        "\treturn i - 1\n",
        "\n",
        "\n",
        "# Driver Code\n",
        "x = 8\n",
        "print(floorSqrt(x))\n",
        "\n",
        "\n"
      ]
    },
    {
      "cell_type": "markdown",
      "source": [
        "<aside>\n",
        "💡 **Question 2**\n",
        "\n",
        "A peak element is an element that is strictly greater than its neighbors.\n",
        "\n",
        "Given a **0-indexed** integer array `nums`, find a peak element, and return its index. If the array contains multiple peaks, return the index to **any of the peaks**.\n",
        "\n",
        "You may imagine that `nums[-1] = nums[n] = -∞`. In other words, an element is always considered to be strictly greater than a neighbor that is outside the array.\n",
        "\n",
        "You must write an algorithm that runs in `O(log n)` time.\n",
        "\n",
        "**Example 1:**\n",
        "\n",
        "```\n",
        "Input: nums = [1,2,3,1]\n",
        "Output: 2\n",
        "Explanation: 3 is a peak element and your function should return the index number 2.\n",
        "```\n",
        "\n",
        "**Example 2:**\n",
        "\n",
        "</aside>\n",
        "Input: nums = [1,2,1,3,5,6,4]\n",
        "Output: 5\n",
        "Explanation: Your function can return either index number 1 where the peak element is 2, or index number 5 where the peak element is 6."
      ],
      "metadata": {
        "id": "sKQ8r1aL1uSr"
      }
    },
    {
      "cell_type": "code",
      "source": [
        "\n",
        "def findPeakElement(nums: list[int]) -> int:\n",
        "    left, right = 0, len(nums) - 1\n",
        "    while left < right:\n",
        "        mid = (left + right) >> 1\n",
        "        if nums[mid] > nums[mid + 1]:\n",
        "            right = mid\n",
        "        else:\n",
        "            left = mid + 1\n",
        "    return left"
      ],
      "metadata": {
        "id": "i7opLQSb1rax"
      },
      "execution_count": 5,
      "outputs": []
    },
    {
      "cell_type": "code",
      "source": [
        "findPeakElement(nums = [1,2,1,3,5,6,4])"
      ],
      "metadata": {
        "colab": {
          "base_uri": "https://localhost:8080/"
        },
        "id": "cbs-dKFu16bO",
        "outputId": "ee731b71-78f7-4bf3-bf50-029194175060"
      },
      "execution_count": 6,
      "outputs": [
        {
          "output_type": "execute_result",
          "data": {
            "text/plain": [
              "5"
            ]
          },
          "metadata": {},
          "execution_count": 6
        }
      ]
    },
    {
      "cell_type": "markdown",
      "source": [
        "<aside>\n",
        "💡 **Question 3**\n",
        "\n",
        "****\n",
        "\n",
        "Given an array `nums` containing `n` distinct numbers in the range `[0, n]`, return *the only number in the range that is missing from the array.*\n",
        "\n",
        "**Example 1:**\n",
        "\n",
        "```\n",
        "Input: nums = [3,0,1]\n",
        "Output: 2\n",
        "Explanation: n = 3 since there are 3 numbers, so all numbers are in the range [0,3]. 2 is the missing number in the range since it does not appear in nums.\n",
        "\n",
        "```\n",
        "\n",
        "**Example 2:**\n",
        "\n",
        "```\n",
        "Input: nums = [0,1]\n",
        "Output: 2\n",
        "Explanation: n = 2 since there are 2 numbers, so all numbers are in the range [0,2]. 2 is the missing number in the range since it does not appear in nums.\n",
        "\n",
        "```\n",
        "\n",
        "**Example 3:**\n",
        "\n",
        "</aside>\n",
        "Input: nums = [9,6,4,2,3,5,7,0,1]\n",
        "Output: 8\n",
        "Explanation: n = 9 since there are 9 numbers, so all numbers are in the range [0,9]. 8 is the missing number in the range since it does not appear in nums."
      ],
      "metadata": {
        "id": "GbYIoIu12xcF"
      }
    },
    {
      "cell_type": "code",
      "source": [
        "# Find Missing Element\n",
        "def findMissing(arr, N):\n",
        "\n",
        "\t# create a list of zeroes\n",
        "\ttemp = [0] * (N+1)\n",
        "\n",
        "\tfor i in range(0, N):\n",
        "\t\ttemp[arr[i] - 1] = 1\n",
        "\n",
        "\tfor i in range(0, N+1):\n",
        "\t\tif(temp[i] == 0):\n",
        "\t\t\tans = i + 1\n",
        "\n",
        "\tprint(ans)\n",
        "\n",
        "# Driver code\n",
        "if __name__ == '__main__':\n",
        "\tarr =  [9,6,4,2,3,5,7,0,1]\n",
        "\tN = len(arr)\n",
        "\n",
        "\t# Function call\n",
        "\tfindMissing(arr, N)\n",
        "\n"
      ],
      "metadata": {
        "colab": {
          "base_uri": "https://localhost:8080/"
        },
        "id": "sCfiYIBd2rz5",
        "outputId": "87e14ddd-d951-47a9-f0d9-66d925cf4c89"
      },
      "execution_count": 7,
      "outputs": [
        {
          "output_type": "stream",
          "name": "stdout",
          "text": [
            "8\n"
          ]
        }
      ]
    },
    {
      "cell_type": "markdown",
      "source": [
        "<aside>\n",
        "💡 **Question 4**\n",
        "\n",
        "Given an array of integers `nums` containing `n + 1` integers where each integer is in the range `[1, n]` inclusive.\n",
        "\n",
        "There is only **one repeated number** in `nums`, return *this repeated number*.\n",
        "\n",
        "You must solve the problem **without** modifying the array `nums` and uses only constant extra space.\n",
        "\n",
        "**Example 1:**\n",
        "\n",
        "```\n",
        "Input: nums = [1,3,4,2,2]\n",
        "Output: 2\n",
        "\n",
        "```\n",
        "\n",
        "**Example 2:**\n",
        "\n",
        "</aside>\n",
        "Input: nums = [3,1,3,4,2]\n",
        "Output: 3"
      ],
      "metadata": {
        "id": "ON0fyZUC3Ab3"
      }
    },
    {
      "cell_type": "code",
      "source": [
        "# Python3 program to find the only\n",
        "# repeating element in an array where\n",
        "# elements are from 1 to N-1.\n",
        "\n",
        "\n",
        "def findRepeating(arr, N):\n",
        "\tfor i in range(N):\n",
        "\t\tfor j in range(i + 1, N):\n",
        "\t\t\tif (arr[i] == arr[j]):\n",
        "\t\t\t\treturn arr[i]\n",
        "\n",
        "\n",
        "# Driver's Code\n",
        "if __name__ == \"__main__\":\n",
        "  arr =  [3,1,3,4,2] \n",
        "  N = len(arr)\n",
        "\n",
        "# Function call\n",
        "print(findRepeating(arr, N))\n",
        "\n",
        "\n"
      ],
      "metadata": {
        "colab": {
          "base_uri": "https://localhost:8080/"
        },
        "id": "Bw5UkIQG29uC",
        "outputId": "140b96df-a23b-413a-df75-b2059eaf2571"
      },
      "execution_count": 9,
      "outputs": [
        {
          "output_type": "stream",
          "name": "stdout",
          "text": [
            "3\n"
          ]
        }
      ]
    },
    {
      "cell_type": "markdown",
      "source": [
        "<aside>\n",
        "💡 **Question 5**\n",
        "\n",
        "Given two integer arrays `nums1` and `nums2`, return *an array of their intersection*. Each element in the result must be **unique** and you may return the result in **any order**.\n",
        "\n",
        "**Example 1:**\n",
        "\n",
        "```\n",
        "Input: nums1 = [1,2,2,1], nums2 = [2,2]\n",
        "Output: [2]\n",
        "\n",
        "```\n",
        "\n",
        "**Example 2:**\n",
        "\n",
        "</aside>\n",
        "Input: nums1 = [4,9,5], nums2 = [9,4,9,8,4]\n",
        "Output: [9,4]\n",
        "Explanation: [4,9] is also accepted."
      ],
      "metadata": {
        "id": "fpnf8d-U3URZ"
      }
    },
    {
      "cell_type": "code",
      "source": [
        "# Python 3 code to find intersection\n",
        "# when elements may not be distinct\n",
        "\n",
        "# Function to find intersection\n",
        "\n",
        "\n",
        "def intersection(a, b, n, m):\n",
        "\n",
        "\ti = 0\n",
        "\tj = 0\n",
        "\n",
        "\twhile (i < n and j < m):\n",
        "\n",
        "\t\tif (a[i] > b[j]):\n",
        "\t\t\tj += 1\n",
        "\n",
        "\t\telse:\n",
        "\t\t\tif (b[j] > a[i]):\n",
        "\t\t\t\ti += 1\n",
        "\n",
        "\t\t\telse:\n",
        "\t\t\t\t# when both are equal\n",
        "\t\t\t\tprint(a[i], end=\" \")\n",
        "\t\t\t\ti += 1\n",
        "\t\t\t\tj += 1\n",
        "\n",
        "\n",
        "# Driver Code\n",
        "if __name__ == \"__main__\":\n",
        "\n",
        "\ta = [4,9,5]\n",
        "\tb = [9,4,9,8,4]\n",
        "\n",
        "\tn = len(a)\n",
        "\tm = len(b)\n",
        "\n",
        "\t# sort\n",
        "\ta.sort()\n",
        "\tb.sort()\n",
        "\n",
        "\t# function call\n",
        "\tintersection(a, b, n, m)\n",
        "\n"
      ],
      "metadata": {
        "colab": {
          "base_uri": "https://localhost:8080/"
        },
        "id": "AunvbKTY3Mlk",
        "outputId": "4b53a23c-be1c-4058-88c1-034f7c557a11"
      },
      "execution_count": 13,
      "outputs": [
        {
          "output_type": "stream",
          "name": "stdout",
          "text": [
            "4 9 "
          ]
        }
      ]
    },
    {
      "cell_type": "markdown",
      "source": [
        "<aside>\n",
        "💡 **Question 6**\n",
        "\n",
        "Suppose an array of length `n` sorted in ascending order is **rotated** between `1` and `n` times. For example, the array `nums = [0,1,2,4,5,6,7]` might become:\n",
        "\n",
        "- `[4,5,6,7,0,1,2]` if it was rotated `4` times.\n",
        "- `[0,1,2,4,5,6,7]` if it was rotated `7` times.\n",
        "\n",
        "Notice that **rotating** an array `[a[0], a[1], a[2], ..., a[n-1]]` 1 time results in the array `[a[n-1], a[0], a[1], a[2], ..., a[n-2]]`.\n",
        "\n",
        "Given the sorted rotated array `nums` of **unique** elements, return *the minimum element of this array*.\n",
        "\n",
        "You must write an algorithm that runs in `O(log n) time.`\n",
        "\n",
        "**Example 1:**\n",
        "\n",
        "```\n",
        "Input: nums = [3,4,5,1,2]\n",
        "Output: 1\n",
        "Explanation: The original array was [1,2,3,4,5] rotated 3 times.\n",
        "\n",
        "```\n",
        "\n",
        "**Example 2:**\n",
        "\n",
        "```\n",
        "Input: nums = [4,5,6,7,0,1,2]\n",
        "Output: 0\n",
        "Explanation: The original array was [0,1,2,4,5,6,7] and it was rotated 4 times.\n",
        "\n",
        "```\n",
        "\n",
        "**Example 3:**\n",
        "\n",
        "</aside>\n",
        "Input: nums = [11,13,15,17]\n",
        "Output: 11\n",
        "Explanation: The original array was [11,13,15,17] and it was rotated 4 times."
      ],
      "metadata": {
        "id": "5ARK650r4tyv"
      }
    },
    {
      "cell_type": "code",
      "source": [
        "def findMin(nums: list[int]) -> int:\n",
        "  if nums[0] <= nums[-1]:\n",
        "      return nums[0]\n",
        "  left, right = 0, len(nums) - 1\n",
        "  while left < right:\n",
        "      mid = (left + right) >> 1\n",
        "      if nums[0] <= nums[mid]:\n",
        "          left = mid + 1\n",
        "      else:\n",
        "          right = mid\n",
        "  return nums[left]"
      ],
      "metadata": {
        "id": "JkY6uAMI3rzC"
      },
      "execution_count": 14,
      "outputs": []
    },
    {
      "cell_type": "code",
      "source": [
        "findMin(nums = [11,13,15,17] )"
      ],
      "metadata": {
        "colab": {
          "base_uri": "https://localhost:8080/"
        },
        "id": "4R9sJHb54_RS",
        "outputId": "f69bfd36-708e-437f-aad5-141c6ccd6d30"
      },
      "execution_count": 15,
      "outputs": [
        {
          "output_type": "execute_result",
          "data": {
            "text/plain": [
              "11"
            ]
          },
          "metadata": {},
          "execution_count": 15
        }
      ]
    },
    {
      "cell_type": "markdown",
      "source": [
        "<aside>\n",
        "💡 **Question 7**\n",
        "\n",
        "Given an array of integers `nums` sorted in non-decreasing order, find the starting and ending position of a given `target` value.\n",
        "\n",
        "If `target` is not found in the array, return `[-1, -1]`.\n",
        "\n",
        "You must write an algorithm with `O(log n)` runtime complexity.\n",
        "\n",
        "**Example 1:**\n",
        "\n",
        "```\n",
        "Input: nums = [5,7,7,8,8,10], target = 8\n",
        "Output: [3,4]\n",
        "\n",
        "```\n",
        "\n",
        "**Example 2:**\n",
        "\n",
        "```\n",
        "Input: nums = [5,7,7,8,8,10], target = 6\n",
        "Output: [-1,-1]\n",
        "\n",
        "```\n",
        "\n",
        "**Example 3:**\n",
        "\n",
        "</aside>\n",
        "Input: nums = [], target = 0\n",
        "Output: [-1,-1]"
      ],
      "metadata": {
        "id": "_neqfu5y5Hvo"
      }
    },
    {
      "cell_type": "code",
      "source": [
        "# Python 3 program to find first and\n",
        "# last occurrence of an elements in\n",
        "# given sorted array\n",
        "\n",
        "\n",
        "# Function for finding first and last\n",
        "# occurrence of an elements\n",
        "def findFirstAndLast(arr, n, x):\n",
        "\tfirst = -1\n",
        "\tlast = -1\n",
        "\tfor i in range(0, n):\n",
        "\t\tif (x != arr[i]):\n",
        "\t\t\tcontinue\n",
        "\t\tif (first == -1):\n",
        "\t\t\tfirst = i\n",
        "\t\tlast = i\n",
        "\n",
        "\tif (first != -1):\n",
        "\t\tprint(\"First Occurrence = \", first,\n",
        "\t\t\t\" \\nLast Occurrence = \", last)\n",
        "\telse:\n",
        "\t\tprint(\"Not Found\")\n",
        "\n",
        "\n",
        "# Driver code\n",
        "arr = [5,7,7,8,8,10]\n",
        "n = len(arr)\n",
        "x = 8\n",
        "findFirstAndLast(arr, n, x)\n",
        "\n"
      ],
      "metadata": {
        "colab": {
          "base_uri": "https://localhost:8080/"
        },
        "id": "35v1OOad5C_X",
        "outputId": "a7d123bf-9115-49ac-ff12-50bebb51add7"
      },
      "execution_count": 17,
      "outputs": [
        {
          "output_type": "stream",
          "name": "stdout",
          "text": [
            "First Occurrence =  3  \n",
            "Last Occurrence =  4\n"
          ]
        }
      ]
    },
    {
      "cell_type": "markdown",
      "source": [
        "<aside>\n",
        "💡 **Question 8**\n",
        "\n",
        "Given two integer arrays `nums1` and `nums2`, return *an array of their intersection*. Each element in the result must appear as many times as it shows in both arrays and you may return the result in **any order**.\n",
        "\n",
        "**Example 1:**\n",
        "\n",
        "```\n",
        "Input: nums1 = [1,2,2,1], nums2 = [2,2]\n",
        "Output: [2,2]\n",
        "\n",
        "```\n",
        "\n",
        "**Example 2:**\n",
        "\n",
        "</aside>\n",
        "Input: nums1 = [4,9,5], nums2 = [9,4,9,8,4]\n",
        "Output: [4,9]\n",
        "Explanation: [9,4] is also accepted."
      ],
      "metadata": {
        "id": "JikM5Xb16BhZ"
      }
    },
    {
      "cell_type": "code",
      "source": [
        "# Python 3 code to find intersection\n",
        "# when elements may not be distinct\n",
        "\n",
        "# Function to find intersection\n",
        "\n",
        "\n",
        "def intersection(a, b, n, m):\n",
        "\n",
        "\ti = 0\n",
        "\tj = 0\n",
        "\n",
        "\twhile (i < n and j < m):\n",
        "\n",
        "\t\tif (a[i] > b[j]):\n",
        "\t\t\tj += 1\n",
        "\n",
        "\t\telse:\n",
        "\t\t\tif (b[j] > a[i]):\n",
        "\t\t\t\ti += 1\n",
        "\n",
        "\t\t\telse:\n",
        "\t\t\t\t# when both are equal\n",
        "\t\t\t\tprint(a[i], end=\" \")\n",
        "\t\t\t\ti += 1\n",
        "\t\t\t\tj += 1\n",
        "\n",
        "\n",
        "# Driver Code\n",
        "if __name__ == \"__main__\":\n",
        "\n",
        "\ta = [4,9,5]\n",
        "\tb = [9,4,9,8,4]\n",
        "\n",
        "\tn = len(a)\n",
        "\tm = len(b)\n",
        "\n",
        "\t# sort\n",
        "\ta.sort()\n",
        "\tb.sort()\n",
        "\n",
        "\t# function call\n",
        "\tintersection(a, b, n, m)\n",
        "\n"
      ],
      "metadata": {
        "colab": {
          "base_uri": "https://localhost:8080/"
        },
        "id": "gHo_zeZx5ua-",
        "outputId": "d56b11d2-37f0-4f6f-e340-0831585c2088"
      },
      "execution_count": 18,
      "outputs": [
        {
          "output_type": "stream",
          "name": "stdout",
          "text": [
            "4 9 "
          ]
        }
      ]
    },
    {
      "cell_type": "code",
      "source": [],
      "metadata": {
        "id": "WBDoY_YN6din"
      },
      "execution_count": null,
      "outputs": []
    }
  ]
}