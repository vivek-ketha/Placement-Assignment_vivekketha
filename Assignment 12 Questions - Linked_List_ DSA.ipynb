{
 "cells": [
  {
   "cell_type": "markdown",
   "id": "526426c8",
   "metadata": {},
   "source": [
    "**Question 1**\n",
    "\n",
    "Given a singly linked list, delete **middle** of the linked list. For example, if given linked list is 1->2->**3**->4->5 then linked list should be modified to 1->2->4->5.If there are **even** nodes, then there would be **two middle** nodes, we need to delete the second middle element. For example, if given linked list is 1->2->3->4->5->6 then it should be modified to 1->2->3->5->6.If the input linked list is NULL or has 1 node, then it should return NULL\n",
    "\n",
    "**Example 1:**\n",
    "\n",
    "```\n",
    "Input:\n",
    "LinkedList: 1->2->3->4->5\n",
    "Output:1 2 4 5\n",
    "\n",
    "```\n",
    "\n",
    "**Example 2:**\n",
    "\n",
    "```\n",
    "Input:\n",
    "LinkedList: 2->4->6->7->5->1\n",
    "Output:2 4 6 5 1\n",
    "```\n"
   ]
  },
  {
   "cell_type": "code",
   "execution_count": 3,
   "id": "ec0c7694",
   "metadata": {},
   "outputs": [],
   "source": [
    "class Node:\n",
    "    def __init__(self, data):\n",
    "        self.data = data\n",
    "        self.next = None\n",
    "\n",
    "\n",
    "def deleteMiddle(head):\n",
    "    # Check if the linked list is empty or has only one node\n",
    "    if head is None or head.next is None:\n",
    "        return None\n",
    "\n",
    "    slow = head\n",
    "    fast = head\n",
    "    prev = None\n",
    "\n",
    "    while fast is not None and fast.next is not None:\n",
    "        fast = fast.next.next\n",
    "        prev = slow\n",
    "        slow = slow.next\n",
    "\n",
    "    # Delete the second middle node for even-length linked lists\n",
    "    if prev is not None:\n",
    "        prev.next = slow.next\n",
    "    else:\n",
    "        # Delete the first (and only) middle node for odd-length linked lists\n",
    "        head = head.next\n",
    "\n",
    "    # Free the memory of the middle node(s)\n",
    "    slow.next = None\n",
    "\n",
    "    return head\n"
   ]
  },
  {
   "cell_type": "code",
   "execution_count": 4,
   "id": "c7d9d24e",
   "metadata": {},
   "outputs": [
    {
     "name": "stdout",
     "output_type": "stream",
     "text": [
      "1 2 4 5 "
     ]
    }
   ],
   "source": [
    "# Create the linked list: 1->2->3->4->5\n",
    "head = Node(1)\n",
    "head.next = Node(2)\n",
    "head.next.next = Node(3)\n",
    "head.next.next.next = Node(4)\n",
    "head.next.next.next.next = Node(5)\n",
    "\n",
    "# Delete the middle node(s)\n",
    "head = deleteMiddle(head)\n",
    "\n",
    "# Print the modified linked list\n",
    "current = head\n",
    "while current is not None:\n",
    "    print(current.data, end=\" \")\n",
    "    current = current.next\n"
   ]
  },
  {
   "cell_type": "code",
   "execution_count": 5,
   "id": "7a82aa1e",
   "metadata": {},
   "outputs": [
    {
     "name": "stdout",
     "output_type": "stream",
     "text": [
      "2 4 6 5 1 "
     ]
    }
   ],
   "source": [
    "# Create the linked list: 2->4->6->7->5->1\n",
    "head = Node(2)\n",
    "head.next = Node(4)\n",
    "head.next.next = Node(6)\n",
    "head.next.next.next = Node(7)\n",
    "head.next.next.next.next = Node(5)\n",
    "head.next.next.next.next.next = Node(1)\n",
    "# Delete the middle node(s)\n",
    "head = deleteMiddle(head)\n",
    "\n",
    "# Print the modified linked list\n",
    "current = head\n",
    "while current is not None:\n",
    "    print(current.data, end=\" \")\n",
    "    current = current.next\n"
   ]
  },
  {
   "cell_type": "markdown",
   "id": "0095dd0c",
   "metadata": {},
   "source": [
    "**Question 2**\n",
    "\n",
    "Given a linked list of **N** nodes. The task is to check if the linked list has a loop. Linked list can contain self loop.\n",
    "\n",
    "**Example 1:**\n",
    "\n",
    "```\n",
    "Input:\n",
    "N = 3\n",
    "value[] = {1,3,4}\n",
    "x(position at which tail is connected) = 2\n",
    "Output:True\n",
    "Explanation:In above test case N = 3.\n",
    "The linked list with nodes N = 3 is\n",
    "given. Then value of x=2 is given which\n",
    "means last node is connected with xth\n",
    "node of linked list. Therefore, there\n",
    "exists a loop.\n",
    "```\n",
    "\n",
    "**Example 2:**\n",
    "\n",
    "```\n",
    "Input:\n",
    "N = 4\n",
    "value[] = {1,8,3,4}\n",
    "x = 0\n",
    "Output:False\n",
    "Explanation:For N = 4 ,x = 0 means\n",
    "then lastNode->next = NULL, then\n",
    "the Linked list does not contains\n",
    "any loop.\n",
    "```"
   ]
  },
  {
   "cell_type": "code",
   "execution_count": 87,
   "id": "5a4786c5",
   "metadata": {},
   "outputs": [],
   "source": [
    "# Definition of a linked list node\n",
    "class Node:\n",
    "    def __init__(self, data):\n",
    "        self.data = data\n",
    "        self.next = None\n",
    "\n",
    "def detectLoop(head):\n",
    "    if head is None:\n",
    "        return False\n",
    "\n",
    "    # Initialize the slow and fast pointers\n",
    "    slow = head\n",
    "    fast = head\n",
    "\n",
    "    while fast and fast.next:\n",
    "        slow = slow.next\n",
    "        fast = fast.next.next\n",
    "\n",
    "        if slow == fast:\n",
    "            return True\n",
    "\n",
    "    return False\n",
    "\n",
    "\n",
    "# Function to create a linked list with a loop\n",
    "def createLoopLinkedList(values, loopIndex):\n",
    "    if not values:\n",
    "        return None\n",
    "\n",
    "    head = Node(values[0])\n",
    "    tail = head\n",
    "    loopNode = None\n",
    "\n",
    "    for i in range(1, len(values)):\n",
    "        newNode = Node(values[i])\n",
    "        tail.next = newNode\n",
    "        tail = newNode\n",
    "\n",
    "        if i == loopIndex:\n",
    "            loopNode = newNode\n",
    "\n",
    "    if loopNode:\n",
    "        tail.next = loopNode\n",
    "\n",
    "    return head\n"
   ]
  },
  {
   "cell_type": "code",
   "execution_count": 91,
   "id": "b2d3ad00",
   "metadata": {},
   "outputs": [
    {
     "name": "stdout",
     "output_type": "stream",
     "text": [
      "True\n"
     ]
    }
   ],
   "source": [
    "# Example 1\n",
    "values1 = [1, 3, 4]\n",
    "x = 2\n",
    "\n",
    "head1 = createLoopLinkedList(values1, x)\n",
    "\n",
    "isLoopPresent1 = detectLoop(head1)\n",
    "print(isLoopPresent1)"
   ]
  },
  {
   "cell_type": "code",
   "execution_count": 92,
   "id": "2831d5dd",
   "metadata": {},
   "outputs": [
    {
     "name": "stdout",
     "output_type": "stream",
     "text": [
      "False\n"
     ]
    }
   ],
   "source": [
    "# Example 2\n",
    "values2 = [1, 8, 3, 4]\n",
    "x = 0\n",
    "\n",
    "head2 = createLoopLinkedList(values2, x)\n",
    "\n",
    "isLoopPresent2 = detectLoop(head2)\n",
    "print(isLoopPresent2)  "
   ]
  },
  {
   "cell_type": "markdown",
   "id": "07749e91",
   "metadata": {},
   "source": [
    "**Question 3**\n",
    "\n",
    "Given a linked list consisting of **L** nodes and given a number **N**. The task is to find the **N**th node from the end of the linked list.\n",
    "\n",
    "**Example 1:**\n",
    "\n",
    "```\n",
    "Input:\n",
    "N = 2\n",
    "LinkedList: 1->2->3->4->5->6->7->8->9\n",
    "Output:8\n",
    "Explanation:In the first example, there\n",
    "are 9 nodes in linked list and we need\n",
    "to find 2nd node from end. 2nd node\n",
    "from end is 8.\n",
    "\n",
    "```\n",
    "\n",
    "**Example 2:**\n",
    "\n",
    "```\n",
    "Input:\n",
    "N = 5\n",
    "LinkedList: 10->5->100->5\n",
    "Output:-1\n",
    "Explanation:In the second example, there\n",
    "are 4 nodes in the linked list and we\n",
    "need to find 5th from the end. Since 'n'\n",
    "is more than the number of nodes in the\n",
    "linked list, the output is -1.\n",
    "```"
   ]
  },
  {
   "cell_type": "code",
   "execution_count": 44,
   "id": "09f54fd4",
   "metadata": {},
   "outputs": [],
   "source": [
    "# Definition of a linked list node\n",
    "class Node:\n",
    "    def __init__(self, data):\n",
    "        self.data = data\n",
    "        self.next = None\n",
    "\n",
    "def findNthFromEnd(head, N):\n",
    "    # Initialize two pointers, mainPtr and refPtr\n",
    "    mainPtr = head\n",
    "    refPtr = head\n",
    "\n",
    "    # Move the refPtr N nodes ahead\n",
    "    for _ in range(N):\n",
    "        if refPtr is None:\n",
    "            return -1  # N is greater than the length of the linked list\n",
    "        refPtr = refPtr.next\n",
    "\n",
    "    # Move both pointers until refPtr reaches the end of the list\n",
    "    while refPtr is not None:\n",
    "        mainPtr = mainPtr.next\n",
    "        refPtr = refPtr.next\n",
    "\n",
    "    # mainPtr will be at the Nth node from the end\n",
    "    return mainPtr.data\n",
    "\n",
    "\n"
   ]
  },
  {
   "cell_type": "code",
   "execution_count": 45,
   "id": "df2d21df",
   "metadata": {},
   "outputs": [
    {
     "name": "stdout",
     "output_type": "stream",
     "text": [
      "8\n"
     ]
    }
   ],
   "source": [
    "# Example usage\n",
    "values = [1, 2, 3, 4, 5, 6, 7, 8, 9]\n",
    "N = 2\n",
    "head = None\n",
    "prev = None\n",
    "\n",
    "# Create the linked list\n",
    "for value in values:\n",
    "    node = Node(value)\n",
    "    if prev:\n",
    "        prev.next = node\n",
    "    else:\n",
    "        head = node\n",
    "    prev = node\n",
    "\n",
    "result = findNthFromEnd(head, N)\n",
    "print(result)\n"
   ]
  },
  {
   "cell_type": "code",
   "execution_count": 46,
   "id": "c6294d6e",
   "metadata": {},
   "outputs": [
    {
     "name": "stdout",
     "output_type": "stream",
     "text": [
      "-1\n"
     ]
    }
   ],
   "source": [
    "# Example usage 10->5->100->5\n",
    "values = [10, 5, 100, 15]\n",
    "N = 5\n",
    "head = None\n",
    "prev = None\n",
    "\n",
    "# Create the linked list\n",
    "for value in values:\n",
    "    node = Node(value)\n",
    "    if prev:\n",
    "        prev.next = node\n",
    "    else:\n",
    "        head = node\n",
    "    prev = node\n",
    "\n",
    "result = findNthFromEnd(head, N)\n",
    "print(result)"
   ]
  },
  {
   "attachments": {},
   "cell_type": "markdown",
   "id": "12b36ab0",
   "metadata": {},
   "source": [
    "**Question 4**\n",
    "\n",
    "Given a singly linked list of characters, write a function that returns true if the given list is a palindrome, else false.\n",
    "\n",
    "https://media.geeksforgeeks.org/wp-content/uploads/20220816144425/LLdrawio.png![image.png](attachment:image.png)\n",
    "\n",
    "**Examples:**\n",
    "\n",
    "> Input: R->A->D->A->R->NULL\n",
    "> \n",
    "> \n",
    "> **Output:** Yes\n",
    "> \n",
    "> **Input:** C->O->D->E->NULL\n",
    "> \n",
    "> **Output:** No\n"
   ]
  },
  {
   "cell_type": "code",
   "execution_count": 53,
   "id": "31a8fb98",
   "metadata": {},
   "outputs": [],
   "source": [
    "# Definition of a linked list node\n",
    "class Node:\n",
    "    def __init__(self, data):\n",
    "        self.data = data\n",
    "        self.next = None\n",
    "\n",
    "def isPalindrome(head):\n",
    "    # Create a list to store the characters\n",
    "    characters = []\n",
    "\n",
    "    # Traverse the linked list and store the characters\n",
    "    current = head\n",
    "    while current:\n",
    "        characters.append(current.data)\n",
    "        current = current.next\n",
    "\n",
    "    # Traverse the linked list again and compare characters\n",
    "    current = head\n",
    "    while current:\n",
    "        if current.data != characters.pop():\n",
    "            return False\n",
    "        current = current.next\n",
    "\n",
    "    return True\n"
   ]
  },
  {
   "cell_type": "code",
   "execution_count": 54,
   "id": "9dcf8e50",
   "metadata": {},
   "outputs": [
    {
     "name": "stdout",
     "output_type": "stream",
     "text": [
      "True\n"
     ]
    }
   ],
   "source": [
    "# Example usage\n",
    "head = Node('R')\n",
    "head.next = Node('A')\n",
    "head.next.next = Node('D')\n",
    "head.next.next.next = Node('A')\n",
    "head.next.next.next.next = Node('R')\n",
    "\n",
    "isPalin = isPalindrome(head)\n",
    "print(isPalin)"
   ]
  },
  {
   "cell_type": "code",
   "execution_count": 55,
   "id": "96e67de1",
   "metadata": {},
   "outputs": [
    {
     "name": "stdout",
     "output_type": "stream",
     "text": [
      "False\n"
     ]
    }
   ],
   "source": [
    "# Example usage\n",
    "head = Node('C')\n",
    "head.next = Node('O')\n",
    "head.next.next = Node('D')\n",
    "head.next.next.next = Node('E')\n",
    "\n",
    "\n",
    "isPalin = isPalindrome(head)\n",
    "print(isPalin)"
   ]
  },
  {
   "cell_type": "markdown",
   "id": "a394a317",
   "metadata": {},
   "source": [
    "**Question 6**\n",
    "\n",
    "Given a linked list and two integers M and N. Traverse the linked list such that you retain M nodes then delete next N nodes, continue the same till end of the linked list.\n",
    "\n",
    "Difficulty Level: Rookie\n",
    "\n",
    "**Examples**:\n",
    "\n",
    "```\n",
    "Input:\n",
    "M = 2, N = 2\n",
    "Linked List: 1->2->3->4->5->6->7->8\n",
    "Output:\n",
    "Linked List: 1->2->5->6\n",
    "\n",
    "Input:\n",
    "M = 3, N = 2\n",
    "Linked List: 1->2->3->4->5->6->7->8->9->10\n",
    "Output:\n",
    "Linked List: 1->2->3->6->7->8\n",
    "\n",
    "Input:\n",
    "M = 1, N = 1\n",
    "Linked List: 1->2->3->4->5->6->7->8->9->10\n",
    "Output:\n",
    "Linked List: 1->3->5->7->9\n",
    "```"
   ]
  },
  {
   "cell_type": "code",
   "execution_count": 61,
   "id": "0f9b31e6",
   "metadata": {},
   "outputs": [],
   "source": [
    "# Definition of a linked list node\n",
    "class Node:\n",
    "    def __init__(self, data):\n",
    "        self.data = data\n",
    "        self.next = None\n",
    "\n",
    "def deleteNodes(head, M, N):\n",
    "    if M == 0:\n",
    "        return None\n",
    "\n",
    "    # Traverse the linked list\n",
    "    current = head\n",
    "    while current:\n",
    "        # Skip M - 1 nodes\n",
    "        for _ in range(M - 1):\n",
    "            if current.next:\n",
    "                current = current.next\n",
    "            else:\n",
    "                return head\n",
    "\n",
    "        # Delete N nodes\n",
    "        temp = current\n",
    "        for _ in range(N):\n",
    "            if temp.next:\n",
    "                temp = temp.next\n",
    "            else:\n",
    "                break\n",
    "        current.next = temp.next\n",
    "\n",
    "        # Move to the next node after the deleted nodes\n",
    "        current = current.next\n",
    "\n",
    "    return head\n",
    "\n",
    "\n",
    "# Function to print the linked list\n",
    "def printLinkedList(head):\n",
    "    current = head\n",
    "    while current:\n",
    "        print(current.data, end=\"->\")\n",
    "        current = current.next\n",
    "    print(\"NULL\")\n"
   ]
  },
  {
   "cell_type": "code",
   "execution_count": 62,
   "id": "a0a55d40",
   "metadata": {},
   "outputs": [
    {
     "name": "stdout",
     "output_type": "stream",
     "text": [
      "Linked List before deletion:\n",
      "1->2->3->4->5->6->7->8->NULL\n",
      "\n",
      "Linked List after deletion:\n",
      "1->2->5->6->NULL\n"
     ]
    }
   ],
   "source": [
    "# Example usage 1\n",
    "M = 2\n",
    "N = 2\n",
    "head = Node(1)\n",
    "head.next = Node(2)\n",
    "head.next.next = Node(3)\n",
    "head.next.next.next = Node(4)\n",
    "head.next.next.next.next = Node(5)\n",
    "head.next.next.next.next.next = Node(6)\n",
    "head.next.next.next.next.next.next = Node(7)\n",
    "head.next.next.next.next.next.next.next = Node(8)\n",
    "\n",
    "print(\"Linked List before deletion:\")\n",
    "printLinkedList(head)\n",
    "\n",
    "head = deleteNodes(head, M, N)\n",
    "\n",
    "print(\"\\nLinked List after deletion:\")\n",
    "printLinkedList(head)\n"
   ]
  },
  {
   "cell_type": "code",
   "execution_count": 63,
   "id": "88511a8b",
   "metadata": {},
   "outputs": [
    {
     "name": "stdout",
     "output_type": "stream",
     "text": [
      "Linked List before deletion:\n",
      "1->2->3->4->5->6->7->8->9->10->NULL\n",
      "\n",
      "Linked List after deletion:\n",
      "1->2->3->6->7->8->NULL\n"
     ]
    }
   ],
   "source": [
    "# Example usage 2 \n",
    "M = 3\n",
    "N = 2\n",
    "head = Node(1)\n",
    "head.next = Node(2)\n",
    "head.next.next = Node(3)\n",
    "head.next.next.next = Node(4)\n",
    "head.next.next.next.next = Node(5)\n",
    "head.next.next.next.next.next = Node(6)\n",
    "head.next.next.next.next.next.next = Node(7)\n",
    "head.next.next.next.next.next.next.next = Node(8)\n",
    "head.next.next.next.next.next.next.next.next = Node(9)\n",
    "head.next.next.next.next.next.next.next.next.next = Node(10)\n",
    "print(\"Linked List before deletion:\")\n",
    "printLinkedList(head)\n",
    "\n",
    "head = deleteNodes(head, M, N)\n",
    "\n",
    "print(\"\\nLinked List after deletion:\")\n",
    "printLinkedList(head)"
   ]
  },
  {
   "cell_type": "code",
   "execution_count": 64,
   "id": "279cc962",
   "metadata": {},
   "outputs": [
    {
     "name": "stdout",
     "output_type": "stream",
     "text": [
      "Linked List before deletion:\n",
      "1->2->3->4->5->6->7->8->9->10->NULL\n",
      "\n",
      "Linked List after deletion:\n",
      "1->3->5->7->9->NULL\n"
     ]
    }
   ],
   "source": [
    "# Example usage 2 \n",
    "M = 1\n",
    "N = 1\n",
    "head = Node(1)\n",
    "head.next = Node(2)\n",
    "head.next.next = Node(3)\n",
    "head.next.next.next = Node(4)\n",
    "head.next.next.next.next = Node(5)\n",
    "head.next.next.next.next.next = Node(6)\n",
    "head.next.next.next.next.next.next = Node(7)\n",
    "head.next.next.next.next.next.next.next = Node(8)\n",
    "head.next.next.next.next.next.next.next.next = Node(9)\n",
    "head.next.next.next.next.next.next.next.next.next = Node(10)\n",
    "print(\"Linked List before deletion:\")\n",
    "printLinkedList(head)\n",
    "\n",
    "head = deleteNodes(head, M, N)\n",
    "\n",
    "print(\"\\nLinked List after deletion:\")\n",
    "printLinkedList(head)"
   ]
  },
  {
   "cell_type": "markdown",
   "id": "ef6f78b8",
   "metadata": {},
   "source": [
    "**Question 7**\n",
    "\n",
    "Given two linked lists, insert nodes of second list into first list at alternate positions of first list.\n",
    "For example, if first list is 5->7->17->13->11 and second is 12->10->2->4->6, the first list should become 5->12->7->10->17->2->13->4->11->6 and second list should become empty. The nodes of second list should only be inserted when there are positions available. For example, if the first list is 1->2->3 and second list is 4->5->6->7->8, then first list should become 1->4->2->5->3->6 and second list to 7->8.\n",
    "\n",
    "Use of extra space is not allowed (Not allowed to create additional nodes), i.e., insertion must be done in-place. Expected time complexity is O(n) where n is number of nodes in first list.\n"
   ]
  },
  {
   "cell_type": "code",
   "execution_count": 66,
   "id": "5516a2d7",
   "metadata": {},
   "outputs": [],
   "source": [
    "# Definition of a linked list node\n",
    "class Node:\n",
    "    def __init__(self, data):\n",
    "        self.data = data\n",
    "        self.next = None\n",
    "\n",
    "def mergeLists(first, second):\n",
    "    if first is None:\n",
    "        return second\n",
    "\n",
    "    if second is None:\n",
    "        return first\n",
    "\n",
    "    # Traverse both lists simultaneously\n",
    "    curr_first = first\n",
    "    curr_second = second\n",
    "\n",
    "    while curr_first and curr_second:\n",
    "        next_first = curr_first.next\n",
    "        next_second = curr_second.next\n",
    "\n",
    "        # Insert the second list node after the first list node\n",
    "        curr_first.next = curr_second\n",
    "        curr_second.next = next_first\n",
    "\n",
    "        # Move to the next pair of nodes\n",
    "        curr_first = next_first\n",
    "        curr_second = next_second\n",
    "\n",
    "    # Append any remaining nodes from the second list to the end of the first list\n",
    "    if curr_second:\n",
    "        curr_first.next = curr_second\n",
    "\n",
    "    # Empty the second list\n",
    "    second = None\n",
    "\n",
    "    return first\n",
    "\n",
    "\n",
    "# Function to print the linked list\n",
    "def printLinkedList(head):\n",
    "    current = head\n",
    "    while current:\n",
    "        print(current.data, end=\"->\")\n",
    "        current = current.next\n",
    "    print(\"NULL\")\n"
   ]
  },
  {
   "cell_type": "code",
   "execution_count": 68,
   "id": "b3a680d8",
   "metadata": {},
   "outputs": [
    {
     "name": "stdout",
     "output_type": "stream",
     "text": [
      "First Linked List:\n",
      "5->7->17->13->11->NULL\n",
      "\n",
      "Second Linked List:\n",
      "12->10->2->4->6->NULL\n",
      "\n",
      "Merged Linked List:\n",
      "5->12->7->10->17->2->13->4->11->6->NULL\n"
     ]
    }
   ],
   "source": [
    "# Example usage\n",
    "first = Node(5)\n",
    "first.next = Node(7)\n",
    "first.next.next = Node(17)\n",
    "first.next.next.next = Node(13)\n",
    "first.next.next.next.next = Node(11)\n",
    "\n",
    "second = Node(12)\n",
    "second.next = Node(10)\n",
    "second.next.next = Node(2)\n",
    "second.next.next.next = Node(4)\n",
    "second.next.next.next.next = Node(6)\n",
    "\n",
    "print(\"First Linked List:\")\n",
    "printLinkedList(first)\n",
    "print(\"\\nSecond Linked List:\")\n",
    "printLinkedList(second)\n",
    "\n",
    "merged = mergeLists(first, second)\n",
    "\n",
    "print(\"\\nMerged Linked List:\")\n",
    "printLinkedList(merged)"
   ]
  },
  {
   "attachments": {
    "image.png": {
     "image/png": "[encoded data removed]"
    }
   },
   "cell_type": "markdown",
   "id": "b7e7434a",
   "metadata": {},
   "source": [
    "**Question 8**\n",
    "\n",
    "Given a singly linked list, find if the linked list is [circular](https://www.geeksforgeeks.org/circular-linked-list/amp/) or not.\n",
    "\n",
    "> A linked list is called circular if it is not NULL-terminated and all nodes are connected in the form of a cycle. Below is an example of a circular linked list.\n",
    "![image.png](attachment:image.png)"
   ]
  },
  {
   "cell_type": "code",
   "execution_count": 73,
   "id": "b302922b",
   "metadata": {},
   "outputs": [],
   "source": [
    "# Definition of a linked list node\n",
    "class Node:\n",
    "    def __init__(self, data):\n",
    "        self.data = data\n",
    "        self.next = None\n",
    "\n",
    "def isCircular(head):\n",
    "    if head is None:\n",
    "        return False\n",
    "\n",
    "    # Initialize the slow and fast pointers\n",
    "    slow = head\n",
    "    fast = head.next\n",
    "\n",
    "    while fast and fast.next:\n",
    "        if slow == fast:\n",
    "            return True\n",
    "        slow = slow.next\n",
    "        fast = fast.next.next\n",
    "\n",
    "    return False\n"
   ]
  },
  {
   "cell_type": "code",
   "execution_count": 74,
   "id": "aef48efd",
   "metadata": {},
   "outputs": [
    {
     "name": "stdout",
     "output_type": "stream",
     "text": [
      "True\n"
     ]
    }
   ],
   "source": [
    "# Example usage\n",
    "head = Node(10)\n",
    "head.next = Node(12)\n",
    "head.next.next = Node(14)\n",
    "head.next.next.next = Node(16)\n",
    "\n",
    "\n",
    "# Make the linked list circular\n",
    "head.next.next.next.next = head\n",
    "\n",
    "isCircularList = isCircular(head)\n",
    "print(isCircularList)"
   ]
  },
  {
   "cell_type": "code",
   "execution_count": null,
   "id": "7c81eeb6",
   "metadata": {},
   "outputs": [],
   "source": []
  }
 ],
 "metadata": {
  "kernelspec": {
   "display_name": "Python 3 (ipykernel)",
   "language": "python",
   "name": "python3"
  },
  "language_info": {
   "codemirror_mode": {
    "name": "ipython",
    "version": 3
   },
   "file_extension": ".py",
   "mimetype": "text/x-python",
   "name": "python",
   "nbconvert_exporter": "python",
   "pygments_lexer": "ipython3",
   "version": "3.9.13"
  }
 },
 "nbformat": 4,
 "nbformat_minor": 5
}
