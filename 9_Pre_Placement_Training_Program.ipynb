{
  "nbformat": 4,
  "nbformat_minor": 0,
  "metadata": {
    "colab": {
      "provenance": []
    },
    "kernelspec": {
      "name": "python3",
      "display_name": "Python 3"
    },
    "language_info": {
      "name": "python"
    }
  },
  "cells": [
    {
      "cell_type": "markdown",
      "source": [
        "<aside>\n",
        "💡 **Question 1**\n",
        "\n",
        "Given an integer `n`, return *`true` if it is a power of two. Otherwise, return `false`*.\n",
        "\n",
        "An integer `n` is a power of two, if there exists an integer `x` such that `n == 2x`.\n",
        "\n",
        "**Example 1:**\n",
        "Input: n = 1 \n",
        "\n",
        "Output: true\n",
        "\n",
        "**Example 2:**\n",
        "Input: n = 16 \n",
        "\n",
        "Output: true\n",
        "\n",
        "**Example 3:**\n",
        "Input: n = 3 \n",
        "\n",
        "Output: false\n",
        "\n",
        "</aside>"
      ],
      "metadata": {
        "id": "ReVKn2bmuAG0"
      }
    },
    {
      "cell_type": "code",
      "execution_count": 1,
      "metadata": {
        "colab": {
          "base_uri": "https://localhost:8080/"
        },
        "id": "_9pNN3vGt52n",
        "outputId": "2d50c665-17f7-426c-ba40-8696656456cf"
      },
      "outputs": [
        {
          "output_type": "stream",
          "name": "stdout",
          "text": [
            "Yes\n",
            "Yes\n",
            "No\n"
          ]
        }
      ],
      "source": [
        "# Python3 Program to find\n",
        "# whether a no is\n",
        "# power of two\n",
        "import math\n",
        "\n",
        "# Function to check\n",
        "# Log base 2\n",
        "\n",
        "\n",
        "def Log2(x):\n",
        "\tif x == 0:\n",
        "\t\treturn false\n",
        "\n",
        "\treturn (math.log10(x) /\n",
        "\t\t\tmath.log10(2))\n",
        "\n",
        "# Function to check\n",
        "# if x is power of 2\n",
        "\n",
        "\n",
        "def isPowerOfTwo(n):\n",
        "\treturn (math.ceil(Log2(n)) ==\n",
        "\t\t\tmath.floor(Log2(n)))\n",
        "\n",
        "\n",
        "# Driver Code\n",
        "if __name__ == \"__main__\":\n",
        "\n",
        "\t# Function call\n",
        "\tif(isPowerOfTwo(1)):\n",
        "\t\tprint(\"Yes\")\n",
        "\telse:\n",
        "\t\tprint(\"No\")\n",
        "\n",
        "\tif(isPowerOfTwo(16)):\n",
        "\t\tprint(\"Yes\")\n",
        "\telse:\n",
        "\t\tprint(\"No\")\n",
        "\n",
        "\tif(isPowerOfTwo(3)):\n",
        "\t\tprint(\"Yes\")\n",
        "\telse:\n",
        "\t\tprint(\"No\")"
      ]
    },
    {
      "cell_type": "markdown",
      "source": [
        "<aside>\n",
        "💡 **Question 2**\n",
        "\n",
        "Given a number n, find the sum of the first natural numbers.\n",
        "\n",
        "**Example 1:**\n",
        "\n",
        "Input: n = 3 \n",
        "\n",
        "Output: 6\n",
        "\n",
        "**Example 2:**\n",
        "\n",
        "Input  : 5 \n",
        "\n",
        "Output : 15\n",
        "\n",
        "</aside>"
      ],
      "metadata": {
        "id": "rXvSjsBJuUOP"
      }
    },
    {
      "cell_type": "code",
      "source": [
        "num = 5\n",
        "sum = 0\n",
        "for i in range(num+1):\n",
        "  sum+=i\n",
        "print(sum)"
      ],
      "metadata": {
        "colab": {
          "base_uri": "https://localhost:8080/"
        },
        "id": "c5dygFfUuRP9",
        "outputId": "c75bcc84-077a-42f2-e89f-c6aeddc602af"
      },
      "execution_count": 2,
      "outputs": [
        {
          "output_type": "stream",
          "name": "stdout",
          "text": [
            "15\n"
          ]
        }
      ]
    },
    {
      "cell_type": "markdown",
      "source": [
        "<aside>\n",
        "💡 **Question 3**\n",
        "\n",
        "****Given a positive integer, N. Find the factorial of N. \n",
        "\n",
        "**Example 1:**\n",
        "\n",
        "Input: N = 5 \n",
        "\n",
        "Output: 120\n",
        "\n",
        "**Example 2:**\n",
        "\n",
        "Input: N = 4\n",
        "\n",
        "Output: 24\n",
        "\n",
        "</aside>"
      ],
      "metadata": {
        "id": "YcJ41MdUuo3b"
      }
    },
    {
      "cell_type": "code",
      "source": [
        "num = int(input(\"Enter a number: \"))    \n",
        "factorial = 1    \n",
        "if num < 0:    \n",
        "   print(\" Factorial does not exist for negative numbers\")    \n",
        "elif num == 0:    \n",
        "   print(\"The factorial of 0 is 1\")    \n",
        "else:    \n",
        "   for i in range(1,num + 1):    \n",
        "       factorial = factorial*i    \n",
        "   print(\"The factorial of\",num,\"is\",factorial)    "
      ],
      "metadata": {
        "colab": {
          "base_uri": "https://localhost:8080/"
        },
        "id": "UMxJU-RyulC2",
        "outputId": "549343ab-88f5-465e-e53b-ee13fbcec327"
      },
      "execution_count": 3,
      "outputs": [
        {
          "output_type": "stream",
          "name": "stdout",
          "text": [
            "Enter a number: 4\n",
            "The factorial of 4 is 24\n"
          ]
        }
      ]
    },
    {
      "cell_type": "markdown",
      "source": [
        "<aside>\n",
        "💡 **Question 4**\n",
        "\n",
        "Given a number N and a power P, the task is to find the exponent of this number raised to the given power, i.e. N^P.\n",
        "\n",
        "**Example 1 :** \n",
        "\n",
        "Input: N = 5, P = 2\n",
        "\n",
        "Output: 25\n",
        "\n",
        "**Example 2 :**\n",
        "Input: N = 2, P = 5\n",
        "\n",
        "Output: 32\n",
        "\n",
        "</aside>"
      ],
      "metadata": {
        "id": "2EiWtrPOu0xf"
      }
    },
    {
      "cell_type": "code",
      "source": [
        "# Python3 code to recursively find\n",
        "# the power of a number\n",
        "\n",
        "# Recursive function to find N^P.\n",
        "def power(N, P):\n",
        "\n",
        "\t# If power is 0 then return 1\n",
        "\t# if condition is true\n",
        "\t# only then it will enter it,\n",
        "\t# otherwise not\n",
        "\tif P == 0:\n",
        "\t\treturn 1\n",
        "\n",
        "\t# Recurrence relation\n",
        "\treturn (N*power(N, P-1))\n",
        "\n",
        "\n",
        "# Driver code\n",
        "if __name__ == '__main__':\n",
        "\tN = 2\n",
        "\tP = 5\n",
        "\n",
        "\tprint(power(N, P))\n"
      ],
      "metadata": {
        "colab": {
          "base_uri": "https://localhost:8080/"
        },
        "id": "n9wlpe-bu5qP",
        "outputId": "eba83964-29f7-4ca0-d65b-fabb5f6f0b7a"
      },
      "execution_count": 4,
      "outputs": [
        {
          "output_type": "stream",
          "name": "stdout",
          "text": [
            "32\n"
          ]
        }
      ]
    },
    {
      "cell_type": "markdown",
      "source": [
        "<aside>\n",
        "💡 **Question 5**\n",
        "\n",
        "Given an array of integers **arr**, the task is to find maximum element of that array using recursion.\n",
        "\n",
        "**Example 1:**\n",
        "\n",
        "Input: arr = {1, 4, 3, -5, -4, 8, 6};\n",
        "Output: 8\n",
        "\n",
        "**Example 2:**\n",
        "\n",
        "Input: arr = {1, 4, 45, 6, 10, -8};\n",
        "Output: 45\n",
        "\n",
        "</aside>"
      ],
      "metadata": {
        "id": "bBzfG9OjvBvX"
      }
    },
    {
      "cell_type": "code",
      "source": [
        "def findMaxRec(A, n):\n",
        "    if (n == 1):\n",
        "        return A[0]\n",
        "    return max(A[n - 1], findMaxRec(A, n - 1))\n",
        " \n",
        "# Driver Code\n",
        "if __name__ == \"__main__\":\n",
        "     \n",
        "    A = [1, 4, 3, -5, -4, 8, 6]\n",
        "    n = len(A)\n",
        "    print(findMaxRec(A, n))"
      ],
      "metadata": {
        "colab": {
          "base_uri": "https://localhost:8080/"
        },
        "id": "CPRrP8mWvGze",
        "outputId": "f0a5dd20-5598-4228-8e19-09d7f292e37b"
      },
      "execution_count": 7,
      "outputs": [
        {
          "output_type": "stream",
          "name": "stdout",
          "text": [
            "8\n"
          ]
        }
      ]
    },
    {
      "cell_type": "markdown",
      "source": [
        "<aside>\n",
        "💡 **Question 6**\n",
        "\n",
        "Given first term (a), common difference (d) and a integer N of the Arithmetic Progression series, the task is to find Nth term of the series.\n",
        "\n",
        "**Example 1:**\n",
        "\n",
        "Input : a = 2 d = 1 N = 5\n",
        "Output : 6\n",
        "The 5th term of the series is : 6\n",
        "\n",
        "**Example 2:**\n",
        "\n",
        "Input : a = 5 d = 2 N = 10\n",
        "Output : 23\n",
        "The 10th term of the series is : 23\n",
        "\n",
        "</aside>"
      ],
      "metadata": {
        "id": "Tg0-dLB-vf0l"
      }
    },
    {
      "cell_type": "code",
      "source": [
        "# Python 3 Program to\n",
        "# find nth term of\n",
        "# Arithmetic progression\n",
        "\n",
        "def Nth_of_AP(a, d, N) :\n",
        "\n",
        "\t# using formula to find the\n",
        "\t# Nth term t(n) = a(1) + (n-1)*d\n",
        "\treturn (a + (N - 1) * d)\n",
        "\t\n",
        "\n",
        "# Driver code\n",
        "a = 2 # starting number\n",
        "d = 1 # Common difference\n",
        "N = 5 # N th term to be find\n",
        "\n",
        "# Display the output\n",
        "print( \"The \", N ,\"th term of the series is : \",\n",
        "\tNth_of_AP(a, d, N))\n",
        "\n"
      ],
      "metadata": {
        "colab": {
          "base_uri": "https://localhost:8080/"
        },
        "id": "kYAknQfIvmSU",
        "outputId": "c5d7f6f4-cd9b-4ee9-973d-baf6dada0a00"
      },
      "execution_count": 8,
      "outputs": [
        {
          "output_type": "stream",
          "name": "stdout",
          "text": [
            "The  5 th term of the series is :  6\n"
          ]
        }
      ]
    },
    {
      "cell_type": "markdown",
      "source": [
        "<aside>\n",
        "💡 **Question 7**\n",
        "\n",
        "Given a string S, the task is to write a program to print all permutations of a given string.\n",
        "\n",
        "**Example 1:**\n",
        "\n",
        "***Input:***\n",
        "\n",
        "*S = “ABC”*\n",
        "\n",
        "***Output:***\n",
        "\n",
        "*“ABC”, “ACB”, “BAC”, “BCA”, “CBA”, “CAB”*\n",
        "\n",
        "**Example 2:**\n",
        "\n",
        "***Input:***\n",
        "\n",
        "*S = “XY”*\n",
        "\n",
        "***Output:***\n",
        "\n",
        "*“XY”, “YX”*\n",
        "\n",
        "</aside>"
      ],
      "metadata": {
        "id": "3w9Z9-xVvszx"
      }
    },
    {
      "cell_type": "code",
      "source": [
        "# Python program to print all permutations\n",
        "# with duplicates allowed\n",
        "def toString(List):\n",
        "\treturn ''.join(List)\n",
        "\n",
        "# Function to print permutations\n",
        "# of string\n",
        "# This function takes three parameters:\n",
        "# 1. String\n",
        "# 2. Starting index of the string\n",
        "# 3. Ending index of the string.\n",
        "def permute(a, l, r):\n",
        "\tif l == r:\n",
        "\t\tprint (toString(a))\n",
        "\telse:\n",
        "\t\tfor i in range(l, r + 1):\n",
        "\t\t\ta[l], a[i] = a[i], a[l]\n",
        "\t\t\tpermute(a, l + 1, r)\n",
        "\n",
        "\t\t\t# backtrack\n",
        "\t\t\ta[l], a[i] = a[i], a[l]\n",
        "\n",
        "# Driver code\n",
        "string = \"ABC\"\n",
        "n = len(string)\n",
        "a = list(string)\n",
        "permute(a, 0, n-1)\n",
        "\n"
      ],
      "metadata": {
        "colab": {
          "base_uri": "https://localhost:8080/"
        },
        "id": "Q8pZx1zVvzT8",
        "outputId": "a12d2665-ee4f-48df-d07e-0925667ef7f7"
      },
      "execution_count": 9,
      "outputs": [
        {
          "output_type": "stream",
          "name": "stdout",
          "text": [
            "ABC\n",
            "ACB\n",
            "BAC\n",
            "BCA\n",
            "CBA\n",
            "CAB\n"
          ]
        }
      ]
    },
    {
      "cell_type": "markdown",
      "source": [
        "<aside>\n",
        "💡 **Question 8**\n",
        "\n",
        "Given an array, find a product of all array elements.\n",
        "\n",
        "**Example 1:**\n",
        "\n",
        "Input  : arr[] = {1, 2, 3, 4, 5}\n",
        "Output : 120\n",
        "**Example 2:**\n",
        "\n",
        "Input  : arr[] = {1, 6, 3}\n",
        "Output : 18\n",
        "\n",
        "</aside>"
      ],
      "metadata": {
        "id": "j24bWC2jv4_J"
      }
    },
    {
      "cell_type": "code",
      "source": [
        "arr = [1, 2, 3, 4, 5]\n",
        "product = 1\n",
        "\n",
        "# for loop\n",
        "for num in arr:\n",
        "    product = product * num\n",
        "# display the result\n",
        "print(product)"
      ],
      "metadata": {
        "colab": {
          "base_uri": "https://localhost:8080/"
        },
        "id": "VunyRzrEv_vj",
        "outputId": "2d292a4b-3468-4cc9-be14-3e0fd337f89d"
      },
      "execution_count": 10,
      "outputs": [
        {
          "output_type": "stream",
          "name": "stdout",
          "text": [
            "120\n"
          ]
        }
      ]
    }
  ]
}