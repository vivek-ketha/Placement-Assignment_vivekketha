{
 "cells": [
  {
   "cell_type": "code",
   "execution_count": 16,
   "id": "fb64c930",
   "metadata": {},
   "outputs": [],
   "source": [
    "from bigtree import Node, print_tree"
   ]
  },
  {
   "cell_type": "markdown",
   "id": "512785f6",
   "metadata": {},
   "source": [
    "Question-1:\n",
    "\n",
    "Given a Binary Tree (Bt), convert it to a Doubly Linked List(DLL). The left and right pointers in nodes are to be used as previous and next pointers respectively in converted DLL. The order of nodes in DLL must be the same as in Inorder for the given Binary Tree. The first node of Inorder traversal (leftmost node in BT) must be the head node of the DLL.\n",
    "\n",
    "Example:\n",
    "https://pwskills.notion.site/image/https%3A%2F%2Fs3-us-west-2.amazonaws.com%2Fsecure.notion-static.com%2Ff9dda6ae-60b9-427b-990f-dc5b3117a5e3%2FUntitled.png?id=f5542efd-4d64-4904-9259-23aeb80f012b&table=block&spaceId=6fae2e0f-dedc-48e9-bc59-af2654c78209&width=860&userId=&cache=v2"
   ]
  },
  {
   "cell_type": "code",
   "execution_count": 17,
   "id": "0cffd7d6",
   "metadata": {},
   "outputs": [],
   "source": [
    "class Node:\n",
    "    def __init__(self, data):\n",
    "        self.data = data\n",
    "        self.left = None\n",
    "        self.right = None\n",
    "\n",
    "\n",
    "def binaryTreeToDLLUtil(root):\n",
    "    if root is None:\n",
    "        return None, None\n",
    "\n",
    "    # Convert the left subtree\n",
    "    left_head, left_tail = binaryTreeToDLLUtil(root.left)\n",
    "\n",
    "    # Set the right pointer of left_tail and left pointer of root\n",
    "    if left_tail is not None:\n",
    "        left_tail.right = root\n",
    "        root.left = left_tail\n",
    "\n",
    "    # Convert the right subtree\n",
    "    right_head, right_tail = binaryTreeToDLLUtil(root.right)\n",
    "\n",
    "    # Set the left pointer of right_head and right pointer of root\n",
    "    if right_head is not None:\n",
    "        right_head.left = root\n",
    "        root.right = right_head\n",
    "\n",
    "    # Set the head of the DLL\n",
    "    if left_head is None:\n",
    "        head = root\n",
    "    else:\n",
    "        head = left_head\n",
    "\n",
    "    # Set the tail of the DLL\n",
    "    if right_tail is None:\n",
    "        tail = root\n",
    "    else:\n",
    "        tail = right_tail\n",
    "\n",
    "    return head, tail\n",
    "\n",
    "\n",
    "def binaryTreeToDLL(root):\n",
    "    if root is None:\n",
    "        return None\n",
    "\n",
    "    head, _ = binaryTreeToDLLUtil(root)\n",
    "    return head\n"
   ]
  },
  {
   "cell_type": "code",
   "execution_count": 18,
   "id": "104c4d91",
   "metadata": {},
   "outputs": [
    {
     "name": "stdout",
     "output_type": "stream",
     "text": [
      "25-><- 12-><- 30-><- 10-><- 15-><- 36-><- "
     ]
    }
   ],
   "source": [
    "# Create the binary tree\n",
    "root = Node(10)\n",
    "root.left = Node(12)\n",
    "root.right = Node(15)\n",
    "root.left.left = Node(25)\n",
    "root.left.right = Node(30)\n",
    "root.right.right = Node(36)\n",
    "\n",
    "\n",
    "# Convert the binary tree to DLL\n",
    "dll_head = binaryTreeToDLL(root)\n",
    "\n",
    "# Traverse and print the DLL\n",
    "current = dll_head\n",
    "while current:\n",
    "    print(current.data, end=\"-><- \")\n",
    "    current = current.right\n"
   ]
  },
  {
   "cell_type": "markdown",
   "id": "e1d7d156",
   "metadata": {},
   "source": [
    "Question-2\n",
    "\n",
    "A Given a binary tree, the task is to flip the binary tree towards the right direction that is clockwise. See the below examples to see the transformation.\n",
    "\n",
    "In the flip operation, the leftmost node becomes the root of the flipped tree and its parent becomes its right child and the right sibling becomes its left child and the same should be done for all left most nodes recursively.\n",
    "\n",
    "Example1:\n",
    "\n",
    "(https://s3-us-west-2.amazonaws.com/secure.notion-static.com/a5f5bbbe-8607-4f17-9ab4-b31327ffa2d0/Untitled.png)\n",
    "\n",
    "Example2:\n",
    "https://pwskills.notion.site/image/https%3A%2F%2Fs3-us-west-2.amazonaws.com%2Fsecure.notion-static.com%2F063636b4-9f35-4524-b6d9-c97e30cac510%2FUntitled.png?id=257a6e42-4876-4a44-ac0e-07f80a570f83&table=block&spaceId=6fae2e0f-dedc-48e9-bc59-af2654c78209&width=2000&userId=&cache=v2"
   ]
  },
  {
   "cell_type": "code",
   "execution_count": 19,
   "id": "aa7df8d4",
   "metadata": {},
   "outputs": [],
   "source": [
    "class Node:\n",
    "    def __init__(self, data):\n",
    "        self.data = data\n",
    "        self.left = None\n",
    "        self.right = None\n",
    "\n",
    "\n",
    "def flipBinaryTree(root):\n",
    "    if root is None or (root.left is None and root.right is None):\n",
    "        return root\n",
    "\n",
    "    left_flipped = flipBinaryTree(root.left)\n",
    "    right_flipped = flipBinaryTree(root.right)\n",
    "\n",
    "    root.left = None\n",
    "    root.right = None\n",
    "\n",
    "    if left_flipped:\n",
    "        root.right = left_flipped\n",
    "\n",
    "    if right_flipped:\n",
    "        current = left_flipped\n",
    "        while current.right:\n",
    "            current = current.right\n",
    "        current.right = right_flipped\n",
    "\n",
    "    return root\n"
   ]
  },
  {
   "cell_type": "code",
   "execution_count": 20,
   "id": "66467409",
   "metadata": {},
   "outputs": [
    {
     "name": "stdout",
     "output_type": "stream",
     "text": [
      "1 2 4 5 3 "
     ]
    }
   ],
   "source": [
    "# Create the binary tree\n",
    "root = Node(1)\n",
    "root.left = Node(2)\n",
    "root.right = Node(3)\n",
    "root.left.left = Node(4)\n",
    "root.left.right = Node(5)\n",
    "\n",
    "# Flip the binary tree\n",
    "flipped_root = flipBinaryTree(root)\n",
    "\n",
    "# Traverse and print the flipped binary tree\n",
    "def inorderTraversal(root):\n",
    "    if root:\n",
    "        inorderTraversal(root.left)\n",
    "        print(root.data, end=\" \")\n",
    "        inorderTraversal(root.right)\n",
    "\n",
    "inorderTraversal(flipped_root)\n"
   ]
  },
  {
   "cell_type": "code",
   "execution_count": 22,
   "id": "290f1941",
   "metadata": {},
   "outputs": [],
   "source": [
    "class Node:\n",
    "    def __init__(self, data):\n",
    "        self.data = data\n",
    "        self.left = None\n",
    "        self.right = None\n",
    "\n",
    "# Build the binary tree\n",
    "def buildTree():\n",
    "    # Level 0\n",
    "    root = Node(1)\n",
    "\n",
    "    # Level 1\n",
    "    root.left = Node(2)\n",
    "    root.right = Node(3)\n",
    "\n",
    "    # Level 2\n",
    "    root.left.left = Node(4)\n",
    "    root.left.right = Node(5)\n",
    "    root.right.left = Node(6)\n",
    "    root.right.right = Node(7)\n",
    "\n",
    "    # Level 3\n",
    "    root.left.left.left = Node(8)\n",
    "    root.left.left.right = Node(9)\n",
    "    root.left.right.left = Node(10)\n",
    "\n",
    "    return root\n",
    "\n",
    "# Call the buildTree function to get the root of the binary tree\n",
    "root = buildTree()\n"
   ]
  },
  {
   "cell_type": "code",
   "execution_count": 11,
   "id": "2abceaee",
   "metadata": {},
   "outputs": [],
   "source": [
    "class Node:\n",
    "    def __init__(self, data):\n",
    "        self.data = data\n",
    "        self.left = None\n",
    "        self.right = None\n",
    "\n",
    "\n",
    "def flipBinaryTree(root):\n",
    "    if root is None or (root.left is None and root.right is None):\n",
    "        return root\n",
    "\n",
    "    left_flipped = flipBinaryTree(root.left)\n",
    "    right_flipped = flipBinaryTree(root.right)\n",
    "\n",
    "    root.left = None\n",
    "    root.right = None\n",
    "\n",
    "    if left_flipped:\n",
    "        root.right = left_flipped\n",
    "\n",
    "    if right_flipped:\n",
    "        current = left_flipped\n",
    "        while current.right:\n",
    "            current = current.right\n",
    "        current.right = right_flipped\n",
    "\n",
    "    return root\n"
   ]
  },
  {
   "cell_type": "code",
   "execution_count": 23,
   "id": "65976d7e",
   "metadata": {},
   "outputs": [
    {
     "name": "stdout",
     "output_type": "stream",
     "text": [
      "1 2 4 5 3 6 7 "
     ]
    }
   ],
   "source": [
    "# Create the binary tree\n",
    "root = Node(1)\n",
    "root.left = Node(2)\n",
    "root.right = Node(3)\n",
    "root.left.left = Node(4)\n",
    "root.left.right = Node(5)\n",
    "root.right.left = Node(6)\n",
    "root.right.right = Node(7)\n",
    "\n",
    "# Flip the binary tree\n",
    "flipped_root = flipBinaryTree(root)\n",
    "\n",
    "# Traverse and print the flipped binary tree\n",
    "def inorderTraversal(root):\n",
    "    if root:\n",
    "        inorderTraversal(root.left)\n",
    "        print(root.data, end=\" \")\n",
    "        inorderTraversal(root.right)\n",
    "\n",
    "inorderTraversal(flipped_root)\n"
   ]
  },
  {
   "cell_type": "code",
   "execution_count": 24,
   "id": "a4cf21e0",
   "metadata": {},
   "outputs": [
    {
     "name": "stdout",
     "output_type": "stream",
     "text": [
      "1 2 3 4 5 "
     ]
    }
   ],
   "source": [
    "# Create the binary tree\n",
    "root = Node(1)\n",
    "root.left = Node(2)\n",
    "root.right = Node(3)\n",
    "root.right.left = Node(4)\n",
    "root.right.right = Node(5)\n",
    "\n",
    "# Flip the binary tree\n",
    "flipped_root = flipBinaryTree(root)\n",
    "\n",
    "# Traverse and print the flipped binary tree\n",
    "def inorderTraversal(root):\n",
    "    if root:\n",
    "        inorderTraversal(root.left)\n",
    "        print(root.data, end=\" \")\n",
    "        inorderTraversal(root.right)\n",
    "\n",
    "inorderTraversal(flipped_root)"
   ]
  },
  {
   "cell_type": "markdown",
   "id": "f363c306",
   "metadata": {},
   "source": [
    "Question-3:\n",
    "\n",
    "Given a binary tree, print all its root-to-leaf paths without using recursion. For example, consider the following Binary Tree.\n",
    "\n",
    "Input:\n",
    "\n",
    "        6\n",
    "     /    \\\n",
    "    3      5\n",
    "  /   \\     \\\n",
    " 2     5     4\n",
    "     /   \\\n",
    "    7     4\n",
    "\n",
    "Output:\n",
    "\n",
    "There are 4 leaves, hence 4 root to leaf paths -\n",
    "  6->3->2\n",
    "  6->3->5->7\n",
    "  6->3->5->4\n",
    "  6->5>4\n"
   ]
  },
  {
   "cell_type": "code",
   "execution_count": 27,
   "id": "cd84a937",
   "metadata": {},
   "outputs": [
    {
     "name": "stdout",
     "output_type": "stream",
     "text": [
      "6->3->2\n",
      "6->3->5->7\n",
      "6->3->5->4\n",
      "6->5->4\n"
     ]
    }
   ],
   "source": [
    "class Node:\n",
    "    def __init__(self, data):\n",
    "        self.data = data\n",
    "        self.left = None\n",
    "        self.right = None\n",
    "\n",
    "\n",
    "def printRootToLeafPaths(root):\n",
    "    if root is None:\n",
    "        return\n",
    "\n",
    "    stack = [(root, str(root.data))]\n",
    "    paths = []\n",
    "\n",
    "    while stack:\n",
    "        node, path = stack.pop()\n",
    "\n",
    "        if node.left is None and node.right is None:\n",
    "            paths.append(path)\n",
    "\n",
    "        if node.right:\n",
    "            stack.append((node.right, path + \"->\" + str(node.right.data)))\n",
    "\n",
    "        if node.left:\n",
    "            stack.append((node.left, path + \"->\" + str(node.left.data)))\n",
    "\n",
    "    for path in paths:\n",
    "        print(path)\n",
    "\n",
    "\n",
    "# Create the binary tree\n",
    "root = Node(6)\n",
    "root.left = Node(3)\n",
    "root.right = Node(5)\n",
    "root.left.left = Node(2)\n",
    "root.left.right = Node(5)\n",
    "root.right.right = Node(4)\n",
    "root.left.right.left = Node(7)\n",
    "root.left.right.right = Node(4)\n",
    "\n",
    "# Print all root-to-leaf paths\n",
    "printRootToLeafPaths(root)\n"
   ]
  },
  {
   "cell_type": "markdown",
   "id": "78c0eb3b",
   "metadata": {},
   "source": [
    "Question-4:\n",
    "\n",
    "Given Preorder, Inorder and Postorder traversals of some tree. Write a program to check if they all are of the same tree.\n",
    "\n",
    "**Examples:**\n",
    "\n",
    "Input : \n",
    "\n",
    "        Inorder -> 4 2 5 1 3\n",
    "        Preorder -> 1 2 4 5 3\n",
    "        Postorder -> 4 5 2 3 1\n",
    "Output : \n",
    "\n",
    "Yes\n",
    "Explanation : \n",
    "\n",
    "All of the above three traversals are of\n",
    "the same tree \n",
    "\n",
    "                           1\n",
    "                         /   \\\n",
    "                        2     3\n",
    "                      /   \\\n",
    "                     4     5\n",
    "\n",
    "Input : \n",
    "\n",
    "        Inorder -> 4 2 5 1 3\n",
    "        Preorder -> 1 5 4 2 3\n",
    "        Postorder -> 4 1 2 3 5\n",
    "Output : \n",
    "\n",
    "No\n"
   ]
  },
  {
   "cell_type": "code",
   "execution_count": 41,
   "id": "0ebe2f13",
   "metadata": {},
   "outputs": [],
   "source": [
    "class Node:\n",
    "    def __init__(self, data):\n",
    "        self.data = data\n",
    "        self.left = None\n",
    "        self.right = None\n",
    "\n",
    "\n",
    "def isSameTree(inorder, preorder, postorder):\n",
    "    if len(inorder) != len(preorder) or len(inorder) != len(postorder) or len(inorder) == 0:\n",
    "        return False\n",
    "\n",
    "    if len(inorder) == 1:\n",
    "        return Node(inorder[0])\n",
    "\n",
    "    root_val = preorder[0]\n",
    "    root_index = inorder.index(root_val)\n",
    "\n",
    "    root_node = Node(root_val)\n",
    "\n",
    "    root_node.left = isSameTree(\n",
    "        inorder[:root_index], preorder[1:root_index+1], postorder[:root_index]\n",
    "    )\n",
    "\n",
    "    root_node.right = isSameTree(\n",
    "        inorder[root_index+1:], preorder[root_index+1:], postorder[root_index:-1]\n",
    "    )\n",
    "\n",
    "    return root_node\n",
    "\n",
    "\n"
   ]
  },
  {
   "cell_type": "code",
   "execution_count": 42,
   "id": "0ddf2c09",
   "metadata": {},
   "outputs": [
    {
     "name": "stdout",
     "output_type": "stream",
     "text": [
      "Yes\n"
     ]
    }
   ],
   "source": [
    "# Example inputs\n",
    "inorder = [4, 2, 5, 1, 3]\n",
    "preorder = [1, 2, 4, 5, 3]\n",
    "postorder = [4, 5, 2, 3, 1]\n",
    "\n",
    "# Check if they belong to the same tree\n",
    "root = isSameTree(inorder, preorder, postorder)\n",
    "\n",
    "# Print the result\n",
    "if root is not None:\n",
    "    print(\"Yes\")\n",
    "else:\n",
    "    print(\"No\")"
   ]
  },
  {
   "cell_type": "code",
   "execution_count": 43,
   "id": "6e3a2dda",
   "metadata": {},
   "outputs": [
    {
     "name": "stdout",
     "output_type": "stream",
     "text": [
      "Yes\n"
     ]
    }
   ],
   "source": [
    "# Example inputs\n",
    "inorder = [4, 2, 5, 1, 3]\n",
    "preorder = [1, 5, 4, 2, 3]\n",
    "postorder = [4 ,1, 2, 3, 5]\n",
    "\n",
    "# Check if they belong to the same tree\n",
    "root = isSameTree(inorder, preorder, postorder)\n",
    "\n",
    "# Print the result\n",
    "if root is not None:\n",
    "    print(\"Yes\")\n",
    "else:\n",
    "    print(\"No\")"
   ]
  },
  {
   "cell_type": "code",
   "execution_count": null,
   "id": "f4023a36",
   "metadata": {},
   "outputs": [],
   "source": []
  }
 ],
 "metadata": {
  "kernelspec": {
   "display_name": "Python 3 (ipykernel)",
   "language": "python",
   "name": "python3"
  },
  "language_info": {
   "codemirror_mode": {
    "name": "ipython",
    "version": 3
   },
   "file_extension": ".py",
   "mimetype": "text/x-python",
   "name": "python",
   "nbconvert_exporter": "python",
   "pygments_lexer": "ipython3",
   "version": "3.9.13"
  }
 },
 "nbformat": 4,
 "nbformat_minor": 5
}
