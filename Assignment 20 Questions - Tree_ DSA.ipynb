{
 "cells": [
  {
   "cell_type": "markdown",
   "id": "bf1be41c",
   "metadata": {},
   "source": [
    "**Question-1**\n",
    "\n",
    "Given a binary tree, your task is to find subtree with maximum sum in tree.\n",
    "\n",
    "Examples:\n",
    "\n",
    "Input1 :       \n",
    "\n",
    "       1\n",
    "\n",
    "     /   \\\n",
    "\n",
    "   2      3\n",
    "\n",
    "  / \\    / \\\n",
    "\n",
    "4   5  6   7\n",
    "\n",
    "Output1 : 28\n",
    "\n",
    "As all the tree elements are positive, the largest subtree sum is equal to sum of all tree elements.\n",
    "\n",
    "Input2 :\n",
    "\n",
    "       1\n",
    "\n",
    "     /    \\\n",
    "\n",
    "  -2      3\n",
    "\n",
    "  / \\    /  \\\n",
    "\n",
    "4   5  -6   2\n",
    "\n",
    "Output2 : 7\n",
    "\n",
    "Subtree with largest sum is :\n",
    "\n",
    " -2\n",
    "\n",
    " / \\\n",
    "\n",
    "4   5\n",
    "\n",
    "Also, entire tree sum is also 7.\n"
   ]
  },
  {
   "cell_type": "code",
   "execution_count": 2,
   "id": "8498a780",
   "metadata": {},
   "outputs": [],
   "source": [
    "class TreeNode:\n",
    "    def __init__(self, val):\n",
    "        self.val = val\n",
    "        self.left = None\n",
    "        self.right = None\n",
    "\n",
    "def find_max_subtree_sum(root):\n",
    "    if root is None:\n",
    "        return 0\n",
    "\n",
    "    # Recursive calculation of subtree sums\n",
    "    left_sum = find_max_subtree_sum(root.left)\n",
    "    right_sum = find_max_subtree_sum(root.right)\n",
    "    \n",
    "    # Calculating the sum of the current subtree\n",
    "    current_sum = root.val + left_sum + right_sum\n",
    "    \n",
    "    # Updating the maximum sum if necessary\n",
    "    if find_max_subtree_sum.max_sum < current_sum:\n",
    "        find_max_subtree_sum.max_sum = current_sum\n",
    "\n",
    "    # Returning the sum of the current subtree\n",
    "    return current_sum"
   ]
  },
  {
   "cell_type": "code",
   "execution_count": 3,
   "id": "b11644c6",
   "metadata": {},
   "outputs": [
    {
     "name": "stdout",
     "output_type": "stream",
     "text": [
      "28\n"
     ]
    }
   ],
   "source": [
    "# Test the function with the given example\n",
    "\n",
    "# Create the binary tree\n",
    "root = TreeNode(1)\n",
    "root.left = TreeNode(2)\n",
    "root.right = TreeNode(3)\n",
    "root.left.left = TreeNode(4)\n",
    "root.left.right = TreeNode(5)\n",
    "root.right.left = TreeNode(6)\n",
    "root.right.right = TreeNode(7)\n",
    "\n",
    "# Initialize the maximum sum to a minimum value\n",
    "find_max_subtree_sum.max_sum = float('-inf')\n",
    "\n",
    "# Find the subtree with the maximum sum\n",
    "find_max_subtree_sum(root)\n",
    "\n",
    "# Print the maximum sum\n",
    "print(find_max_subtree_sum.max_sum)"
   ]
  },
  {
   "cell_type": "code",
   "execution_count": 4,
   "id": "b5d4695f",
   "metadata": {},
   "outputs": [
    {
     "name": "stdout",
     "output_type": "stream",
     "text": [
      "7\n"
     ]
    }
   ],
   "source": [
    "# Test the function with the given example\n",
    "\n",
    "# Create the binary tree\n",
    "root = TreeNode(1)\n",
    "root.left = TreeNode(-2)\n",
    "root.right = TreeNode(3)\n",
    "root.left.left = TreeNode(4)\n",
    "root.left.right = TreeNode(5)\n",
    "root.right.left = TreeNode(-6)\n",
    "root.right.right = TreeNode(2)\n",
    "\n",
    "# Initialize the maximum sum to a minimum value\n",
    "find_max_subtree_sum.max_sum = float('-inf')\n",
    "\n",
    "# Find the subtree with the maximum sum\n",
    "find_max_subtree_sum(root)\n",
    "\n",
    "# Print the maximum sum\n",
    "print(find_max_subtree_sum.max_sum)"
   ]
  },
  {
   "cell_type": "markdown",
   "id": "e79d2139",
   "metadata": {},
   "source": [
    "**Question-2**\n",
    "\n",
    "Construct the BST (Binary Search Tree) from its given level order traversal.\n",
    "\n",
    "Example:\n",
    "\n",
    "Input: arr[] = {7, 4, 12, 3, 6, 8, 1, 5, 10}\n",
    "\n",
    "Output: BST:\n",
    "\n",
    "            7\n",
    "\n",
    "         /    \\\n",
    "\n",
    "       4     12\n",
    "\n",
    "     /  \\     /\n",
    "\n",
    "    3    6  8\n",
    "\n",
    "   /   /     \\\n",
    "\n",
    " 1     5      10\n"
   ]
  },
  {
   "cell_type": "code",
   "execution_count": 5,
   "id": "ed330331",
   "metadata": {},
   "outputs": [],
   "source": [
    "class TreeNode:\n",
    "    def __init__(self, val):\n",
    "        self.val = val\n",
    "        self.left = None\n",
    "        self.right = None\n",
    "\n",
    "def construct_bst(level_order):\n",
    "    if not level_order:\n",
    "        return None\n",
    "\n",
    "    root = TreeNode(level_order[0])\n",
    "    queue = [root]\n",
    "    i = 1\n",
    "\n",
    "    while i < len(level_order):\n",
    "        current = queue.pop(0)\n",
    "\n",
    "        if i < len(level_order) and level_order[i] < current.val:\n",
    "            current.left = TreeNode(level_order[i])\n",
    "            queue.append(current.left)\n",
    "            i += 1\n",
    "\n",
    "        if i < len(level_order) and level_order[i] > current.val:\n",
    "            current.right = TreeNode(level_order[i])\n",
    "            queue.append(current.right)\n",
    "            i += 1\n",
    "\n",
    "    return root\n",
    "\n",
    "def inorder_traversal(root):\n",
    "    if root:\n",
    "        inorder_traversal(root.left)\n",
    "        print(root.val, end=\" \")\n",
    "        inorder_traversal(root.right)\n"
   ]
  },
  {
   "cell_type": "code",
   "execution_count": 6,
   "id": "1268092c",
   "metadata": {},
   "outputs": [
    {
     "name": "stdout",
     "output_type": "stream",
     "text": [
      "1 3 5 4 6 10 7 8 12 "
     ]
    }
   ],
   "source": [
    "# Test the function with the given example\n",
    "\n",
    "# Input level order traversal\n",
    "level_order = [7, 4, 12, 3, 6, 8, 1, 5, 10]\n",
    "\n",
    "# Construct the BST\n",
    "root = construct_bst(level_order)\n",
    "\n",
    "# Print the inorder traversal of the constructed BST\n",
    "inorder_traversal(root)\n"
   ]
  },
  {
   "cell_type": "markdown",
   "id": "4ba36a8b",
   "metadata": {},
   "source": [
    "Question-3\n",
    "\n",
    "Given an array of size n. The problem is to check whether the given array can represent the level order traversal of a Binary Search Tree or not.\n",
    "\n",
    "Examples:\n",
    "\n",
    "Input1 : arr[] = {7, 4, 12, 3, 6, 8, 1, 5, 10}\n",
    "\n",
    "Output1 : Yes\n",
    "\n",
    "For the given arr[], the Binary Search Tree is:\n",
    "\n",
    "            7\n",
    "\n",
    "         /    \\\n",
    "\n",
    "       4     12\n",
    "\n",
    "     /  \\     /\n",
    "\n",
    "    3   6  8\n",
    "\n",
    "   /    /     \\\n",
    "\n",
    " 1    5      10\n",
    "\n",
    "Input2 : arr[] = {11, 6, 13, 5, 12, 10}\n",
    "\n",
    "Output2 : No\n",
    "\n",
    "The given arr[] does not represent the level order traversal of a BST.\n"
   ]
  },
  {
   "cell_type": "code",
   "execution_count": 23,
   "id": "09da6165",
   "metadata": {},
   "outputs": [],
   "source": [
    "class TreeNode:\n",
    "    def __init__(self, val):\n",
    "        self.val = val\n",
    "        self.left = None\n",
    "        self.right = None\n",
    "\n",
    "def can_represent_level_order_traversal(arr):\n",
    "    if not arr:\n",
    "        return True\n",
    "\n",
    "    n = len(arr)\n",
    "    root = TreeNode(arr[0])\n",
    "    queue = [root]\n",
    "    i = 1\n",
    "\n",
    "    while i < n and queue:\n",
    "        current = queue.pop(0)\n",
    "\n",
    "        if arr[i] < current.val:\n",
    "            current.left = TreeNode(arr[i])\n",
    "            queue.append(current.left)\n",
    "            i += 1\n",
    "\n",
    "        if i < n and arr[i] > current.val:\n",
    "            current.right = TreeNode(arr[i])\n",
    "            queue.append(current.right)\n",
    "            i += 1\n",
    "\n",
    "    return i == n and not queue\n"
   ]
  },
  {
   "cell_type": "code",
   "execution_count": 24,
   "id": "820fd766",
   "metadata": {},
   "outputs": [
    {
     "name": "stdout",
     "output_type": "stream",
     "text": [
      "No\n"
     ]
    }
   ],
   "source": [
    "# Test the function with the given example\n",
    "\n",
    "# Input array\n",
    "arr = [11, 6, 13, 5, 12, 10]\n",
    "\n",
    "# Check if the array represents the level order traversal of a BST\n",
    "result = can_represent_level_order_traversal(arr)\n",
    "\n",
    "# Print the result\n",
    "if result:\n",
    "    print(\"Yes\")\n",
    "else:\n",
    "    print(\"No\")"
   ]
  },
  {
   "cell_type": "code",
   "execution_count": 25,
   "id": "69c733c2",
   "metadata": {},
   "outputs": [
    {
     "name": "stdout",
     "output_type": "stream",
     "text": [
      "No\n"
     ]
    }
   ],
   "source": [
    "# Test the function with the given example\n",
    "\n",
    "# Input array\n",
    "arr = [7, 4, 12, 3, 6, 8, 1, 5, 10]\n",
    "\n",
    "# Check if the array represents the level order traversal of a BST\n",
    "result = can_represent_level_order_traversal(arr)\n",
    "\n",
    "# Print the result\n",
    "if result:\n",
    "    print(\"Yes\")\n",
    "else:\n",
    "    print(\"No\")"
   ]
  },
  {
   "cell_type": "code",
   "execution_count": null,
   "id": "83bde9a0",
   "metadata": {},
   "outputs": [],
   "source": []
  }
 ],
 "metadata": {
  "kernelspec": {
   "display_name": "Python 3 (ipykernel)",
   "language": "python",
   "name": "python3"
  },
  "language_info": {
   "codemirror_mode": {
    "name": "ipython",
    "version": 3
   },
   "file_extension": ".py",
   "mimetype": "text/x-python",
   "name": "python",
   "nbconvert_exporter": "python",
   "pygments_lexer": "ipython3",
   "version": "3.9.13"
  }
 },
 "nbformat": 4,
 "nbformat_minor": 5
}
