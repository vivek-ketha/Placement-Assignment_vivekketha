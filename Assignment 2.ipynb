{
 "cells": [
  {
   "cell_type": "markdown",
   "id": "0c263656-9d13-4e46-9ec8-8921a8e98e90",
   "metadata": {},
   "source": [
    "# Assignment 2 Questions - Arrays | DSA"
   ]
  },
  {
   "cell_type": "markdown",
   "id": "3e96828b-9595-4dcf-8465-37a729fefc84",
   "metadata": {},
   "source": [
    "## Q1\n",
    "**Question 1**\n",
    "Given an integer array nums of 2n integers, group these integers into n pairs (a1, b1), (a2, b2),..., (an, bn) such that the sum of min(ai, bi) for all i is maximized. Return the maximized sum.\n",
    "\n",
    "**Example 1:**\n",
    "Input: nums = [1,4,3,2]\n",
    "Output: 4\n",
    "\n",
    "**Explanation:** All possible pairings (ignoring the ordering of elements) are:\n",
    "\n",
    "1. (1, 4), (2, 3) -> min(1, 4) + min(2, 3) = 1 + 2 = 3\n",
    "2. (1, 3), (2, 4) -> min(1, 3) + min(2, 4) = 1 + 2 = 3\n",
    "3. (1, 2), (3, 4) -> min(1, 2) + min(3, 4) = 1 + 3 = 4\n",
    "So the maximum possible sum is 4"
   ]
  },
  {
   "cell_type": "code",
   "execution_count": 2,
   "id": "22aa2620-d970-43dc-b088-070fccf09361",
   "metadata": {},
   "outputs": [
    {
     "data": {
      "text/plain": [
       "4"
      ]
     },
     "execution_count": 2,
     "metadata": {},
     "output_type": "execute_result"
    }
   ],
   "source": [
    "def arrayPairSum(nums) -> int:\n",
    "    nums.sort()\n",
    "\n",
    "    sum = 0\n",
    "    for i in range(0, len(nums), 2):\n",
    "        sum +=nums[i]\n",
    "    return sum\n",
    "nums = [1,4,3,2]\n",
    "arrayPairSum(nums)"
   ]
  },
  {
   "cell_type": "markdown",
   "id": "77265740-d47f-447d-bb74-48b9fd582d30",
   "metadata": {},
   "source": [
    "## Q2\n",
    "**Question 2**\n",
    "Alice has n candies, where the ith candy is of type candyType[i]. Alice noticed that she started to gain weight, so she visited a doctor. \n",
    "\n",
    "The doctor advised Alice to only eat n / 2 of the candies she has (n is always even). Alice likes her candies very much, and she wants to eat the maximum number of different types of candies while still following the doctor's advice. \n",
    "\n",
    "Given the integer array candyType of length n, return the maximum number of different types of candies she can eat if she only eats n / 2 of them.\n",
    "\n",
    "**Example 1:**\n",
    "Input: candyType = [1,1,2,2,3,3]\n",
    "Output: 3\n",
    "\n",
    "**Explanation**: Alice can only eat 6 / 2 = 3 candies. Since there are only 3 types, she can eat one of each type."
   ]
  },
  {
   "cell_type": "code",
   "execution_count": 1,
   "id": "58b589aa-0df9-4a38-bcf0-ef4cd0813f4b",
   "metadata": {},
   "outputs": [
    {
     "data": {
      "text/plain": [
       "3"
      ]
     },
     "execution_count": 1,
     "metadata": {},
     "output_type": "execute_result"
    }
   ],
   "source": [
    "def distributeCandies(candyType) -> int: \n",
    "    return int(min(len(set(candyType)) , len(candyType)/2))\n",
    "candyType = [1,1,2,2,3,3]\n",
    "distributeCandies(candyType)"
   ]
  },
  {
   "cell_type": "markdown",
   "id": "5b72ccba-e30e-4c67-8181-ff9ae4b474d5",
   "metadata": {},
   "source": [
    "## Q3\n",
    "**Question 3**\n",
    "We define a harmonious array as an array where the difference between its maximum value\n",
    "and its minimum value is exactly 1.\n",
    "\n",
    "Given an integer array nums, return the length of its longest harmonious subsequence\n",
    "among all its possible subsequences.\n",
    "\n",
    "A subsequence of an array is a sequence that can be derived from the array by deleting some or no elements without changing the order of the remaining elements.\n",
    "\n",
    "**Example 1:**\n",
    "Input: nums = [1,3,2,2,5,2,3,7]\n",
    "Output: 5\n",
    "\n",
    "**Explanation:** The longest harmonious subsequence is [3,2,2,2,3]."
   ]
  },
  {
   "cell_type": "code",
   "execution_count": 15,
   "id": "c979ae98-beb3-481d-a67e-571a67d953f2",
   "metadata": {},
   "outputs": [
    {
     "data": {
      "text/plain": [
       "5"
      ]
     },
     "execution_count": 15,
     "metadata": {},
     "output_type": "execute_result"
    }
   ],
   "source": [
    "nums = [1,3,2,2,5,2,3,7]\n",
    "def findLHS(nums) -> int:\n",
    "    map = {}\n",
    "    max_length = 0\n",
    "\n",
    "    for i in nums:\n",
    "        map[i] = map.get(i, 0) + 1\n",
    "\n",
    "    for i in nums:\n",
    "        if i+1 in map:\n",
    "            len = map[i] + map[i+1]\n",
    "            max_length = max(max_length, len)\n",
    "    return max_length\n",
    "findLHS(nums)"
   ]
  },
  {
   "cell_type": "markdown",
   "id": "74d18de5-606f-4ea5-9102-d520059295c6",
   "metadata": {},
   "source": [
    "## Q4\n",
    "**Question 4**\n",
    "You have a long flowerbed in which some of the plots are planted, and some are not.\n",
    "However, flowers cannot be planted in adjacent plots.\n",
    "Given an integer array flowerbed containing 0's and 1's, where 0 means empty and 1 means not empty, and an integer n, return true if n new flowers can be planted in the flowerbed without violating the no-adjacent-flowers rule and false otherwise.\n",
    "\n",
    "**Example 1:**\n",
    "Input: flowerbed = [1,0,0,0,1], n = 1\n",
    "Output: true"
   ]
  },
  {
   "cell_type": "markdown",
   "id": "6d75cde3-071b-4129-9687-2d67a02824f9",
   "metadata": {},
   "source": [
    "### solution 1 = \n",
    "complexity - Time: O(n) , Space: O(1)"
   ]
  },
  {
   "cell_type": "code",
   "execution_count": 16,
   "id": "3f98d087-b117-4f0d-bd6d-28e916509cfe",
   "metadata": {},
   "outputs": [
    {
     "data": {
      "text/plain": [
       "True"
      ]
     },
     "execution_count": 16,
     "metadata": {},
     "output_type": "execute_result"
    }
   ],
   "source": [
    "def canPlaceFlowers(flowerbed, n):\n",
    "    count = 0\n",
    "    length = len(flowerbed)\n",
    "    i = 0\n",
    "\n",
    "    while i < length:\n",
    "        if (flowerbed[i] == 0 and \n",
    "        (i == 0 or flowerbed[i - 1] == 0) and \n",
    "        (i == length - 1 or flowerbed[i + 1] == 0)):\n",
    "            '''checking if a specific index `i` in the `flowerbed` list is equal to 0 \n",
    "            and if the adjacent elements to the left and right \n",
    "            of `i` are also equal to 0. '''\n",
    "            flowerbed[i] = 1\n",
    "            count += 1\n",
    "        i += 1\n",
    "\n",
    "    return count >= n\n",
    "flowerbed = [1,0,0,0,1]\n",
    "n = 1\n",
    "canPlaceFlowers(flowerbed, n)"
   ]
  },
  {
   "cell_type": "markdown",
   "id": "350034a3-633d-4b99-b745-51c837c02504",
   "metadata": {},
   "source": [
    "### solution 2 = \n",
    "complexity - Time: O(n) , Space: O(n)"
   ]
  },
  {
   "cell_type": "code",
   "execution_count": 17,
   "id": "b6af878d-ab07-4f3f-a2ba-c798d6b9445f",
   "metadata": {},
   "outputs": [
    {
     "data": {
      "text/plain": [
       "True"
      ]
     },
     "execution_count": 17,
     "metadata": {},
     "output_type": "execute_result"
    }
   ],
   "source": [
    "def canPlaceFlowers(flowerbed, n) -> bool:\n",
    "    f = [0] + flowerbed + [0]\n",
    "    for i in range(1, len(f)-1):\n",
    "        if f[i-1] == 0 and f[i] == 0 and f[i+1] == 0:\n",
    "            f[i] = 1\n",
    "            n -= 1\n",
    "    return n <= 0\n",
    "flowerbed = [1,0,0,0,1]\n",
    "n = 1\n",
    "canPlaceFlowers(flowerbed, n)"
   ]
  },
  {
   "cell_type": "markdown",
   "id": "6331d114-73a4-47ae-a66c-079ef9fbaf79",
   "metadata": {},
   "source": [
    "## Q5\n",
    "**Question 5**\n",
    "Given an integer array nums, find three numbers whose product is maximum and return the maximum product.\n",
    "\n",
    "**Example 1:**\n",
    "Input: nums = [1,2,3]\n",
    "Output: 6"
   ]
  },
  {
   "cell_type": "code",
   "execution_count": 1,
   "id": "2cfb9ba9-be04-4741-9b91-a7877dfce6c5",
   "metadata": {},
   "outputs": [
    {
     "data": {
      "text/plain": [
       "6"
      ]
     },
     "execution_count": 1,
     "metadata": {},
     "output_type": "execute_result"
    }
   ],
   "source": [
    "def maximumProduct(nums) -> int:\n",
    "    max1 = max2 = max3 = float('-inf')\n",
    "    min1 = min2 = float('inf')\n",
    "\n",
    "    for num in nums:\n",
    "        if num >= max1:\n",
    "            max3 = max2\n",
    "            max2 = max1\n",
    "            max1 = num\n",
    "        elif num >= max2:\n",
    "            max3 = max2\n",
    "            max2 = num\n",
    "        elif num > max3:\n",
    "            max3 = num\n",
    "\n",
    "\n",
    "        if num <= min1:\n",
    "            min2 = min1\n",
    "            min1 = num\n",
    "        elif num < min2:\n",
    "            min2 = num\n",
    "\n",
    "    return max(max1*max2*max3 , min1*min2*max1)\n",
    "nums = [1,2,3]\n",
    "maximumProduct(nums)"
   ]
  },
  {
   "cell_type": "markdown",
   "id": "fdfe2862-6e7a-4d9c-a92a-fdcebf474547",
   "metadata": {},
   "source": [
    "## Q6\n",
    "**Question 6**\n",
    "Given an array of integers nums which is sorted in ascending order, and an integer target,\n",
    "write a function to search target in nums. If target exists, then return its index. Otherwise,\n",
    "return -1.\n",
    "\n",
    "You must write an algorithm with O(log n) runtime complexity.\n",
    "\n",
    "Input: nums = [-1,0,3,5,9,12], target = 9\n",
    "Output: 4\n",
    "\n",
    "**Explanation:** 9 exists in nums and its index is 4"
   ]
  },
  {
   "cell_type": "code",
   "execution_count": 2,
   "id": "9626acb2-e08c-4edc-a469-f4a8c38bdacf",
   "metadata": {},
   "outputs": [
    {
     "data": {
      "text/plain": [
       "4"
      ]
     },
     "execution_count": 2,
     "metadata": {},
     "output_type": "execute_result"
    }
   ],
   "source": [
    "def search(nums, target) -> int:\n",
    "    left = 0\n",
    "    right = len(nums) - 1\n",
    "\n",
    "    while left <= right:\n",
    "        mid = (left + right) // 2\n",
    "        if nums[mid] == target:\n",
    "            return mid\n",
    "        elif nums[mid] < target:\n",
    "            left = mid + 1\n",
    "        else:\n",
    "            right = mid - 1\n",
    "\n",
    "    return -1\n",
    "nums = [-1,0,3,5,9,12]\n",
    "target = 9\n",
    "search(nums, target)"
   ]
  },
  {
   "cell_type": "markdown",
   "id": "5746e274-131f-4cd9-a4a6-d66fd2434cd9",
   "metadata": {},
   "source": [
    "## Q7\n",
    "**Question 7**\n",
    "An array is monotonic if it is either monotone increasing or monotone decreasing.\n",
    "\n",
    "An array nums is monotone increasing if for all i <= j, nums[i] <= nums[j]. An array nums is\n",
    "monotone decreasing if for all i <= j, nums[i] >= nums[j].\n",
    "\n",
    "Given an integer array nums, return true if the given array is monotonic, or false otherwise.\n",
    "\n",
    "**Example 1:**\n",
    "Input: nums = [1,2,2,3]\n",
    "Output: true"
   ]
  },
  {
   "cell_type": "code",
   "execution_count": 1,
   "id": "849e846e-a218-4158-9bf1-358ff5576ddd",
   "metadata": {},
   "outputs": [
    {
     "data": {
      "text/plain": [
       "True"
      ]
     },
     "execution_count": 1,
     "metadata": {},
     "output_type": "execute_result"
    }
   ],
   "source": [
    "def isMonotonic(nums) -> bool:\n",
    "    n = len(nums)\n",
    "    a = all(nums[i]<=nums[i+1] for i in range(n-1))\n",
    "    b = all(nums[i]>=nums[i+1] for i in range(n-1))\n",
    "\n",
    "    return a or b\n",
    "nums = [1,2,2,3]\n",
    "isMonotonic(nums)"
   ]
  },
  {
   "cell_type": "markdown",
   "id": "1d55a227-cc37-4401-b609-7d0342bc8e16",
   "metadata": {},
   "source": [
    "## Q8\n",
    "**Question 8**\n",
    "You are given an integer array nums and an integer k.\n",
    "\n",
    "In one operation, you can choose any index i where 0 <= i < nums.length and change nums[i] to nums[i] + x where x is an integer from the range [-k, k]. You can apply this operation at most once for each index i.\n",
    "\n",
    "The score of nums is the difference between the maximum and minimum elements in nums.\n",
    "\n",
    "Return the minimum score of nums after applying the mentioned operation at most once for each index in it.\n",
    "\n",
    "**Example 1:**\n",
    "Input: nums = [1], k = 0\n",
    "Output: 0\n",
    "\n",
    "**Explanation:** The score is max(nums) - min(nums) = 1 - 1 = 0."
   ]
  },
  {
   "cell_type": "code",
   "execution_count": 7,
   "id": "2568cc21-ea92-4b98-b1df-91d4f2f66bc7",
   "metadata": {},
   "outputs": [
    {
     "name": "stdout",
     "output_type": "stream",
     "text": [
      "4\n",
      "3\n"
     ]
    },
    {
     "data": {
      "text/plain": [
       "1"
      ]
     },
     "execution_count": 7,
     "metadata": {},
     "output_type": "execute_result"
    }
   ],
   "source": [
    "def minimumScore(nums, k):\n",
    "    minimum = float('inf')\n",
    "    maximum = float('-inf')\n",
    "\n",
    "    for num in nums:\n",
    "        minimum = min(minimum, num)\n",
    "        maximum = max(maximum, num)\n",
    "\n",
    "    if maximum - minimum <= 2 * k:\n",
    "        return 0\n",
    "\n",
    "    midpoint = (minimum + maximum) // 2\n",
    "\n",
    "    for i in range(len(nums)):\n",
    "        if nums[i] <= midpoint:\n",
    "            nums[i] = minimum + k\n",
    "        else:\n",
    "            nums[i] = maximum - k\n",
    "\n",
    "    new_minimum = min(nums)\n",
    "    new_maximum = max(nums)\n",
    "\n",
    "    return new_maximum - new_minimum\n",
    "nums = [1,3,6]\n",
    "k = 3\n",
    "smallestRangeI(nums, k)"
   ]
  },
  {
   "cell_type": "code",
   "execution_count": null,
   "id": "ddccc0cf-c6ec-4da9-8f3c-bea6740d7c7e",
   "metadata": {},
   "outputs": [],
   "source": []
  }
 ],
 "metadata": {
  "kernelspec": {
   "display_name": "Python 3 (ipykernel)",
   "language": "python",
   "name": "python3"
  },
  "language_info": {
   "codemirror_mode": {
    "name": "ipython",
    "version": 3
   },
   "file_extension": ".py",
   "mimetype": "text/x-python",
   "name": "python",
   "nbconvert_exporter": "python",
   "pygments_lexer": "ipython3",
   "version": "3.10.6"
  }
 },
 "nbformat": 4,
 "nbformat_minor": 5
}
