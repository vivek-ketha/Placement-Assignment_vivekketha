{
 "cells": [
  {
   "cell_type": "markdown",
   "id": "d5beffe8-f54c-480a-a9fc-2fae68a867b3",
   "metadata": {},
   "source": [
    "# Assignment 4 Questions - 2D Arrays | DSA"
   ]
  },
  {
   "cell_type": "markdown",
   "id": "da2d6b4b-f1b6-43a2-b7bd-983fe0b166cf",
   "metadata": {},
   "source": [
    "## Q1\n",
    "**Question 1**\n",
    "Given three integer arrays arr1, arr2 and arr3 **sorted** in **strictly increasing** order, return a sorted array of **only** the integers that appeared in **all** three arrays.\n",
    "\n",
    "**Example 1:**\n",
    "\n",
    "Input: arr1 = [1,2,3,4,5], arr2 = [1,2,5,7,9], arr3 = [1,3,4,5,8]\n",
    "\n",
    "Output: [1,5]\n",
    "\n",
    "**Explanation:** Only 1 and 5 appeared in the three arrays."
   ]
  },
  {
   "cell_type": "code",
   "execution_count": 3,
   "id": "dad1468c-e3e6-41d3-a258-ee543a7e3259",
   "metadata": {},
   "outputs": [
    {
     "name": "stdout",
     "output_type": "stream",
     "text": [
      "[1, 5]\n"
     ]
    }
   ],
   "source": [
    "def intersection(nums1, nums2,nums3):\n",
    "    set1 = set(nums1)\n",
    "    set2 = set(nums2)\n",
    "    set3 = set(nums3)\n",
    "    return list(set1.intersection(set2,set3))\n",
    "\n",
    "nums1 = [1,2,3,4,5]\n",
    "nums2 = [1,2,5,7,9]\n",
    "nums3 = [1,3,4,5,8]\n",
    "result = intersection(nums1, nums2, nums3)\n",
    "print(result)"
   ]
  },
  {
   "cell_type": "markdown",
   "id": "513d4688-f8f7-4c99-810a-08124191d4cc",
   "metadata": {},
   "source": [
    "## Q2\n",
    "**Question 2**\n",
    "\n",
    "Given two **0-indexed** integer arrays nums1 and nums2, return *a list* answer *of size* 2 *where:*\n",
    "\n",
    "- answer[0] *is a list of all **distinct** integers in* nums1 *which are **not** present in* nums2*.*\n",
    "- answer[1] *is a list of all **distinct** integers in* nums2 *which are **not** present in* nums1.\n",
    "\n",
    "**Note** that the integers in the lists may be returned in **any** order.\n",
    "\n",
    "**Example 1:**\n",
    "\n",
    "**Input:** nums1 = [1,2,3], nums2 = [2,4,6]\n",
    "\n",
    "**Output:** [[1,3],[4,6]]\n",
    "\n",
    "**Explanation:**\n",
    "\n",
    "For nums1, nums1[1] = 2 is present at index 0 of nums2, whereas nums1[0] = 1 and nums1[2] = 3 are not present in nums2. Therefore, answer[0] = [1,3].\n",
    "\n",
    "For nums2, nums2[0] = 2 is present at index 1 of nums1, whereas nums2[1] = 4 and nums2[2] = 6 are not present in nums2. Therefore, answer[1] = [4,6]."
   ]
  },
  {
   "cell_type": "code",
   "execution_count": 3,
   "id": "4eacb357-f170-45a5-8c82-66e7666c00e9",
   "metadata": {},
   "outputs": [
    {
     "data": {
      "text/plain": [
       "[[1, 3], [4, 6]]"
      ]
     },
     "execution_count": 3,
     "metadata": {},
     "output_type": "execute_result"
    }
   ],
   "source": [
    "def findDifference(nums1, nums2):\n",
    "    set1 = set(nums1)\n",
    "    set2 = set(nums2)\n",
    "\n",
    "    a = list(set1-set2)\n",
    "    b = list(set2-set1)\n",
    "\n",
    "    return [a, b]\n",
    "nums1 = [1,2,3]\n",
    "nums2 = [2,4,6]\n",
    "findDifference(nums1, nums2)"
   ]
  },
  {
   "cell_type": "code",
   "execution_count": 7,
   "id": "6aefe8ee-c481-490a-a457-742501e5a4ca",
   "metadata": {},
   "outputs": [
    {
     "name": "stdout",
     "output_type": "stream",
     "text": [
      "[1, 3] [4, 6]\n"
     ]
    }
   ],
   "source": [
    "result1 = [x for x in nums1 if x not in nums2]\n",
    "result2 = [x for x in nums2 if x not in nums1]\n",
    "print(result1,result2)"
   ]
  },
  {
   "cell_type": "markdown",
   "id": "6c49a546-b737-430f-b8a4-58da7e036d81",
   "metadata": {},
   "source": [
    "## Q3\n",
    "**Question 3**\n",
    "Given a 2D integer array matrix, return *the **transpose** of* matrix.\n",
    "\n",
    "The **transpose** of a matrix is the matrix flipped over its main diagonal, switching the matrix's row and column indices.\n",
    "\n",
    "**Example 1:**\n",
    "\n",
    "Input: matrix = [[1,2,3],[4,5,6],[7,8,9]]\n",
    "\n",
    "Output: [[1,4,7],[2,5,8],[3,6,9]]\n",
    "\n",
    "![iamge_v3.png](https://s3-us-west-2.amazonaws.com/secure.notion-static.com/a54805f4-c9b5-491c-a900-8e8a94062c79/iamge_v3.png)"
   ]
  },
  {
   "cell_type": "code",
   "execution_count": 8,
   "id": "60395ff0-5405-46b7-a235-6f80a19cd8f8",
   "metadata": {},
   "outputs": [
    {
     "data": {
      "text/plain": [
       "[[1, 4, 7], [2, 5, 8], [3, 6, 9]]"
      ]
     },
     "execution_count": 8,
     "metadata": {},
     "output_type": "execute_result"
    }
   ],
   "source": [
    "def transpose(matrix):\n",
    "    T = [[0] * len(matrix) for _ in range(len(matrix[0]))]\n",
    "    for i in range(len(matrix)):\n",
    "        for j in range(len(matrix[0])):\n",
    "            T[j][i] = matrix[i][j]\n",
    "    return T\n",
    "matrix = [[1,2,3],[4,5,6],[7,8,9]]\n",
    "transpose(matrix)"
   ]
  },
  {
   "cell_type": "code",
   "execution_count": 12,
   "id": "cae91832-a825-424a-aef0-352eae461775",
   "metadata": {},
   "outputs": [
    {
     "data": {
      "text/plain": [
       "[[1, 4, 7], [2, 5, 8], [3, 6, 9]]"
      ]
     },
     "execution_count": 12,
     "metadata": {},
     "output_type": "execute_result"
    }
   ],
   "source": [
    " list(map(list, list(zip(*matrix))))"
   ]
  },
  {
   "cell_type": "markdown",
   "id": "70031996-051d-4c4e-b4f6-0aae11b8f1e0",
   "metadata": {},
   "source": [
    "## Q4\n",
    "**Question 4**\n",
    "Given an integer array nums of 2n integers, group these integers into n pairs (a1, b1), (a2, b2), ..., (an, bn) such that the sum of min(ai, bi) for all i is **maximized**. Return *the maximized sum*.\n",
    "\n",
    "**Example 1:**\n",
    "\n",
    "Input: nums = [1,4,3,2]\n",
    "\n",
    "Output: 4\n",
    "\n",
    "**Explanation:** All possible pairings (ignoring the ordering of elements) are:\n",
    "\n",
    "1. (1, 4), (2, 3) -> min(1, 4) + min(2, 3) = 1 + 2 = 3\n",
    "\n",
    "2. (1, 3), (2, 4) -> min(1, 3) + min(2, 4) = 1 + 2 = 3\n",
    "\n",
    "3. (1, 2), (3, 4) -> min(1, 2) + min(3, 4) = 1 + 3 = 4\n",
    "\n",
    "So the maximum possible sum is 4."
   ]
  },
  {
   "cell_type": "code",
   "execution_count": 13,
   "id": "38acb71b-e45d-4f56-8798-8f7e65172974",
   "metadata": {},
   "outputs": [
    {
     "data": {
      "text/plain": [
       "4"
      ]
     },
     "execution_count": 13,
     "metadata": {},
     "output_type": "execute_result"
    }
   ],
   "source": [
    "def arrayPairSum(nums) -> int:\n",
    "    return sum(sorted(nums)[::2])\n",
    "nums = [1,4,3,2]\n",
    "arrayPairSum(nums)"
   ]
  },
  {
   "cell_type": "code",
   "execution_count": 21,
   "id": "de7a6113-c8e8-4489-848b-2d5dfdbeb2cb",
   "metadata": {},
   "outputs": [
    {
     "data": {
      "text/plain": [
       "4"
      ]
     },
     "execution_count": 21,
     "metadata": {},
     "output_type": "execute_result"
    }
   ],
   "source": [
    "# using heap\n",
    "\n",
    "import heapq\n",
    "def arrayPairSum(nums) -> int:\n",
    "    heapify(nums)\n",
    "    output = 0\n",
    "    while nums:\n",
    "        a, b, = heapq.heappop(nums), heapq.heappop(nums)\n",
    "        output += a\n",
    "    return output\n",
    "nums = [1,4,3,2]\n",
    "arrayPairSum(nums)"
   ]
  },
  {
   "cell_type": "markdown",
   "id": "35695ca4-72b1-43cd-9450-86e67fd093bf",
   "metadata": {},
   "source": [
    "## Q5\n",
    "**Question 5**\n",
    "You have n coins and you want to build a staircase with these coins. The staircase consists of k rows where the ith row has exactly i coins. The last row of the staircase **may be** incomplete.\n",
    "\n",
    "Given the integer n, return *the number of **complete rows** of the staircase you will build*.\n",
    "\n",
    "**Example 1:**\n",
    "\n",
    "[]()\n",
    "\n",
    "![v2.jpg](https://s3-us-west-2.amazonaws.com/secure.notion-static.com/4bd91cfa-d2b1-47b3-8197-a72e8dcfff4b/v2.jpg)\n",
    "\n",
    "**Input:** n = 5\n",
    "\n",
    "**Output:** 2\n",
    "\n",
    "**Explanation:** Because the 3rd row is incomplete, we return 2."
   ]
  },
  {
   "cell_type": "code",
   "execution_count": 22,
   "id": "f99a2a22-b6da-48ff-a74f-34c1abbfda78",
   "metadata": {},
   "outputs": [
    {
     "data": {
      "text/plain": [
       "2"
      ]
     },
     "execution_count": 22,
     "metadata": {},
     "output_type": "execute_result"
    }
   ],
   "source": [
    "# linear method    O(n)\n",
    "def arrangeCoins(n) -> int:\n",
    "    i = 1\n",
    "    output = 0\n",
    "\n",
    "    while n >= i:\n",
    "        n -= i\n",
    "        output += 1\n",
    "        i += 1\n",
    "    return output\n",
    "n = 5\n",
    "arrangeCoins(n)"
   ]
  },
  {
   "cell_type": "code",
   "execution_count": 23,
   "id": "0fd82242-aac0-4b5b-a2da-69b93a124514",
   "metadata": {},
   "outputs": [
    {
     "data": {
      "text/plain": [
       "2"
      ]
     },
     "execution_count": 23,
     "metadata": {},
     "output_type": "execute_result"
    }
   ],
   "source": [
    "def arrangeCoins(n) -> int:\n",
    "    left = 1\n",
    "    right = n\n",
    "\n",
    "    while left <= right:\n",
    "        mid = left + (right - left) // 2\n",
    "        coins = mid*(mid+1)//2\n",
    "\n",
    "        if coins == n:\n",
    "            return mid\n",
    "\n",
    "        if coins < n:\n",
    "            left = mid + 1\n",
    "        else:\n",
    "            right = mid - 1\n",
    "    return right\n",
    "n = 5\n",
    "arrangeCoins(n)"
   ]
  },
  {
   "cell_type": "markdown",
   "id": "2f9af2b6-7f30-4a3c-bd05-1a31f6af90cb",
   "metadata": {},
   "source": [
    "## Q6\n",
    "**Question 6**\n",
    "Given an integer array nums sorted in **non-decreasing** order, return *an array of **the squares of each number** sorted in non-decreasing order*.\n",
    "\n",
    "**Example 1:**\n",
    "\n",
    "Input: nums = [-4,-1,0,3,10]\n",
    "\n",
    "Output: [0,1,9,16,100]\n",
    "\n",
    "**Explanation:** After squaring, the array becomes [16,1,0,9,100].\n",
    "After sorting, it becomes [0,1,9,16,100]"
   ]
  },
  {
   "cell_type": "code",
   "execution_count": 25,
   "id": "34bbea5a-7083-46b9-a634-9aaac0bd267e",
   "metadata": {},
   "outputs": [
    {
     "data": {
      "text/plain": [
       "[0, 1, 9, 16, 100]"
      ]
     },
     "execution_count": 25,
     "metadata": {},
     "output_type": "execute_result"
    }
   ],
   "source": [
    "def sortedSquares(nums):\n",
    "    for i, num in enumerate(nums):\n",
    "        nums[i] = num*num\n",
    "    nums.sort()\n",
    "    return nums\n",
    "nums = [-4,-1,0,3,10]\n",
    "sortedSquares(nums)"
   ]
  },
  {
   "cell_type": "markdown",
   "id": "d3c31f6e-ee00-4fb0-9912-e999db07a7d7",
   "metadata": {},
   "source": [
    "## Q7\n",
    "**Question 7**\n",
    "You are given an m x n matrix M initialized with all 0's and an array of operations ops, where ops[i] = [ai, bi] means M[x][y] should be incremented by one for all 0 <= x < ai and 0 <= y < bi.\n",
    "\n",
    "Count and return *the number of maximum integers in the matrix after performing all the operations*\n",
    "\n",
    "**Example 1:**\n",
    "\n",
    "![q4.jpg](https://s3-us-west-2.amazonaws.com/secure.notion-static.com/4d0890d0-7bc7-4f59-be8e-352d9f3c1c52/q4.jpg)\n",
    "\n",
    "**Input:** m = 3, n = 3, ops = [[2,2],[3,3]]\n",
    "\n",
    "**Output:** 4\n",
    "\n",
    "**Explanation:** The maximum integer in M is 2, and there are four of it in M. So return 4."
   ]
  },
  {
   "cell_type": "code",
   "execution_count": 26,
   "id": "f9e55244-73bb-48e7-b6e1-8df75d43f2a6",
   "metadata": {},
   "outputs": [
    {
     "data": {
      "text/plain": [
       "4"
      ]
     },
     "execution_count": 26,
     "metadata": {},
     "output_type": "execute_result"
    }
   ],
   "source": [
    "def maxCount(m, n, ops) -> int:\n",
    "    for op in ops:\n",
    "        m = min(m,op[0])\n",
    "        n = min(n, op[1])\n",
    "    return m*n\n",
    "m = 3\n",
    "n = 3\n",
    "ops = [[2,2],[3,3]]\n",
    "maxCount(m, n, ops)"
   ]
  },
  {
   "cell_type": "markdown",
   "id": "b20d1209-4c64-4921-bedf-331e090157dc",
   "metadata": {},
   "source": [
    "## Q8\n",
    "**Question 8**\n",
    "\n",
    "Given the array nums consisting of 2n elements in the form [x1,x2,...,xn,y1,y2,...,yn].\n",
    "\n",
    "*Return the array in the form* [x1,y1,x2,y2,...,xn,yn].\n",
    "\n",
    "**Example 1:**\n",
    "\n",
    "**Input:** nums = [2,5,1,3,4,7], n = 3\n",
    "\n",
    "**Output:** [2,3,5,4,1,7]\n",
    "\n",
    "**Explanation:** Since x1=2, x2=5, x3=1, y1=3, y2=4, y3=7 then the answer is [2,3,5,4,1,7]."
   ]
  },
  {
   "cell_type": "code",
   "execution_count": 27,
   "id": "38222cbc-8853-4d0f-88fc-d5567bbebec7",
   "metadata": {},
   "outputs": [
    {
     "data": {
      "text/plain": [
       "[2, 3, 5, 4, 1, 7]"
      ]
     },
     "execution_count": 27,
     "metadata": {},
     "output_type": "execute_result"
    }
   ],
   "source": [
    "def shuffle(nums, n):\n",
    "    n = len(nums)\n",
    "    i=0\n",
    "    j=n//2\n",
    "    output = []\n",
    "\n",
    "    while i < n//2:\n",
    "        output.append(nums[i])\n",
    "        output.append(nums[j])\n",
    "        i += 1\n",
    "        j+=1\n",
    "    return output\n",
    "nums = [2,5,1,3,4,7]\n",
    "n = 3\n",
    "shuffle(nums, n)"
   ]
  }
 ],
 "metadata": {
  "kernelspec": {
   "display_name": "Python 3 (ipykernel)",
   "language": "python",
   "name": "python3"
  },
  "language_info": {
   "codemirror_mode": {
    "name": "ipython",
    "version": 3
   },
   "file_extension": ".py",
   "mimetype": "text/x-python",
   "name": "python",
   "nbconvert_exporter": "python",
   "pygments_lexer": "ipython3",
   "version": "3.10.6"
  }
 },
 "nbformat": 4,
 "nbformat_minor": 5
}
