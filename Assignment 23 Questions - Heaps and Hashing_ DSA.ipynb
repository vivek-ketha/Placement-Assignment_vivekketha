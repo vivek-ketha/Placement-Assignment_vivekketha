{
 "cells": [
  {
   "cell_type": "markdown",
   "id": "5c15d1df",
   "metadata": {},
   "source": [
    "Question-1:\n",
    "\n",
    "Given preorder of a binary tree, calculate its **[depth(or height)](https://www.geeksforgeeks.org/write-a-c-program-to-find-the-maximum-depth-or-height-of-a-tree/)** [starting from depth 0]. The preorder is given as a string with two possible characters.\n",
    "\n",
    "1. ‘l’ denotes the leaf\n",
    "2. ‘n’ denotes internal node\n",
    "\n",
    "The given tree can be seen as a full binary tree where every node has 0 or two children. The two children of a node can ‘n’ or ‘l’ or mix of both.\n",
    "\n",
    "**Examples :**\n",
    "\n",
    "Input  : nlnll\n",
    "Output : 2\n",
    "Explanation :\n",
    "\n",
    "!https://media.geeksforgeeks.org/wp-content/uploads/btree1.png\n",
    "\n",
    "Input  : nlnnlll\n",
    "Output : 3\n",
    "\n",
    "!https://media.geeksforgeeks.org/wp-content/uploads/dia2.png\n"
   ]
  },
  {
   "cell_type": "code",
   "execution_count": 3,
   "id": "2383dde6",
   "metadata": {},
   "outputs": [],
   "source": [
    "def calculate_depth(preorder):\n",
    "    depth = 0\n",
    "    index = 0\n",
    "    return calculate_depth_recursive(preorder, depth, index)\n",
    "\n",
    "def calculate_depth_recursive(preorder, depth, index):\n",
    "    if index >= len(preorder):\n",
    "        return depth - 1\n",
    "\n",
    "    if preorder[index] == 'n':\n",
    "        depth += 1\n",
    "    elif preorder[index] == 'l':\n",
    "        return depth\n",
    "\n",
    "    index += 1\n",
    "    left_height = calculate_depth_recursive(preorder, depth, index)\n",
    "    index += left_height - depth + 1\n",
    "    right_height = calculate_depth_recursive(preorder, depth, index)\n",
    "\n",
    "    return max(left_height, right_height)"
   ]
  },
  {
   "cell_type": "code",
   "execution_count": 4,
   "id": "e30f6a68",
   "metadata": {},
   "outputs": [
    {
     "name": "stdout",
     "output_type": "stream",
     "text": [
      "Depth: 2\n"
     ]
    }
   ],
   "source": [
    "# Example usage\n",
    "preorder = 'nlnll'\n",
    "depth = calculate_depth(preorder)\n",
    "print(\"Depth:\", depth)"
   ]
  },
  {
   "cell_type": "code",
   "execution_count": 5,
   "id": "bfc68d43",
   "metadata": {},
   "outputs": [
    {
     "name": "stdout",
     "output_type": "stream",
     "text": [
      "Depth: 3\n"
     ]
    }
   ],
   "source": [
    "# Example usage\n",
    "preorder = 'nlnnll'\n",
    "depth = calculate_depth(preorder)\n",
    "print(\"Depth:\", depth)"
   ]
  },
  {
   "cell_type": "markdown",
   "id": "469ff42f",
   "metadata": {},
   "source": [
    "Question-2:\n",
    "\n",
    "Given a Binary tree, the task is to print the **left view** of the Binary Tree. The left view of a Binary Tree is a set of leftmost nodes for every level.\n",
    "\n",
    "**Examples:**\n",
    "\n",
    "***Input:***\n",
    "\n",
    "            4\n",
    "\n",
    "          /   \\\n",
    "\n",
    "        5     2\n",
    "\n",
    "             /   \\\n",
    "\n",
    "            3     1\n",
    "\n",
    "           /  \\\n",
    "\n",
    "          6    7\n",
    "\n",
    "***Output:** 4 5 3 6*\n",
    "\n",
    "**Explanation:**\n",
    "\n",
    "!https://media.geeksforgeeks.org/wp-content/cdn-uploads/left-view.png\n",
    "\n",
    "***Input:***\n",
    "\n",
    "                    1\n",
    "\n",
    "                  /   \\\n",
    "\n",
    "                2       3\n",
    "\n",
    "                 \\\n",
    "\n",
    "                   4\n",
    "\n",
    "                     \\\n",
    "\n",
    "                        5\n",
    "\n",
    "                           \\\n",
    "\n",
    "                             6\n",
    "\n",
    "**Output:** 1 2 4 5 6\n"
   ]
  },
  {
   "cell_type": "code",
   "execution_count": 7,
   "id": "4b670f63",
   "metadata": {},
   "outputs": [],
   "source": [
    "from collections import deque\n",
    "\n",
    "class Node:\n",
    "    def __init__(self, value):\n",
    "        self.value = value\n",
    "        self.left = None\n",
    "        self.right = None\n",
    "\n",
    "def print_left_view(root):\n",
    "    if root is None:\n",
    "        return\n",
    "\n",
    "    queue = deque()\n",
    "    queue.append(root)\n",
    "\n",
    "    while queue:\n",
    "        level_size = len(queue)\n",
    "\n",
    "        for i in range(level_size):\n",
    "            node = queue.popleft()\n",
    "\n",
    "            if i == 0:\n",
    "                print(node.value, end=\" \")\n",
    "\n",
    "            if node.left:\n",
    "                queue.append(node.left)\n",
    "            if node.right:\n",
    "                queue.append(node.right)\n",
    "\n"
   ]
  },
  {
   "cell_type": "code",
   "execution_count": 10,
   "id": "c1ff492a",
   "metadata": {},
   "outputs": [
    {
     "name": "stdout",
     "output_type": "stream",
     "text": [
      "Left View:\n",
      "4 5 3 6 "
     ]
    }
   ],
   "source": [
    "# Example usage\n",
    "root = Node(4)\n",
    "root.left = Node(5)\n",
    "root.right = Node(2)\n",
    "root.right.left = Node(3)\n",
    "root.right.right = Node(1)\n",
    "root.right.left.left = Node(6)\n",
    "root.right.left.right = Node(7)\n",
    "\n",
    "print(\"Left View:\")\n",
    "print_left_view(root)"
   ]
  },
  {
   "cell_type": "code",
   "execution_count": 11,
   "id": "3e839288",
   "metadata": {},
   "outputs": [
    {
     "name": "stdout",
     "output_type": "stream",
     "text": [
      "Left View:\n",
      "1 2 4 5 6 "
     ]
    }
   ],
   "source": [
    "# Example usage\n",
    "root = Node(1)\n",
    "root.left = Node(2)\n",
    "root.right = Node(3)\n",
    "root.left.right = Node(4)\n",
    "root.left.right.right = Node(5)\n",
    "root.left.right.right.right = Node(6)\n",
    "\n",
    "print(\"Left View:\")\n",
    "print_left_view(root)"
   ]
  },
  {
   "cell_type": "markdown",
   "id": "554d4c70",
   "metadata": {},
   "source": [
    "Question-3:\n",
    "\n",
    "Given a Binary Tree, print the Right view of it.\n",
    "\n",
    "The right view of a Binary Tree is a set of nodes visible when the tree is visited from the Right side.\n",
    "\n",
    "**Examples:**\n",
    "\n",
    "**Input:**\n",
    "\n",
    "         1\n",
    "\n",
    "      /     \\\n",
    "\n",
    "   2         3\n",
    "\n",
    "/   \\       /  \\\n",
    "\n",
    "4     5   6    7\n",
    "\n",
    "             \\\n",
    "\n",
    "               8\n",
    "\n",
    "**Output**: \n",
    "\n",
    "Right view of the tree is 1 3 7 8\n",
    "\n",
    "**Input:**\n",
    "\n",
    "         1\n",
    "\n",
    "       /\n",
    "\n",
    "    8\n",
    "\n",
    "  /\n",
    "\n",
    "7\n",
    "\n",
    "**Output**: \n",
    "\n",
    "Right view of the tree is 1 8 7\n"
   ]
  },
  {
   "cell_type": "code",
   "execution_count": 13,
   "id": "626d7bea",
   "metadata": {},
   "outputs": [],
   "source": [
    "from collections import deque\n",
    "\n",
    "class Node:\n",
    "    def __init__(self, value):\n",
    "        self.value = value\n",
    "        self.left = None\n",
    "        self.right = None\n",
    "\n",
    "def print_right_view(root):\n",
    "    if root is None:\n",
    "        return\n",
    "\n",
    "    queue = deque()\n",
    "    queue.append(root)\n",
    "\n",
    "    while queue:\n",
    "        level_size = len(queue)\n",
    "\n",
    "        for i in range(level_size):\n",
    "            node = queue.popleft()\n",
    "\n",
    "            if i == level_size - 1:\n",
    "                print(node.value, end=\" \")\n",
    "\n",
    "            if node.left:\n",
    "                queue.append(node.left)\n",
    "            if node.right:\n",
    "                queue.append(node.right)\n",
    "\n"
   ]
  },
  {
   "cell_type": "code",
   "execution_count": 14,
   "id": "fc6389af",
   "metadata": {},
   "outputs": [
    {
     "name": "stdout",
     "output_type": "stream",
     "text": [
      "Right View:\n",
      "1 3 7 8 "
     ]
    }
   ],
   "source": [
    "# Example usage\n",
    "root = Node(1)\n",
    "root.left = Node(2)\n",
    "root.right = Node(3)\n",
    "root.left.left = Node(4)\n",
    "root.left.right = Node(5)\n",
    "root.right.left = Node(6)\n",
    "root.right.right = Node(7)\n",
    "root.right.right.right = Node(8)\n",
    "\n",
    "print(\"Right View:\")\n",
    "print_right_view(root)\n"
   ]
  },
  {
   "cell_type": "code",
   "execution_count": 15,
   "id": "2a3b39cb",
   "metadata": {},
   "outputs": [
    {
     "name": "stdout",
     "output_type": "stream",
     "text": [
      "Right View:\n",
      "1 8 7 "
     ]
    }
   ],
   "source": [
    "# Example usage\n",
    "root = Node(1)\n",
    "root.left = Node(8)\n",
    "root.left.left = Node(7)\n",
    "\n",
    "\n",
    "print(\"Right View:\")\n",
    "print_right_view(root)"
   ]
  },
  {
   "cell_type": "markdown",
   "id": "6c2c268a",
   "metadata": {},
   "source": [
    "Question-4:\n",
    "\n",
    "Given a Binary Tree, The task is to print the **bottom view** from left to right. A node **x** is there in output if x is the bottommost node at its horizontal distance. The horizontal distance of the left child of a node x is equal to a horizontal distance of x minus 1, and that of a right child is the horizontal distance of x plus 1.\n",
    "\n",
    "**Examples:**\n",
    "\n",
    "**Input:**\n",
    "\n",
    "             20\n",
    "\n",
    "           /     \\\n",
    "\n",
    "        8         22\n",
    "\n",
    "    /      \\         \\\n",
    "\n",
    "5         3        25\n",
    "\n",
    "        /    \\\n",
    "\n",
    "   10       14\n",
    "\n",
    "**Output:** 5, 10, 3, 14, 25.\n",
    "\n",
    "**Input:**\n",
    "\n",
    "             20\n",
    "\n",
    "           /     \\\n",
    "\n",
    "        8         22\n",
    "\n",
    "    /      \\      /   \\\n",
    "\n",
    " 5         3    4     25\n",
    "\n",
    "         /    \\\n",
    "\n",
    "     10       14\n",
    "\n",
    "**Output:**\n",
    "\n",
    "5 10 4 14 25.\n",
    "\n",
    "**Explanation:**\n",
    "\n",
    "If there are multiple bottom-most nodes for a horizontal distance from the root, then print the later one in the level traversal.\n",
    "\n",
    "**3 and 4** are both the bottom-most nodes at a horizontal distance of 0, we need to print 4.\n"
   ]
  },
  {
   "cell_type": "code",
   "execution_count": 17,
   "id": "0f26d1ec",
   "metadata": {},
   "outputs": [],
   "source": [
    "from collections import deque\n",
    "\n",
    "class Node:\n",
    "    def __init__(self, value):\n",
    "        self.value = value\n",
    "        self.left = None\n",
    "        self.right = None\n",
    "\n",
    "def print_bottom_view(root):\n",
    "    if root is None:\n",
    "        return\n",
    "\n",
    "    queue = deque()\n",
    "    queue.append((root, 0))\n",
    "\n",
    "    bottom_view_map = {}\n",
    "\n",
    "    while queue:\n",
    "        node, horizontal_distance = queue.popleft()\n",
    "\n",
    "        bottom_view_map[horizontal_distance] = node.value\n",
    "\n",
    "        if node.left:\n",
    "            queue.append((node.left, horizontal_distance - 1))\n",
    "        if node.right:\n",
    "            queue.append((node.right, horizontal_distance + 1))\n",
    "\n",
    "    for value in sorted(bottom_view_map.keys()):\n",
    "        print(bottom_view_map[value], end=\" \")\n",
    "\n"
   ]
  },
  {
   "cell_type": "code",
   "execution_count": 18,
   "id": "d6f2e578",
   "metadata": {},
   "outputs": [
    {
     "name": "stdout",
     "output_type": "stream",
     "text": [
      "Bottom View:\n",
      "5 10 3 14 25 "
     ]
    }
   ],
   "source": [
    "# Example usage\n",
    "root = Node(20)\n",
    "root.left = Node(8)\n",
    "root.right = Node(22)\n",
    "root.left.left = Node(5)\n",
    "root.left.right = Node(3)\n",
    "root.right.right = Node(25)\n",
    "root.left.right.left = Node(10)\n",
    "root.left.right.right = Node(14)\n",
    "\n",
    "print(\"Bottom View:\")\n",
    "print_bottom_view(root)\n"
   ]
  },
  {
   "cell_type": "code",
   "execution_count": 19,
   "id": "07d485aa",
   "metadata": {},
   "outputs": [
    {
     "name": "stdout",
     "output_type": "stream",
     "text": [
      "Bottom View:\n",
      "5 10 4 14 25 "
     ]
    }
   ],
   "source": [
    "# Example usage\n",
    "root = Node(20)\n",
    "root.left = Node(8)\n",
    "root.right = Node(22)\n",
    "root.left.left = Node(5)\n",
    "root.left.right = Node(3)\n",
    "root.right.right = Node(25)\n",
    "root.right.left = Node(4)\n",
    "root.left.right.left = Node(10)\n",
    "root.left.right.right = Node(14)\n",
    "\n",
    "print(\"Bottom View:\")\n",
    "print_bottom_view(root)"
   ]
  },
  {
   "cell_type": "code",
   "execution_count": null,
   "id": "b3f39fd8",
   "metadata": {},
   "outputs": [],
   "source": []
  }
 ],
 "metadata": {
  "kernelspec": {
   "display_name": "Python 3 (ipykernel)",
   "language": "python",
   "name": "python3"
  },
  "language_info": {
   "codemirror_mode": {
    "name": "ipython",
    "version": 3
   },
   "file_extension": ".py",
   "mimetype": "text/x-python",
   "name": "python",
   "nbconvert_exporter": "python",
   "pygments_lexer": "ipython3",
   "version": "3.9.13"
  }
 },
 "nbformat": 4,
 "nbformat_minor": 5
}
