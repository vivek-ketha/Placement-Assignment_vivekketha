{
  "nbformat": 4,
  "nbformat_minor": 0,
  "metadata": {
    "colab": {
      "provenance": []
    },
    "kernelspec": {
      "name": "python3",
      "display_name": "Python 3"
    },
    "language_info": {
      "name": "python"
    }
  },
  "cells": [
    {
      "cell_type": "markdown",
      "source": [
        "<aside>\n",
        "💡 **Question 1**\n",
        "\n",
        "Given an integer `n`, return *`true` if it is a power of three. Otherwise, return `false`*.\n",
        "\n",
        "An integer `n` is a power of three, if there exists an integer `x` such that `n == 3x`.\n",
        "\n",
        "**Example 1:**\n",
        "\n",
        "```\n",
        "Input: n = 27\n",
        "Output: true\n",
        "Explanation: 27 = 33\n",
        "```\n",
        "\n",
        "**Example 2:**\n",
        "\n",
        "```\n",
        "Input: n = 0\n",
        "Output: false\n",
        "Explanation: There is no x where 3x = 0.\n",
        "\n",
        "```\n",
        "\n",
        "**Example 3:**\n",
        "\n",
        "</aside>\n",
        "Input: n = -1\n",
        "Output: false\n",
        "Explanation: There is no x where 3x = (-1)."
      ],
      "metadata": {
        "id": "c36d43dAwT6g"
      }
    },
    {
      "cell_type": "code",
      "execution_count": 1,
      "metadata": {
        "colab": {
          "base_uri": "https://localhost:8080/"
        },
        "id": "k1sBR0ClwR8T",
        "outputId": "7aa8ba9a-51a0-4292-c5d3-1327f445abbd"
      },
      "outputs": [
        {
          "output_type": "stream",
          "name": "stdout",
          "text": [
            "YES\n"
          ]
        }
      ],
      "source": [
        "# Python3 program for the above approach\n",
        "import math\n",
        "b = 27\n",
        "a = 3\n",
        "# computing power\n",
        "p = math.log(b) / math.log(a)\n",
        "# checking to see if power is an integer or not\n",
        "if (p - int(p) == 0):\n",
        "\tprint(\"YES\")\n",
        "\n",
        "else:\n",
        "\tprint(\"NO\")\n"
      ]
    },
    {
      "cell_type": "markdown",
      "source": [
        "<aside>\n",
        "💡 **Question 2**\n",
        "\n",
        "You have a list `arr` of all integers in the range `[1, n]` sorted in a strictly increasing order. Apply the following algorithm on `arr`:\n",
        "\n",
        "- Starting from left to right, remove the first number and every other number afterward until you reach the end of the list.\n",
        "- Repeat the previous step again, but this time from right to left, remove the rightmost number and every other number from the remaining numbers.\n",
        "- Keep repeating the steps again, alternating left to right and right to left, until a single number remains.\n",
        "\n",
        "Given the integer `n`, return *the last number that remains in* `arr`.\n",
        "\n",
        "**Example 1:**\n",
        "\n",
        "```\n",
        "Input: n = 9\n",
        "Output: 6\n",
        "Explanation:\n",
        "arr = [1, 2,3, 4,5, 6,7, 8,9]\n",
        "arr = [2,4, 6,8]\n",
        "arr = [2, 6]\n",
        "arr = [6]\n",
        "\n",
        "```\n",
        "\n",
        "**Example 2:**\n",
        "\n",
        "</aside>\n",
        "Input: n = 1\n",
        "Output: 1"
      ],
      "metadata": {
        "id": "O2-qHHVqw85X"
      }
    },
    {
      "cell_type": "code",
      "source": [
        "def lastRemaining(n):\n",
        "    \"\"\"\n",
        "    :type n: int\n",
        "    :rtype: int\n",
        "    \"\"\"\n",
        "    nums = [i for i in range(1, n+1)]\n",
        "    left_to_right = True\n",
        "    while len(nums) > 1:\n",
        "        if left_to_right:\n",
        "            nums = nums[1::2]\n",
        "            left_to_right = False\n",
        "        else:\n",
        "            nums = nums[-2::-2][::-1]\n",
        "            left_to_right = True\n",
        "    return nums[0]"
      ],
      "metadata": {
        "id": "yhqEaNRgw2oq"
      },
      "execution_count": 6,
      "outputs": []
    },
    {
      "cell_type": "code",
      "source": [
        "lastRemaining(9)"
      ],
      "metadata": {
        "colab": {
          "base_uri": "https://localhost:8080/"
        },
        "id": "8eRHUgLwxyhf",
        "outputId": "a26c52f3-2f06-4e66-af5b-ff1a51efbe5d"
      },
      "execution_count": 7,
      "outputs": [
        {
          "output_type": "execute_result",
          "data": {
            "text/plain": [
              "6"
            ]
          },
          "metadata": {},
          "execution_count": 7
        }
      ]
    },
    {
      "cell_type": "markdown",
      "source": [
        "<aside>\n",
        "💡 **Question 3**\n",
        "\n",
        "****Given a set represented as a string, write a recursive code to print all subsets of it. The subsets can be printed in any order.\n",
        "\n",
        "**Example 1:**\n",
        "\n",
        "Input :  set = “abc”\n",
        "\n",
        "Output : { “”, “a”, “b”, “c”, “ab”, “ac”, “bc”, “abc”}\n",
        "\n",
        "**Example 2:**\n",
        "\n",
        "Input : set = “abcd”\n",
        "\n",
        "Output : { “”, “a” ,”ab” ,”abc” ,”abcd”, “abd” ,”ac” ,”acd”, “ad” ,”b”, “bc” ,”bcd” ,”bd” ,”c” ,”cd” ,”d” }\n",
        "\n",
        "</aside>"
      ],
      "metadata": {
        "id": "mhY9AwWYx7eH"
      }
    },
    {
      "cell_type": "code",
      "source": [
        "# Python3 program to generate power set\n",
        "\n",
        "# str : Stores input string\n",
        "# curr : Stores current subset\n",
        "# index : Index in current subset, curr\n",
        "\n",
        "\n",
        "def powerSet(str1, index, curr):\n",
        "\tn = len(str1)\n",
        "\n",
        "\t# base case\n",
        "\tif (index == n):\n",
        "\t\treturn\n",
        "\n",
        "\t# First print current subset\n",
        "\tprint(curr)\n",
        "\n",
        "\t# Try appending remaining characters\n",
        "\t# to current subset\n",
        "\tfor i in range(index + 1, n):\n",
        "\t\tcurr += str1[i]\n",
        "\t\tpowerSet(str1, i, curr)\n",
        "\n",
        "\t\t# Once all subsets beginning with\n",
        "\t\t# initial \"curr\" are printed, remove\n",
        "\t\t# last character to consider a different\n",
        "\t\t# prefix of subsets.\n",
        "\t\tcurr = curr.replace(curr[len(curr) - 1], \"\")\n",
        "\n",
        "\treturn\n",
        "\n",
        "\n",
        "# Driver code\n",
        "if __name__ == '__main__':\n",
        "\tstr = \"abcd\"\n",
        "\tpowerSet(str, -1, \"\")\n"
      ],
      "metadata": {
        "colab": {
          "base_uri": "https://localhost:8080/"
        },
        "id": "vhiIh08Ex1vO",
        "outputId": "3e7f2b89-2e36-483e-b1c0-38ba8c34a70d"
      },
      "execution_count": 8,
      "outputs": [
        {
          "output_type": "stream",
          "name": "stdout",
          "text": [
            "\n",
            "a\n",
            "ab\n",
            "abc\n",
            "abcd\n",
            "abd\n",
            "ac\n",
            "acd\n",
            "ad\n",
            "b\n",
            "bc\n",
            "bcd\n",
            "bd\n",
            "c\n",
            "cd\n",
            "d\n"
          ]
        }
      ]
    },
    {
      "cell_type": "markdown",
      "source": [
        "<aside>\n",
        "💡 **Question 4**\n",
        "\n",
        "Given a string calculate length of the string using recursion.\n",
        "\n",
        "**Examples:**\n",
        "\n",
        "</aside>\n",
        "Input : str = \"abcd\"\n",
        "Output :4\n",
        "\n",
        "Input : str = \"GEEKSFORGEEKS\"\n",
        "Output :13"
      ],
      "metadata": {
        "id": "crsuL5KJzlnH"
      }
    },
    {
      "cell_type": "code",
      "source": [
        "def length(str):\n",
        "    if str == \"\":\n",
        "        return 0\n",
        "    return 1 + length(str[1:])\n",
        "\n",
        "\n",
        "str = \"abcd\"\n",
        "print(\"length of\", str, \"is\", length(str))"
      ],
      "metadata": {
        "colab": {
          "base_uri": "https://localhost:8080/"
        },
        "id": "Z3fbzYaEzZET",
        "outputId": "316fc33b-ad44-4ed9-b995-3644b8efde0a"
      },
      "execution_count": 10,
      "outputs": [
        {
          "output_type": "stream",
          "name": "stdout",
          "text": [
            "length of abcd is 4\n"
          ]
        }
      ]
    },
    {
      "cell_type": "markdown",
      "source": [
        "<aside>\n",
        "💡 **Question 5**\n",
        "\n",
        "We are given a string S, we need to find count of all contiguous substrings starting and ending with same character.\n",
        "\n",
        "**Examples :**\n",
        "\n",
        "</aside>\n",
        "Input  : S = \"abcab\"\n",
        "Output : 7\n",
        "There are 15 substrings of \"abcab\"\n",
        "a, ab, abc, abca, abcab, b, bc, bca\n",
        "bcab, c, ca, cab, a, ab, b\n",
        "Out of the above substrings, there\n",
        "are 7 substrings : a, abca, b, bcab,\n",
        "c, a and b.\n",
        "\n",
        "Input  : S = \"aba\"\n",
        "Output : 4\n",
        "The substrings are a, b, a and aba"
      ],
      "metadata": {
        "id": "wUjKcMBbzxaQ"
      }
    },
    {
      "cell_type": "code",
      "source": [
        "\t\n",
        "# Python program to count all substrings with same\n",
        "# first and last characters.\n",
        "\n",
        "# Returns true if first and last characters\n",
        "# of s are same.\n",
        "def checkEquality(s):\n",
        "\treturn (ord(s[0]) == ord(s[len(s) - 1]));\n",
        "\n",
        "def countSubstringWithEqualEnds(s):\n",
        "\tresult = 0;\n",
        "\tn = len(s);\n",
        "\n",
        "\t# Starting point of substring\n",
        "\tfor i in range(n):\n",
        "\n",
        "\t# Length of substring\n",
        "\t\tfor j in range(1,n-i+1):\n",
        "\n",
        "\t\t# Check if current substring has same\n",
        "\t\t# starting and ending characters.\n",
        "\t\t\tif (checkEquality(s[i:i+j])):\n",
        "\t\t\t\tresult+=1;\n",
        "\n",
        "\treturn result;\n",
        "\n",
        "# Driver code\n",
        "s = \"abcab\";\n",
        "print(countSubstringWithEqualEnds(s));\n",
        "\n"
      ],
      "metadata": {
        "colab": {
          "base_uri": "https://localhost:8080/"
        },
        "id": "nZAQy8pzz5F0",
        "outputId": "862bc861-a1f6-4ef5-c46b-b8ee5199c864"
      },
      "execution_count": 11,
      "outputs": [
        {
          "output_type": "stream",
          "name": "stdout",
          "text": [
            "7\n"
          ]
        }
      ]
    },
    {
      "cell_type": "markdown",
      "source": [
        "\n",
        "💡 **Question 6**\n",
        "\n",
        "The [tower of Hanoi](https://en.wikipedia.org/wiki/Tower_of_Hanoi) is a famous puzzle where we have three rods and **N** disks. The objective of the puzzle is to move the entire stack to another rod. You are given the number of discs **N**. Initially, these discs are in the rod 1. You need to print all the steps of discs movement so that all the discs reach the 3rd rod. Also, you need to find the total moves.**Note:** The discs are arranged such that the **top disc is numbered 1** and the **bottom-most disc is numbered N**. Also, all the discs have **different sizes** and a bigger disc **cannot** be put on the top of a smaller disc. Refer the provided link to get a better clarity about the puzzle.\n",
        "\n",
        "**Example 1:**\n",
        "\n",
        "```\n",
        "Input:\n",
        "N = 2\n",
        "Output:\n",
        "move disk 1 from rod 1 to rod 2\n",
        "move disk 2 from rod 1 to rod 3\n",
        "move disk 1 from rod 2 to rod 3\n",
        "3\n",
        "Explanation:For N=2 , steps will be\n",
        "as follows in the example and total\n",
        "3 steps will be taken.\n",
        "```\n",
        "\n",
        "**Example 2:**\n",
        "\n",
        "</aside>\n",
        "Input:\n",
        "N = 3\n",
        "Output:\n",
        "move disk 1 from rod 1 to rod 3\n",
        "move disk 2 from rod 1 to rod 2\n",
        "move disk 1 from rod 3 to rod 2\n",
        "move disk 3 from rod 1 to rod 3\n",
        "move disk 1 from rod 2 to rod 1\n",
        "move disk 2 from rod 2 to rod 3\n",
        "move disk 1 from rod 1 to rod 3\n",
        "7\n",
        "Explanation:For N=3 , steps will be\n",
        "as follows in the example and total\n",
        "7 steps will be taken.\n"
      ],
      "metadata": {
        "id": "9yi6du_Wz_AK"
      }
    },
    {
      "cell_type": "code",
      "source": [
        "def move(disks, source=1, auxiliary=2, target=3):\n",
        " \n",
        "    if disks > 0:\n",
        " \n",
        "        # move `n-1` discs from source to auxiliary using the target\n",
        "        # as an intermediate pole\n",
        "        move(disks - 1, source, target, auxiliary)\n",
        " \n",
        "        # move one disc from source to target\n",
        "        print(f'Move disk {disks} from {source} —> {target}')\n",
        " \n",
        "        # move `n-1` discs from auxiliary to target using the source\n",
        "        # as an intermediate pole\n",
        "        move(disks - 1, auxiliary, source, target)\n",
        " \n",
        " \n",
        "# Tower of Hanoi Problem\n",
        "if __name__ == '__main__':\n",
        " \n",
        "    n = 2\n",
        "    move(n)"
      ],
      "metadata": {
        "colab": {
          "base_uri": "https://localhost:8080/"
        },
        "id": "qooow37H0B0K",
        "outputId": "1b038a29-3442-42cd-b006-314b8e12c6fe"
      },
      "execution_count": 12,
      "outputs": [
        {
          "output_type": "stream",
          "name": "stdout",
          "text": [
            "Move disk 1 from 1 —> 2\n",
            "Move disk 2 from 1 —> 3\n",
            "Move disk 1 from 2 —> 3\n"
          ]
        }
      ]
    },
    {
      "cell_type": "markdown",
      "source": [
        "<aside>\n",
        "💡 **Question 7**\n",
        "\n",
        "Given a string **str**, the task is to print all the permutations of **str**. A **permutation** is an arrangement of all or part of a set of objects, with regard to the order of the arrangement. For instance, the words ‘bat’ and ‘tab’ represents two distinct permutation (or arrangements) of a similar three letter word.\n",
        "\n",
        "**Examples:**\n",
        "\n",
        "> Input: str = “cd”\n",
        "> \n",
        "> \n",
        "> **Output:** cd dc\n",
        "> \n",
        "> **Input:** str = “abb”\n",
        "> \n",
        "> **Output:** abb abb bab bba bab bba\n",
        "> \n",
        "</aside>"
      ],
      "metadata": {
        "id": "-dXaCqhX0iNM"
      }
    },
    {
      "cell_type": "code",
      "source": [
        "# Python program to print all permutations\n",
        "# with duplicates allowed\n",
        "def toString(List):\n",
        "\treturn ''.join(List)\n",
        "\n",
        "# Function to print permutations\n",
        "# of string\n",
        "# This function takes three parameters:\n",
        "# 1. String\n",
        "# 2. Starting index of the string\n",
        "# 3. Ending index of the string.\n",
        "def permute(a, l, r):\n",
        "\tif l == r:\n",
        "\t\tprint (toString(a))\n",
        "\telse:\n",
        "\t\tfor i in range(l, r + 1):\n",
        "\t\t\ta[l], a[i] = a[i], a[l]\n",
        "\t\t\tpermute(a, l + 1, r)\n",
        "\n",
        "\t\t\t# backtrack\n",
        "\t\t\ta[l], a[i] = a[i], a[l]\n",
        "\n",
        "# Driver code\n",
        "string = \"abb\"\n",
        "n = len(string)\n",
        "a = list(string)\n",
        "permute(a, 0, n-1)\n",
        "\n"
      ],
      "metadata": {
        "colab": {
          "base_uri": "https://localhost:8080/"
        },
        "id": "lg-_53UN0tFm",
        "outputId": "6f5595a2-2a3b-445c-f28f-2714af7f4f97"
      },
      "execution_count": 13,
      "outputs": [
        {
          "output_type": "stream",
          "name": "stdout",
          "text": [
            "abb\n",
            "abb\n",
            "bab\n",
            "bba\n",
            "bba\n",
            "bab\n"
          ]
        }
      ]
    },
    {
      "cell_type": "markdown",
      "source": [
        "<aside>\n",
        "💡 **Question 8**\n",
        "\n",
        "Given a string, count total number of consonants in it. A consonant is an English alphabet character that is not vowel (a, e, i, o and u). Examples of constants are b, c, d, f, and g.\n",
        "\n",
        "**Examples :**\n",
        "\n",
        "</aside>\n",
        "Input : abc de\n",
        "Output : 3\n",
        "There are three consonants b, c and d.\n",
        "\n",
        "Input : geeksforgeeks portal\n",
        "Output : 12"
      ],
      "metadata": {
        "id": "xEpSjChQ0yyY"
      }
    },
    {
      "cell_type": "code",
      "source": [
        "vcount = 0;  \n",
        "ccount = 0;  \n",
        "str = \"abcde\" \n",
        "   \n",
        "#Converting entire string to lower case to reduce the comparisons  \n",
        "str = str.lower();  \n",
        "for i in range(0,len(str)):   \n",
        "    #Checks whether a character is a vowel  \n",
        "    if str[i] in ('a',\"e\",\"i\",\"o\",\"u\"):  \n",
        "        vcount = vcount + 1;  \n",
        "    elif (str[i] >= 'a' and str[i] <= 'z'):  \n",
        "        ccount = ccount + 1;  \n",
        "print(\"Total number of vowel and consonant are\" );  \n",
        "print(vcount);  \n",
        "print(ccount);  "
      ],
      "metadata": {
        "colab": {
          "base_uri": "https://localhost:8080/"
        },
        "id": "vDn6KpTZ0wUT",
        "outputId": "6606b484-5acd-4940-cdbb-cdfe795ea936"
      },
      "execution_count": 15,
      "outputs": [
        {
          "output_type": "stream",
          "name": "stdout",
          "text": [
            "Total number of vowel and consonant are\n",
            "2\n",
            "3\n"
          ]
        }
      ]
    },
    {
      "cell_type": "code",
      "source": [],
      "metadata": {
        "id": "amJq500p1Ll1"
      },
      "execution_count": null,
      "outputs": []
    }
  ]
}